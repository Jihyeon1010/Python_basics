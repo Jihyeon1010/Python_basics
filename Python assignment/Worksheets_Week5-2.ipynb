{
 "cells": [
  {
   "cell_type": "markdown",
   "metadata": {},
   "source": [
    "Q1"
   ]
  },
  {
   "cell_type": "code",
   "execution_count": 1,
   "metadata": {},
   "outputs": [
    {
     "name": "stdout",
     "output_type": "stream",
     "text": [
      "The length of the string is: 11\n"
     ]
    }
   ],
   "source": [
    "# Taking input from the user\n",
    "user_input = input(\"Enter a string: \")\n",
    "\n",
    "# Calculating the length of the string\n",
    "length = len(user_input)\n",
    "\n",
    "# Displaying the result\n",
    "print(f\"The length of the string is: {length}\")"
   ]
  },
  {
   "cell_type": "markdown",
   "metadata": {},
   "source": [
    "Q2"
   ]
  },
  {
   "cell_type": "code",
   "execution_count": 4,
   "metadata": {},
   "outputs": [
    {
     "name": "stdout",
     "output_type": "stream",
     "text": [
      "The sum of the numbers is: 41\n",
      "The product of the numbers is: 30030\n"
     ]
    }
   ],
   "source": [
    "# Take input from the user for a list of numbers\n",
    "input_numbers = input(\"Enter a list of numbers separated by spaces: \")\n",
    "\n",
    "# Convert the input string into a list of integers\n",
    "numbers = [int(num) for num in input_numbers.split()]\n",
    "\n",
    "# Calculate the sum of all items in the list\n",
    "sum_result = sum(numbers)\n",
    "\n",
    "# Calculate the product (multiply) of all items in the list\n",
    "product_result = 1  # Initialize to 1, as multiplying by 0 would always result in 0\n",
    "for number in numbers:\n",
    "    product_result *= number\n",
    "\n",
    "# Displaying the results\n",
    "print(f\"The sum of the numbers is: {sum_result}\")\n",
    "print(f\"The product of the numbers is: {product_result}\")"
   ]
  },
  {
   "cell_type": "markdown",
   "metadata": {},
   "source": [
    "Q3"
   ]
  },
  {
   "cell_type": "code",
   "execution_count": 6,
   "metadata": {},
   "outputs": [
    {
     "name": "stdout",
     "output_type": "stream",
     "text": [
      "The largest number in the list is: 56\n"
     ]
    }
   ],
   "source": [
    "# Take input from the user for a list of numbers\n",
    "input_numbers = input(\"Enter a list of numbers separated by spaces: \")\n",
    "\n",
    "# Convert the input string into a list of integers\n",
    "numbers = [int(num) for num in input_numbers.split()]\n",
    "\n",
    "# Find the largest number in the list\n",
    "largest_number = max(numbers)\n",
    "\n",
    "# Displaying the result\n",
    "print(f\"The largest number in the list is: {largest_number}\")"
   ]
  },
  {
   "cell_type": "markdown",
   "metadata": {},
   "source": [
    "Q4"
   ]
  },
  {
   "cell_type": "code",
   "execution_count": 7,
   "id": "initial_id",
   "metadata": {
    "collapsed": true
   },
   "outputs": [
    {
     "name": "stdout",
     "output_type": "stream",
     "text": [
      "The smallest number in the list is: 2\n"
     ]
    }
   ],
   "source": [
    "# Take input from the user for a list of numbers\n",
    "input_numbers = input(\"Enter a list of numbers separated by spaces: \")\n",
    "\n",
    "# Convert the input string into a list of integers\n",
    "numbers = [int(num) for num in input_numbers.split()]\n",
    "\n",
    "# Find the smallest number in the list\n",
    "smallest_number = min(numbers)\n",
    "\n",
    "# Displaying the result\n",
    "print(f\"The smallest number in the list is: {smallest_number}\")"
   ]
  },
  {
   "cell_type": "markdown",
   "id": "c25f7b62df0c8cb9",
   "metadata": {
    "collapsed": false
   },
   "source": [
    "Q5"
   ]
  },
  {
   "cell_type": "code",
   "execution_count": 8,
   "id": "fe9d6f0cfd8af221",
   "metadata": {
    "ExecuteTime": {
     "end_time": "2023-11-19T18:27:08.761808Z",
     "start_time": "2023-11-19T18:27:04.813491Z"
    },
    "collapsed": false
   },
   "outputs": [
    {
     "name": "stdout",
     "output_type": "stream",
     "text": [
      "Character frequency (sorted from most to least):\n",
      "{'o': 3, 'g': 2, 'l': 1, 'e': 1, '.': 1, 'c': 1, 'm': 1}\n"
     ]
    }
   ],
   "source": [
    "# Sample String\n",
    "input_string = \"google.com\"\n",
    "\n",
    "# Counting character frequency\n",
    "char_frequency = {}\n",
    "for char in input_string:\n",
    "    char_frequency[char] = char_frequency.get(char, 0) + 1\n",
    "\n",
    "# Organizing the character frequency dictionary by frequency (from most to least)\n",
    "sorted_char_frequency = dict(sorted(char_frequency.items(), key=lambda x: x[1], reverse=True))\n",
    "\n",
    "# Displaying the result\n",
    "print(\"Character frequency (sorted from most to least):\")\n",
    "print(sorted_char_frequency)"
   ]
  },
  {
   "cell_type": "markdown",
   "metadata": {},
   "source": [
    "Q6"
   ]
  },
  {
   "cell_type": "code",
   "execution_count": 9,
   "metadata": {},
   "outputs": [
    {
     "name": "stdout",
     "output_type": "stream",
     "text": [
      "Number of strings meeting the criteria: 2\n"
     ]
    }
   ],
   "source": [
    "# Sample List of Strings\n",
    "string_list = ['abc', 'xyz', 'aba', '1221']\n",
    "\n",
    "# Counting strings where the length is 2 or more and the first and last characters are the same\n",
    "count = sum(1 for s in string_list if len(s) >= 2 and s[0] == s[-1])\n",
    "\n",
    "# Displaying the result\n",
    "print(\"Number of strings meeting the criteria:\", count)"
   ]
  },
  {
   "cell_type": "markdown",
   "metadata": {},
   "source": [
    "Q7"
   ]
  },
  {
   "cell_type": "code",
   "execution_count": 10,
   "id": "ed0384e45d999c4d",
   "metadata": {
    "collapsed": false
   },
   "outputs": [
    {
     "name": "stdout",
     "output_type": "stream",
     "text": [
      "Original List: [2, 5, 1, 4, 3]\n",
      "Sorted List (increasing order): [1, 2, 3, 4, 5]\n"
     ]
    }
   ],
   "source": [
    "# Sample List\n",
    "original_list = [2, 5, 1, 4, 3]\n",
    "\n",
    "# Sorting the list in increasing order\n",
    "sorted_list = sorted(original_list)\n",
    "\n",
    "# Displaying the result\n",
    "print(\"Original List:\", original_list)\n",
    "print(\"Sorted List (increasing order):\", sorted_list)"
   ]
  },
  {
   "cell_type": "markdown",
   "metadata": {},
   "source": [
    "Q8"
   ]
  },
  {
   "cell_type": "code",
   "execution_count": 11,
   "metadata": {},
   "outputs": [
    {
     "name": "stdout",
     "output_type": "stream",
     "text": [
      "Sample String 1: stng\n",
      "Sample String 2: w3w3\n",
      "Sample String 3: \n"
     ]
    }
   ],
   "source": [
    "# Function to create a new string based on the given rules\n",
    "def create_new_string(input_string):\n",
    "    if len(input_string) < 2:\n",
    "        return \"\"  # Return empty string for input strings with length less than 2\n",
    "    else:\n",
    "        return input_string[:2] + input_string[-2:]\n",
    "\n",
    "# Sample Strings\n",
    "sample_string1 = 'stringtesting'\n",
    "sample_string2 = 'w3'\n",
    "sample_string3 = 'w'\n",
    "\n",
    "# Displaying the results\n",
    "print(\"Sample String 1:\", create_new_string(sample_string1))\n",
    "print(\"Sample String 2:\", create_new_string(sample_string2))\n",
    "print(\"Sample String 3:\", create_new_string(sample_string3))"
   ]
  },
  {
   "cell_type": "markdown",
   "metadata": {},
   "source": [
    "Q9"
   ]
  },
  {
   "cell_type": "code",
   "execution_count": 12,
   "metadata": {},
   "outputs": [
    {
     "name": "stdout",
     "output_type": "stream",
     "text": [
      "Original String: restart\n",
      "Modified String: resta$t\n"
     ]
    }
   ],
   "source": [
    "# Function to modify the string as per the specified rule\n",
    "def modify_string(input_string):\n",
    "    if len(input_string) < 2:\n",
    "        return input_string  # If the string has length less than 2, no modification needed\n",
    "    else:\n",
    "        first_char = input_string[0]\n",
    "        modified_string = first_char + input_string[1:].replace(first_char, '$')\n",
    "        return modified_string\n",
    "\n",
    "# Sample String\n",
    "sample_string = 'restart'\n",
    "\n",
    "# Displaying the result\n",
    "print(\"Original String:\", sample_string)\n",
    "print(\"Modified String:\", modify_string(sample_string))"
   ]
  },
  {
   "cell_type": "markdown",
   "metadata": {},
   "source": [
    "Q10"
   ]
  },
  {
   "cell_type": "code",
   "execution_count": 13,
   "metadata": {},
   "outputs": [
    {
     "name": "stdout",
     "output_type": "stream",
     "text": [
      "Sample Strings: abc , xyz\n",
      "Result after swapping and combining: xyc abz\n"
     ]
    }
   ],
   "source": [
    "# Function to perform the specified operation\n",
    "def swap_and_combine(str1, str2):\n",
    "    # Check if both strings have at least two characters\n",
    "    if len(str1) >= 2 and len(str2) >= 2:\n",
    "        # Swap the first two characters of each string\n",
    "        swapped_str1 = str2[:2] + str1[2:]\n",
    "        swapped_str2 = str1[:2] + str2[2:]\n",
    "\n",
    "        # Combine the swapped strings with a space in between\n",
    "        result = swapped_str1 + ' ' + swapped_str2\n",
    "        return result\n",
    "    else:\n",
    "        return \"Strings should have at least two characters for swapping.\"\n",
    "\n",
    "# Sample Strings\n",
    "string1 = 'abc'\n",
    "string2 = 'xyz'\n",
    "\n",
    "# Displaying the result\n",
    "print(\"Sample Strings:\", string1, \",\", string2)\n",
    "print(\"Result after swapping and combining:\", swap_and_combine(string1, string2))"
   ]
  },
  {
   "cell_type": "markdown",
   "metadata": {},
   "source": [
    "Q11"
   ]
  },
  {
   "cell_type": "code",
   "execution_count": 14,
   "metadata": {},
   "outputs": [
    {
     "name": "stdout",
     "output_type": "stream",
     "text": [
      "Sample String 1: abc\n",
      "Modified String 1: abcing\n",
      "\n",
      "Sample String 2: string\n",
      "Modified String 2: stringly\n"
     ]
    }
   ],
   "source": [
    "# Function to modify the string as per the specified rule\n",
    "def modify_string(input_string):\n",
    "    if len(input_string) < 3:\n",
    "        return input_string  # If the string has length less than 3, no modification needed\n",
    "    elif input_string[-3:] == 'ing':\n",
    "        return input_string + 'ly'  # If the string already ends with 'ing', add 'ly'\n",
    "    else:\n",
    "        return input_string + 'ing'  # Otherwise, add 'ing'\n",
    "\n",
    "# Sample Strings\n",
    "sample_string1 = 'abc'\n",
    "sample_string2 = 'string'\n",
    "\n",
    "# Displaying the results\n",
    "print(\"Sample String 1:\", sample_string1)\n",
    "print(\"Modified String 1:\", modify_string(sample_string1))\n",
    "print(\"\\nSample String 2:\", sample_string2)\n",
    "print(\"Modified String 2:\", modify_string(sample_string2))"
   ]
  },
  {
   "cell_type": "markdown",
   "metadata": {},
   "source": [
    "Q12"
   ]
  },
  {
   "cell_type": "code",
   "execution_count": 1,
   "metadata": {},
   "outputs": [
    {
     "name": "stdout",
     "output_type": "stream",
     "text": [
      "Sample String: The lyrics is not that poor!\n",
      "Result after replacement: The lyrics is not that poor!\n"
     ]
    }
   ],
   "source": [
    "#function to replace 'not'...'poor' with 'good' if 'bad' follows 'poor'\n",
    "def replace_substring(input_string):\n",
    "    #find the index of the first occurrence of 'not' in the input string\n",
    "    #find the index of the first occurrence of 'poor' in the input string\n",
    "    index_not = input_string.find('not')\n",
    "    index_poor = input_string.find('poor')\n",
    "    #check if both 'not' and 'poor' are present in the string, and if 'not' appears before 'poor'\n",
    "    if index_not != -1 and index_poor != -1 and index_not < index_poor:\n",
    "        #find the index of 'bad' that follows 'poor'\n",
    "        index_bad = input_string.find('bad', index_poor)\n",
    "        #if 'bad' is found, replace the substring 'not'...'poor'...'bad' with 'good'\n",
    "        if index_bad != -1:\n",
    "            return input_string[:index_not] + 'good' + input_string[index_bad + 3:]\n",
    "    #return the input string unchanged if the conditions are not met\n",
    "    return input_string\n",
    "\n",
    "#sample String\n",
    "sample_string = 'The lyrics is not that poor!'\n",
    "\n",
    "#displaying the result\n",
    "print(\"Sample String:\", sample_string)\n",
    "print(\"Result after replacement:\", replace_substring(sample_string))"
   ]
  },
  {
   "cell_type": "markdown",
   "metadata": {},
   "source": [
    "Q13"
   ]
  },
  {
   "cell_type": "code",
   "execution_count": 2,
   "metadata": {},
   "outputs": [
    {
     "name": "stdout",
     "output_type": "stream",
     "text": [
      "The length of the longest word is: 10\n"
     ]
    }
   ],
   "source": [
    "def find_longest_word(word_list):\n",
    "    #if the word list is not exist \n",
    "    if not word_list:\n",
    "        return 0  # Return 0 if the list is empty\n",
    "    #longest_length is chech the length\n",
    "    longest_length = len(word_list[0])\n",
    "    #iterate through the remaining words in the list\n",
    "    for word in word_list[1:]:\n",
    "        #check the length of the current word\n",
    "        current_length = len(word)\n",
    "        #update the longest_length if the current word is longer\n",
    "        if current_length > longest_length:\n",
    "            longest_length = current_length\n",
    "\n",
    "    #return the length of the longest word in the list\n",
    "    return longest_length\n",
    "\n",
    "#word list:\n",
    "words = ['apple', 'banana', 'kiwi', 'orange', 'strawberry']\n",
    "result = find_longest_word(words)\n",
    "#print the result\n",
    "print(f\"The length of the longest word is: {result}\")"
   ]
  },
  {
   "cell_type": "markdown",
   "metadata": {},
   "source": [
    "Q14"
   ]
  },
  {
   "cell_type": "code",
   "execution_count": 17,
   "metadata": {},
   "outputs": [
    {
     "name": "stdout",
     "output_type": "stream",
     "text": [
      "5 is an integer.\n"
     ]
    }
   ],
   "source": [
    "def is_integer(input_value):\n",
    "    try:\n",
    "        #attempt to convert the input to an integer\n",
    "        int_value = int(input_value)\n",
    "        #return the value is true\n",
    "        return True\n",
    "    except ValueError:\n",
    "        #valueError is raised if the conversion is not possible\n",
    "        return False\n",
    "\n",
    "#input usage:\n",
    "user_input = input(\"Enter a value: \")\n",
    "#if the user input is integer print the message is an integer\n",
    "#in terms of opposing circumstance print the message that is not integer\n",
    "if is_integer(user_input):\n",
    "    print(f\"{user_input} is an integer.\")\n",
    "else:\n",
    "    print(f\"{user_input} is not an integer.\")"
   ]
  },
  {
   "cell_type": "markdown",
   "metadata": {},
   "source": [
    "Q15"
   ]
  },
  {
   "cell_type": "code",
   "execution_count": 34,
   "metadata": {},
   "outputs": [
    {
     "name": "stdout",
     "output_type": "stream",
     "text": [
      "Ascending Order: {1: 10, 2: 20, 3: 30, 4: 40, 5: 50}\n",
      "Descending Order: {5: 50, 4: 40, 3: 30, 2: 20, 1: 10}\n"
     ]
    }
   ],
   "source": [
    "#sample Dictionary\n",
    "sample_dict = {3: 30, 1: 10, 2: 20, 5: 50, 4: 40}\n",
    "\n",
    "#sorting the dictionary by value in ascending order\n",
    "ascending_dict = dict(sorted(sample_dict.items(), key=lambda item: item[1]))\n",
    "#print the result\n",
    "print(\"Ascending Order:\", ascending_dict)\n",
    "\n",
    "#sorting the dictionary by value in descending order\n",
    "descending_dict = dict(sorted(sample_dict.items(), key=lambda item: item[1], reverse=True))\n",
    "#print the result\n",
    "print(\"Descending Order:\", descending_dict)"
   ]
  },
  {
   "cell_type": "markdown",
   "metadata": {},
   "source": [
    "Q16"
   ]
  },
  {
   "cell_type": "code",
   "execution_count": 4,
   "metadata": {},
   "outputs": [
    {
     "name": "stdout",
     "output_type": "stream",
     "text": [
      "Ascending Order: {1: 10, 2: 20, 3: 30, 4: 40, 5: 50}\n",
      "Descending Order: {5: 50, 4: 40, 3: 30, 2: 20, 1: 10}\n"
     ]
    }
   ],
   "source": [
    "#sample Dictionary\n",
    "sample_dict = {3: 30, 1: 10, 2: 20, 5: 50, 4: 40}\n",
    "\n",
    "#sorting the dictionary by key in ascending order\n",
    "ascending_dict = dict(sorted(sample_dict.items()))\n",
    "print(\"Ascending Order:\", ascending_dict)\n",
    "\n",
    "#sorting the dictionary by key in descending order\n",
    "descending_dict = dict(sorted(sample_dict.items(), reverse=True))\n",
    "print(\"Descending Order:\", descending_dict)"
   ]
  },
  {
   "cell_type": "markdown",
   "metadata": {},
   "source": [
    "Q17"
   ]
  },
  {
   "cell_type": "code",
   "execution_count": 3,
   "metadata": {},
   "outputs": [
    {
     "name": "stdout",
     "output_type": "stream",
     "text": [
      "Updated Dictionary: {0: 10, 1: 20, 2: 30}\n"
     ]
    }
   ],
   "source": [
    "#sample Dictionary\n",
    "sample_dict = {0: 10, 1: 20}\n",
    "\n",
    "#adding a key to the dictionary\n",
    "new_key = 2\n",
    "new_value = 30\n",
    "sample_dict[new_key] = new_value\n",
    "\n",
    "#displaying the result\n",
    "print(\"Updated Dictionary:\", sample_dict)"
   ]
  },
  {
   "cell_type": "markdown",
   "metadata": {},
   "source": [
    "Q18"
   ]
  },
  {
   "cell_type": "code",
   "execution_count": 30,
   "metadata": {},
   "outputs": [
    {
     "name": "stdout",
     "output_type": "stream",
     "text": [
      "Concatenated Dictionary: {1: 10, 2: 20, 3: 30, 4: 40, 5: 50, 6: 60}\n"
     ]
    }
   ],
   "source": [
    "#sample Dictionaries\n",
    "dic1 = {1: 10, 2: 20}\n",
    "dic2 = {3: 30, 4: 40}\n",
    "dic3 = {5: 50, 6: 60}\n",
    "\n",
    "#concatenating the dictionaries to create a new one\n",
    "result_dict = {**dic1, **dic2, **dic3}\n",
    "\n",
    "#displaying the result\n",
    "print(\"Concatenated Dictionary:\", result_dict)"
   ]
  },
  {
   "cell_type": "markdown",
   "metadata": {},
   "source": [
    "Q19"
   ]
  },
  {
   "cell_type": "code",
   "execution_count": 37,
   "metadata": {},
   "outputs": [
    {
     "name": "stdout",
     "output_type": "stream",
     "text": [
      "The key 'a' exists in the dictionary.\n"
     ]
    }
   ],
   "source": [
    "def check_key_existence(input_dict, key):\n",
    "    #return input_dict include key\n",
    "    return key in input_dict\n",
    "\n",
    "#example usage:\n",
    "sample_dict = {'a': 10, 'b': 20, 'c': 30}\n",
    "\n",
    "user_key = input(\"Enter a key to check: \")\n",
    "#if exists in the dictionary print the message \n",
    "#else does not exist in the dictionary \n",
    "if check_key_existence(sample_dict, user_key):\n",
    "    print(f\"The key '{user_key}' exists in the dictionary.\")\n",
    "else:\n",
    "    print(f\"The key '{user_key}' does not exist in the dictionary.\")"
   ]
  },
  {
   "cell_type": "markdown",
   "metadata": {},
   "source": [
    "Q20"
   ]
  },
  {
   "cell_type": "code",
   "execution_count": 38,
   "metadata": {},
   "outputs": [
    {
     "name": "stdout",
     "output_type": "stream",
     "text": [
      "Iterating over key-value pairs:\n",
      "a: 10, b: 20, c: 30, "
     ]
    }
   ],
   "source": [
    "#sample Dictionary\n",
    "sample_dict = {'a': 10, 'b': 20, 'c': 30}\n",
    "\n",
    "#iterating over key-value pairs\n",
    "print(\"Iterating over key-value pairs:\")\n",
    "for key, value in sample_dict.items():\n",
    "    print(f\"{key}: {value}\", end=', ')"
   ]
  },
  {
   "cell_type": "markdown",
   "metadata": {},
   "source": [
    "Q21"
   ]
  },
  {
   "cell_type": "code",
   "execution_count": 35,
   "metadata": {},
   "outputs": [
    {
     "name": "stdout",
     "output_type": "stream",
     "text": [
      "Original List: [1, 2, 3, 2, 4, 5, 6, 1, 7, 8, 5]\n",
      "List after removing duplicates: [1, 2, 3, 4, 5, 6, 7, 8]\n"
     ]
    }
   ],
   "source": [
    "def remove_duplicates(input_list):\n",
    "    #initialize an empty list to store unique elements\n",
    "    #initialize a set to keep track of seen elements for efficient duplicate checking\n",
    "    unique_list = []\n",
    "    seen_set = set()\n",
    "    #iterate through the input list\n",
    "    for item in input_list:\n",
    "        #check if the item is not in the set of seen elements\n",
    "        if item not in seen_set:\n",
    "            #add the item to the set of seen elements\n",
    "            seen_set.add(item)\n",
    "            #append the item to the unique list\n",
    "            unique_list.append(item)\n",
    "\n",
    "    return unique_list\n",
    "\n",
    "#example usage:\n",
    "original_list = [1, 2, 3, 2, 4, 5, 6, 1, 7, 8, 5]\n",
    "\n",
    "result = remove_duplicates(original_list)\n",
    "\n",
    "#displaying the result\n",
    "print(\"Original List:\", original_list)\n",
    "print(\"List after removing duplicates:\", result)"
   ]
  },
  {
   "cell_type": "markdown",
   "metadata": {},
   "source": [
    "Q22"
   ]
  },
  {
   "cell_type": "code",
   "execution_count": 9,
   "metadata": {},
   "outputs": [
    {
     "name": "stdout",
     "output_type": "stream",
     "text": [
      "The list is not empty.\n"
     ]
    }
   ],
   "source": [
    "def is_list_empty(input_list):\n",
    "    #return True if the input list is empty, and False otherwise\n",
    "    return not bool(input_list)\n",
    "\n",
    "#take a list as input from the user\n",
    "user_input = input(\"Enter elements of the list separated by spaces: \")\n",
    "#split the input string into a list of elements\n",
    "user_list = user_input.split()\n",
    "\n",
    "# check if the list is empty\n",
    "#print each result\n",
    "if is_list_empty(user_list):\n",
    "    print(\"The list is empty.\")\n",
    "else:\n",
    "    print(\"The list is not empty.\")"
   ]
  },
  {
   "cell_type": "markdown",
   "metadata": {},
   "source": [
    "Q23"
   ]
  },
  {
   "cell_type": "code",
   "execution_count": 6,
   "metadata": {},
   "outputs": [
    {
     "name": "stdout",
     "output_type": "stream",
     "text": [
      "String after removing the character at index: ython\n"
     ]
    }
   ],
   "source": [
    "def remove_char_at_index(input_string, index):\n",
    "    #if index value is larger than or equal to 0 or under the lenght\n",
    "    if 0 <= index < len(input_string):\n",
    "        #remove the character at the specified index\n",
    "        result_string = input_string[:index] + input_string[index + 1:]\n",
    "        return result_string\n",
    "    #if write the invalid index index < 0\n",
    "    else:\n",
    "        return \"Invalid index. Please enter a valid index.\"\n",
    "\n",
    "# example usage:\n",
    "user_input = input(\"Enter a string: \")\n",
    "user_index = int(input(\"Enter the index of the character to remove: \"))\n",
    "#call the function\n",
    "result = remove_char_at_index(user_input, user_index)\n",
    "\n",
    "#displaying the result\n",
    "print(\"String after removing the character at index:\", result)"
   ]
  },
  {
   "cell_type": "markdown",
   "metadata": {},
   "source": [
    "Q24"
   ]
  },
  {
   "cell_type": "code",
   "execution_count": 21,
   "metadata": {},
   "outputs": [
    {
     "name": "stdout",
     "output_type": "stream",
     "text": [
      "String after exchanging first and last characters: nythop\n"
     ]
    }
   ],
   "source": [
    "def exchange_first_last_chars(input_string):\n",
    "    #if the length is less than 2\n",
    "    if len(input_string) < 2:\n",
    "        return input_string  # No exchange needed for strings with length less than 2\n",
    "\n",
    "    # Exchange the first and last characters\n",
    "    result_string = input_string[-1] + input_string[1:-1] + input_string[0]\n",
    "    return result_string\n",
    "\n",
    "# example usage:\n",
    "#input the string\n",
    "#call the function \n",
    "user_input = input(\"Enter a string: \")\n",
    "result = exchange_first_last_chars(user_input)\n",
    "\n",
    "# Displaying the result\n",
    "print(\"String after exchanging first and last characters:\", result)"
   ]
  },
  {
   "cell_type": "markdown",
   "metadata": {},
   "source": [
    "Q25"
   ]
  },
  {
   "cell_type": "code",
   "execution_count": 20,
   "metadata": {},
   "outputs": [
    {
     "name": "stdout",
     "output_type": "stream",
     "text": [
      "String after removing characters with odd index values: tepto\n"
     ]
    }
   ],
   "source": [
    "def remove_odd_index_chars(input_string):\n",
    "    # Use slicing to get characters with even index values\n",
    "    result_string = input_string[::2]\n",
    "    #return the result\n",
    "    return result_string\n",
    "\n",
    "# Example usage:\n",
    "user_input = input(\"Enter a string: \")\n",
    "#call the function\n",
    "result = remove_odd_index_chars(user_input)\n",
    "\n",
    "#displaying the result\n",
    "print(\"String after removing characters with odd index values:\", result)"
   ]
  },
  {
   "cell_type": "markdown",
   "metadata": {},
   "source": [
    "Q26"
   ]
  },
  {
   "cell_type": "code",
   "execution_count": 18,
   "metadata": {},
   "outputs": [
    {
     "name": "stdout",
     "output_type": "stream",
     "text": [
      "Word Occurrences:\n",
      "the: 1\n",
      "python: 1\n",
      "is: 1\n",
      "good: 1\n",
      "programming: 1\n",
      "language: 1\n"
     ]
    }
   ],
   "source": [
    "def count_word_occurrences(sentence):\n",
    "    #split the sentence into words\n",
    "    words = sentence.split()\n",
    "\n",
    "    #create a dictionary to store word frequencies\n",
    "    word_counts = {}\n",
    "\n",
    "    #count the occurrences of each word\n",
    "    for word in words:\n",
    "        #remove punctuation and convert to lowercase for consistent counting\n",
    "        clean_word = word.strip(\".,!?'\\\"\").lower()\n",
    "\n",
    "        #increment the count in the dictionary\n",
    "        word_counts[clean_word] = word_counts.get(clean_word, 0) + 1\n",
    "    #return the word_counts\n",
    "    return word_counts\n",
    "\n",
    "#example usage:\n",
    "#recieve the input \n",
    "user_sentence = input(\"Enter a sentence: \")\n",
    "#call the function to count word occurrences\n",
    "word_occurrences = count_word_occurrences(user_sentence)\n",
    "\n",
    "#displaying the results\n",
    "print(\"Word Occurrences:\")\n",
    "for word, count in word_occurrences.items():\n",
    "    print(f\"{word}: {count}\")"
   ]
  }
 ],
 "metadata": {
  "kernelspec": {
   "display_name": "Python 3",
   "language": "python",
   "name": "python3"
  },
  "language_info": {
   "codemirror_mode": {
    "name": "ipython",
    "version": 3
   },
   "file_extension": ".py",
   "mimetype": "text/x-python",
   "name": "python",
   "nbconvert_exporter": "python",
   "pygments_lexer": "ipython3",
   "version": "3.9.6"
  }
 },
 "nbformat": 4,
 "nbformat_minor": 5
}
