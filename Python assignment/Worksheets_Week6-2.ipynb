{
 "cells": [
  {
   "cell_type": "markdown",
   "metadata": {},
   "source": [
    "Q1"
   ]
  },
  {
   "cell_type": "code",
   "execution_count": 5,
   "id": "initial_id",
   "metadata": {
    "collapsed": true
   },
   "outputs": [
    {
     "name": "stdout",
     "output_type": "stream",
     "text": [
      "Result of adding 15 to 10.0: 25.0\n",
      "Result of multiplying 10.0 and 10.0: 100.0\n"
     ]
    }
   ],
   "source": [
    "# Lambda function to add 15 to a given number\n",
    "add_15 = lambda x: x + 15\n",
    "\n",
    "# Lambda function to multiply two numbers\n",
    "multiply = lambda x, y: x * y\n",
    "\n",
    "# Taking user input\n",
    "number = float(input(\"Enter a number: \"))\n",
    "value1 = float(input(\"Enter the first value to multiply: \"))\n",
    "value2 = float(input(\"Enter the second value to multiply: \"))\n",
    "\n",
    "# Applying the lambda functions\n",
    "result_add_15 = add_15(number)\n",
    "result_multiply = multiply(value1, value2)\n",
    "\n",
    "# Displaying the results\n",
    "print(f\"Result of adding 15 to {number}: {result_add_15}\")\n",
    "print(f\"Result of multiplying {value1} and {value2}: {result_multiply}\")"
   ]
  },
  {
   "cell_type": "markdown",
   "metadata": {},
   "source": [
    "Q2"
   ]
  },
  {
   "cell_type": "code",
   "execution_count": 4,
   "metadata": {},
   "outputs": [
    {
     "name": "stdout",
     "output_type": "stream",
     "text": [
      "Double the number of 5.0 = 10.0\n",
      "Triple the number of 5.0 = 15.0\n",
      "Quadruple the number of 5.0 = 20.0\n",
      "Quintuple the number of 5.0 = 25.0\n"
     ]
    }
   ],
   "source": [
    "# Function to generate a lambda function for multiplication\n",
    "def multiply_with_unknown(factor):\n",
    "    return lambda x: x * factor\n",
    "\n",
    "# Take user input for the number\n",
    "try:\n",
    "    user_input = float(input(\"Enter a number: \"))\n",
    "#if input value is invalid print the error message and exit\n",
    "except ValueError:\n",
    "    print(\"Invalid input. Please enter a valid number.\")\n",
    "    exit()\n",
    "\n",
    "double_function = multiply_with_unknown(2)\n",
    "triple_function = multiply_with_unknown(3)\n",
    "quadruple_function = multiply_with_unknown(4)\n",
    "quintuple_function = multiply_with_unknown(5)\n",
    "\n",
    "# Printing the results\n",
    "print(f\"Double the number of {user_input} = {double_function(user_input)}\")\n",
    "print(f\"Triple the number of {user_input} = {triple_function(user_input)}\")\n",
    "print(f\"Quadruple the number of {user_input} = {quadruple_function(user_input)}\")\n",
    "print(f\"Quintuple the number of {user_input} = {quintuple_function(user_input)}\")"
   ]
  },
  {
   "cell_type": "markdown",
   "metadata": {},
   "source": [
    "Q3"
   ]
  },
  {
   "cell_type": "code",
   "execution_count": 5,
   "metadata": {},
   "outputs": [
    {
     "name": "stdout",
     "output_type": "stream",
     "text": [
      "Original list of integers:\n",
      "[1, 2, 3, 4, 5, 6, 7, 8, 9, 10]\n",
      "Even numbers from the said list:\n",
      "[2, 4, 6, 8, 10]\n",
      "Odd numbers from the said list:\n",
      "[1, 3, 5, 7, 9]\n"
     ]
    }
   ],
   "source": [
    "# Original list of integers\n",
    "original_list = [1, 2, 3, 4, 5, 6, 7, 8, 9, 10]\n",
    "\n",
    "# Lambda functions to filter even and odd numbers\n",
    "filter_even = lambda x: x % 2 == 0\n",
    "filter_odd = lambda x: x % 2 != 0\n",
    "\n",
    "# Use the lambda functions to filter the original list\n",
    "even_numbers = list(filter(filter_even, original_list))\n",
    "odd_numbers = list(filter(filter_odd, original_list))\n",
    "\n",
    "# Printing the results\n",
    "print(\"Original list of integers:\")\n",
    "print(original_list)\n",
    "\n",
    "print(\"Even numbers from the said list:\")\n",
    "print(even_numbers)\n",
    "\n",
    "print(\"Odd numbers from the said list:\")\n",
    "print(odd_numbers)"
   ]
  },
  {
   "cell_type": "markdown",
   "metadata": {},
   "source": [
    "Q4"
   ]
  },
  {
   "cell_type": "code",
   "execution_count": 3,
   "metadata": {},
   "outputs": [
    {
     "name": "stdout",
     "output_type": "stream",
     "text": [
      "Original list of integers:\n",
      "[1, 2, 3, 4, 5, 6, 7, 8, 9, 10]\n",
      "Square every number of the said list:\n",
      "[1, 4, 9, 16, 25, 36, 49, 64, 81, 100]\n",
      "Cube every number of the said list:\n",
      "[1, 8, 27, 64, 125, 216, 343, 512, 729, 1000]\n"
     ]
    }
   ],
   "source": [
    "# Given list of integers\n",
    "numbers = [1, 2, 3, 4, 5, 6, 7, 8, 9, 10]\n",
    "\n",
    "# Lambda functions to square and cube a number\n",
    "square = lambda x: x**2\n",
    "cube = lambda x: x**3\n",
    "\n",
    "# Using map to apply the lambda functions to each element in the list\n",
    "squared_numbers = list(map(square, numbers))\n",
    "cubed_numbers = list(map(cube, numbers))\n",
    "\n",
    "# Displaying the results\n",
    "print(\"Original list of integers:\")\n",
    "print(numbers)\n",
    "print(\"Square every number of the said list:\")\n",
    "print(squared_numbers)\n",
    "print(\"Cube every number of the said list:\")\n",
    "print(cubed_numbers)"
   ]
  },
  {
   "cell_type": "markdown",
   "metadata": {},
   "source": [
    "Q5"
   ]
  },
  {
   "cell_type": "code",
   "execution_count": 10,
   "metadata": {},
   "outputs": [
    {
     "name": "stdout",
     "output_type": "stream",
     "text": [
      "Results for strings1:\n",
      "True\n",
      "False\n",
      "False\n",
      "True\n",
      "False\n",
      "False\n",
      "False\n",
      "\n",
      "Results for strings2:\n",
      "True\n",
      "True\n",
      "True\n",
      "True\n",
      "True\n",
      "True\n",
      "True\n",
      "\n",
      "Checking numbers for strings1:\n",
      "False\n",
      "Checking numbers for strings2:\n",
      "True\n"
     ]
    }
   ],
   "source": [
    "# Lambda function to check if a string is a number\n",
    "is_number = lambda s: s.isdigit()\n",
    "\n",
    "# Sample strings\n",
    "strings1 = [\"123\", \"45.6\", \"-789\", \"0\", \"abc\", \"12 34\", \"1_000\"]\n",
    "strings2 = [\"567\", \"890\", \"12345\", \"678\", \"987\", \"456\", \"123\"]\n",
    "\n",
    "# Checking if each string is a number using the lambda function\n",
    "results1 = list(map(is_number, strings1))\n",
    "results2 = list(map(is_number, strings2))\n",
    "\n",
    "# Displaying the results for the first set of strings\n",
    "print(\"Results for strings1:\")\n",
    "for result in results1:\n",
    "    print(result)\n",
    "\n",
    "# Displaying the results for the second set of strings\n",
    "print(\"\\nResults for strings2:\")\n",
    "for result in results2:\n",
    "    print(result)\n",
    "\n",
    "# Print checking numbers for both sets\n",
    "print(\"\\nChecking numbers for strings1:\")\n",
    "print(all(results1))\n",
    "\n",
    "print(\"Checking numbers for strings2:\")\n",
    "print(all(results2))"
   ]
  },
  {
   "cell_type": "markdown",
   "metadata": {},
   "source": [
    "Q6"
   ]
  },
  {
   "cell_type": "code",
   "execution_count": 2,
   "metadata": {},
   "outputs": [
    {
     "name": "stdout",
     "output_type": "stream",
     "text": [
      "Original arrays:\n",
      "[1, 2, 3, 5, 7, 8, 9, 10]\n",
      "[1, 2, 4, 8, 9]\n",
      "Intersection of the said arrays: [1, 2, 8, 9]\n"
     ]
    }
   ],
   "source": [
    "# Given arrays\n",
    "array1 = [1, 2, 3, 5, 7, 8, 9, 10]\n",
    "array2 = [1, 2, 4, 8, 9]\n",
    "\n",
    "# Using lambda functions with filter to find the intersection\n",
    "intersection = list(filter(lambda x: x in array1, array2))\n",
    "\n",
    "# Displaying the result\n",
    "print(\"Original arrays:\")\n",
    "print(array1)\n",
    "print(array2)\n",
    "print(\"Intersection of the said arrays:\", intersection)"
   ]
  },
  {
   "cell_type": "markdown",
   "metadata": {},
   "source": [
    "Q7"
   ]
  },
  {
   "cell_type": "code",
   "execution_count": 1,
   "metadata": {},
   "outputs": [
    {
     "name": "stdout",
     "output_type": "stream",
     "text": [
      "Original array: [1, 2, 3, 5, 7, 8, 9, 10]\n",
      "Number of even numbers in the above array: 3\n",
      "Number of odd numbers in the above array: 5\n"
     ]
    }
   ],
   "source": [
    "# Given array of integers\n",
    "numbers = [1, 2, 3, 5, 7, 8, 9, 10]\n",
    "\n",
    "# Using lambda functions with filter to get even and odd numbers\n",
    "even_numbers = list(filter(lambda x: x % 2 == 0, numbers))\n",
    "odd_numbers = list(filter(lambda x: x % 2 != 0, numbers))\n",
    "\n",
    "# Counting the number of even and odd numbers\n",
    "count_even = len(even_numbers)\n",
    "count_odd = len(odd_numbers)\n",
    "\n",
    "# Displaying the results\n",
    "print(\"Original array:\", numbers)\n",
    "print(\"Number of even numbers in the above array:\", count_even)\n",
    "print(\"Number of odd numbers in the above array:\", count_odd)"
   ]
  }
 ],
 "metadata": {
  "kernelspec": {
   "display_name": "Python 3",
   "language": "python",
   "name": "python3"
  },
  "language_info": {
   "codemirror_mode": {
    "name": "ipython",
    "version": 3
   },
   "file_extension": ".py",
   "mimetype": "text/x-python",
   "name": "python",
   "nbconvert_exporter": "python",
   "pygments_lexer": "ipython3",
   "version": "3.9.6"
  }
 },
 "nbformat": 4,
 "nbformat_minor": 5
}
