{
 "cells": [
  {
   "cell_type": "code",
   "execution_count": null,
   "id": "initial_id",
   "metadata": {
    "collapsed": true
   },
   "outputs": [],
   "source": []
  },
  {
   "cell_type": "markdown",
   "source": [
    "Q5"
   ],
   "metadata": {
    "collapsed": false
   },
   "id": "c25f7b62df0c8cb9"
  },
  {
   "cell_type": "code",
   "execution_count": 2,
   "outputs": [
    {
     "name": "stdout",
     "output_type": "stream",
     "text": [
      "The character frequency in 'google.com' is: {'g': 2, 'o': 3, 'l': 1, 'e': 1, '.': 1, 'c': 1, 'm': 1}\n"
     ]
    }
   ],
   "source": [
    "def count_character_frequency(input_string):\n",
    "    character_frequency = {}\n",
    "\n",
    "    for char in input_string:\n",
    "        # Check if the character is already in the dictionary\n",
    "        if char in character_frequency:\n",
    "            character_frequency[char] += 1\n",
    "        else:\n",
    "            # If the character is not in the dictionary, add it with a count of 1\n",
    "            character_frequency[char] = 1\n",
    "\n",
    "    return character_frequency\n",
    "\n",
    "# Sample usage\n",
    "input_str = input(\"Enter a string: \")\n",
    "result = count_character_frequency(input_str)\n",
    "print(f\"The character frequency in '{input_str}' is: {result}\")"
   ],
   "metadata": {
    "collapsed": false,
    "ExecuteTime": {
     "end_time": "2023-11-19T18:27:08.761808Z",
     "start_time": "2023-11-19T18:27:04.813491Z"
    }
   },
   "id": "fe9d6f0cfd8af221"
  },
  {
   "cell_type": "code",
   "execution_count": null,
   "outputs": [],
   "source": [],
   "metadata": {
    "collapsed": false
   },
   "id": "ed0384e45d999c4d"
  }
 ],
 "metadata": {
  "kernelspec": {
   "display_name": "Python 3",
   "language": "python",
   "name": "python3"
  },
  "language_info": {
   "codemirror_mode": {
    "name": "ipython",
    "version": 2
   },
   "file_extension": ".py",
   "mimetype": "text/x-python",
   "name": "python",
   "nbconvert_exporter": "python",
   "pygments_lexer": "ipython2",
   "version": "2.7.6"
  }
 },
 "nbformat": 4,
 "nbformat_minor": 5
}
