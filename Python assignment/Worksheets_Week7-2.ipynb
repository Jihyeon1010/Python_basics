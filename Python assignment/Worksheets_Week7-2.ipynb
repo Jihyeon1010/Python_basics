{
 "cells": [
  {
   "cell_type": "markdown",
   "metadata": {},
   "source": [
    "Q1"
   ]
  },
  {
   "cell_type": "code",
   "execution_count": 9,
   "metadata": {},
   "outputs": [
    {
     "name": "stdout",
     "output_type": "stream",
     "text": [
      "Result: 7.0\n"
     ]
    }
   ],
   "source": [
    "#produce the class that named Calculator\n",
    "class Calculator:\n",
    "    #define function add equal to num1 + num2\n",
    "    def add(self, num1, num2):\n",
    "        return num1 + num2\n",
    "    #define function subtract equal to num1 - num2\n",
    "    def subtract(self, num1, num2):\n",
    "        return num1 - num2\n",
    "    #define function multiply equal to num1 multiply num2\n",
    "    def multiply(self, num1, num2):\n",
    "        return num1 * num2\n",
    "    #define function divide equal to num1 divide by num2 when it do not occur of error\n",
    "    def divide(self, num1, num2):\n",
    "        #if input value of num2 equal to 0, error is occur and print the error message \n",
    "        if num2 == 0:\n",
    "            raise ValueError(\"Error: Cannot divide by zero.\")\n",
    "        return num1 / num2\n",
    "\n",
    "#define the function get_user_input\n",
    "def get_user_input():\n",
    "    #valid circumstance\n",
    "    try:\n",
    "        #define variable: num1, data type is float and used input \n",
    "        num1 = float(input(\"Enter the first number: \"))\n",
    "        #define variable: operator and used input \n",
    "        operator = input(\"Enter the operator (+, -, *, /): \")\n",
    "        #define num2, data type is float and receive the input via user\n",
    "        num2 = float(input(\"Enter the second number: \"))\n",
    "        return num1, operator, num2\n",
    "    #if write the invalid value such as non-numeric input value \n",
    "    except ValueError:\n",
    "        raise ValueError(\"Error: Non-numeric input for numbers.\")\n",
    "\n",
    "#define function \n",
    "def perform_calculation(calculator, num1, operator, num2):\n",
    "    #valid circumstance\n",
    "    try:\n",
    "        #if the input oprtator equal to \"+\"\n",
    "        if operator == '+':\n",
    "            #define the result equal to num1 + num2\n",
    "            result = calculator.add(num1, num2)\n",
    "        #if the input operator is -\n",
    "        elif operator == '-':\n",
    "            #define the result equal to num1 - num2 \n",
    "            result = calculator.subtract(num1, num2)\n",
    "        #if the input operator equal to *\n",
    "        elif operator == '*':\n",
    "            #define the result equal to num1 multiply num2\n",
    "            result = calculator.multiply(num1, num2)\n",
    "        #if the input operator equal to /\n",
    "        elif operator == '/':\n",
    "            #define the result equal to num1 divide by num2\n",
    "            result = calculator.divide(num1, num2)\n",
    "        #if input the invalid operator, print the error message\n",
    "        else:\n",
    "            raise ValueError(\"Error: Invalid operator input.\")\n",
    "        return result\n",
    "    #if input value is invalid\n",
    "    except Exception as e:\n",
    "        raise ValueError(f\"Error: {str(e)}\")\n",
    "\n",
    "def main():\n",
    "    #define variable calculator equal to Class Calculator\n",
    "    calculator = Calculator()\n",
    "    #valid circumstance\n",
    "    try:\n",
    "        num1, operator, num2 = get_user_input()\n",
    "        result = perform_calculation(calculator, num1, operator, num2)\n",
    "        print(f\"Result: {result}\")\n",
    "    #if the circumstance is invalid print error message\n",
    "    except ValueError as ve:\n",
    "        print(ve)\n",
    "    except Exception as e:\n",
    "        print(f\"Unexpected error: {str(e)}\")\n",
    "\n",
    "if __name__ == \"__main__\":\n",
    "    main()"
   ]
  },
  {
   "cell_type": "markdown",
   "metadata": {},
   "source": [
    "Q2"
   ]
  },
  {
   "cell_type": "code",
   "execution_count": 8,
   "metadata": {},
   "outputs": [
    {
     "name": "stdout",
     "output_type": "stream",
     "text": [
      "High guess – try again!\n",
      "Low guess – try again!\n",
      "Low guess – try again!\n",
      "Low guess – try again!\n",
      "Low guess – try again!\n",
      "Low guess – try again!\n",
      "Congratulations! You guessed the correct number 7 in 7 attempts.\n"
     ]
    }
   ],
   "source": [
    "#import random module\n",
    "import random\n",
    "\n",
    "#generate a random number between 1 and 10\n",
    "secret_number = random.randint(1, 10)\n",
    "\n",
    "#initialise a variable to track the number of attempts\n",
    "attempts = 0\n",
    "\n",
    "#loop while true\n",
    "while True:\n",
    "    #receive the user input \n",
    "    user_guess = int(input(\"Guess the number between 1 and 10: \"))\n",
    "    \n",
    "    # Increment the number of attempts\n",
    "    attempts += 1\n",
    "    \n",
    "    #check if the guess is correct\n",
    "    #if the input number equal to secret_number, it print the message and break the loop\n",
    "    if user_guess == secret_number:\n",
    "        print(f\"Congratulations! You guessed the correct number {secret_number} in {attempts} attempts.\")\n",
    "        break\n",
    "    #if user_guess is smaller than secret_number, print the message that \"Low guess - try again\"\n",
    "    elif user_guess < secret_number:\n",
    "        print(\"Low guess – try again!\")\n",
    "    #else user_guess is larger than secret_number, print the message that \"High guess -try again\"\n",
    "    else:\n",
    "        print(\"High guess – try again!\")"
   ]
  },
  {
   "cell_type": "markdown",
   "metadata": {},
   "source": [
    "Q3"
   ]
  },
  {
   "cell_type": "code",
   "execution_count": 10,
   "metadata": {},
   "outputs": [
    {
     "name": "stdout",
     "output_type": "stream",
     "text": [
      "Welcome to the Guessing Game!\n",
      "Try to guess the word.\n",
      "_ _ _ _ _ _ _ _\n",
      "Wrong guess! 6 attempts left.\n",
      "_ _ _ _ _ _ _ _\n",
      "Wrong guess! 5 attempts left.\n",
      "_ _ _ _ _ _ _ _\n",
      "Wrong guess! 4 attempts left.\n",
      "_ _ _ _ _ _ _ _\n",
      "Wrong guess! 3 attempts left.\n",
      "_ _ _ _ _ _ _ _\n",
      "Wrong guess! 2 attempts left.\n",
      "_ _ _ _ _ _ _ _\n",
      "Wrong guess! 1 attempts left.\n",
      "_ _ _ _ _ _ _ _\n",
      "Wrong guess! 0 attempts left.\n",
      "Sorry, you ran out of attempts. The correct word was: computer\n"
     ]
    }
   ],
   "source": [
    "#import random module\n",
    "import random\n",
    "\n",
    "#define the list of different words\n",
    "words = [\"python\", \"programming\", \"computer\", \"science\", \"algorithm\", \"developer\", \"challenge\"]\n",
    "\n",
    "#choose a word randomly from the list\n",
    "chosen_word = random.choice(words)\n",
    "\n",
    "#number of attempts allowed\n",
    "max_attempts = 7\n",
    "attempts_left = max_attempts\n",
    "\n",
    "#list to store correct guesses\n",
    "correct_guesses = [\"_\"] * len(chosen_word)\n",
    "\n",
    "#display initial information\n",
    "print(\"Welcome to the Guessing Game!\")\n",
    "print(\"Try to guess the word.\")\n",
    "\n",
    "#loop while the attempts_left value is larger than 0\n",
    "while attempts_left > 0:\n",
    "    #display the current state of the word with underscores for unrevealed characters\n",
    "    print(\" \".join(correct_guesses))\n",
    "\n",
    "    #ask the user to guess a character\n",
    "    guess = input(\"Guess a character: \").lower()\n",
    "\n",
    "    #check if the guessed character is in the chosen word\n",
    "    if guess in chosen_word:\n",
    "        print(\"Correct guess!\")\n",
    "        #update the correct_guesses list with the correct positions\n",
    "        for i in range(len(chosen_word)):\n",
    "            if chosen_word[i] == guess:\n",
    "                correct_guesses[i] = guess\n",
    "    else:\n",
    "        #incorrect guess\n",
    "        attempts_left -= 1\n",
    "        print(f\"Wrong guess! {attempts_left} attempts left.\")\n",
    "\n",
    "    #check if the user has guessed the entire word\n",
    "    if \"\".join(correct_guesses) == chosen_word:\n",
    "        #print the message and chosen word\n",
    "        print(\"Congratulations! You guessed the word:\", chosen_word)\n",
    "        #break the loop\n",
    "        break\n",
    "\n",
    "#if the user runs out of attempts\n",
    "if attempts_left == 0:\n",
    "    #print the ending message and chosen word\n",
    "    print(\"Sorry, you ran out of attempts. The correct word was:\", chosen_word)"
   ]
  }
 ],
 "metadata": {
  "kernelspec": {
   "display_name": "Python 3",
   "language": "python",
   "name": "python3"
  },
  "language_info": {
   "codemirror_mode": {
    "name": "ipython",
    "version": 3
   },
   "file_extension": ".py",
   "mimetype": "text/x-python",
   "name": "python",
   "nbconvert_exporter": "python",
   "pygments_lexer": "ipython3",
   "version": "3.9.6"
  }
 },
 "nbformat": 4,
 "nbformat_minor": 2
}
