{
 "cells": [
  {
   "cell_type": "markdown",
   "metadata": {},
   "source": [
    "Q1"
   ]
  },
  {
   "cell_type": "code",
   "execution_count": 2,
   "metadata": {},
   "outputs": [
    {
     "name": "stdout",
     "output_type": "stream",
     "text": [
      "The sum of the positive integers in the sequence is: 30\n"
     ]
    }
   ],
   "source": [
    "class SumCalculator:\n",
    "    def __init__(self, n):\n",
    "        self.n = n\n",
    "\n",
    "    def calculate_sum(self):\n",
    "        result_sum = 0\n",
    "        x = 0\n",
    "\n",
    "        while self.n - x > 0:\n",
    "            result_sum += self.n - x\n",
    "            x += 2\n",
    "\n",
    "        return result_sum\n",
    "\n",
    "# Get user input for n\n",
    "n = int(input(\"Enter the value of n: \"))\n",
    "\n",
    "# Create an instance of the SumCalculator class\n",
    "sum_calculator = SumCalculator(n)\n",
    "\n",
    "# Calculate and print the sum using the class\n",
    "result = sum_calculator.calculate_sum()\n",
    "print(f\"The sum of the positive integers in the sequence is: {result}\")"
   ]
  },
  {
   "cell_type": "markdown",
   "metadata": {},
   "source": [
    "Q2"
   ]
  },
  {
   "cell_type": "code",
   "execution_count": 3,
   "metadata": {},
   "outputs": [
    {
     "name": "stdout",
     "output_type": "stream",
     "text": [
      "3.0 to the power of 4 is: 81.0\n"
     ]
    }
   ],
   "source": [
    "class PowerCalculator:\n",
    "    def __init__(self, base, exponent):\n",
    "        self.base = base\n",
    "        self.exponent = exponent\n",
    "\n",
    "    def calculate_power(self):\n",
    "        result = 1\n",
    "        for _ in range(self.exponent):\n",
    "            result *= self.base\n",
    "        return result\n",
    "\n",
    "# Get user input for base and exponent\n",
    "base = float(input(\"Enter the base (a): \"))\n",
    "exponent = int(input(\"Enter the exponent (b): \"))\n",
    "\n",
    "# Create an instance of the PowerCalculator class\n",
    "power_calculator = PowerCalculator(base, exponent)\n",
    "\n",
    "# Calculate and print the result using the class\n",
    "result = power_calculator.calculate_power()\n",
    "print(f\"{base} to the power of {exponent} is: {result}\")"
   ]
  },
  {
   "cell_type": "markdown",
   "metadata": {},
   "source": [
    "Q8"
   ]
  },
  {
   "cell_type": "code",
   "execution_count": 4,
   "metadata": {},
   "outputs": [
    {
     "name": "stdout",
     "output_type": "stream",
     "text": [
      "Account created successfully!\n",
      "Login successful.\n",
      "Account ID: 55\n",
      "Balance: $0\n",
      "\n",
      "Options:\n",
      "1. Deposit\n",
      "2. Withdraw\n",
      "3. Check Balance\n",
      "4. Exit\n",
      "Deposited $100.0. New balance: $100.0\n",
      "\n",
      "Options:\n",
      "1. Deposit\n",
      "2. Withdraw\n",
      "3. Check Balance\n",
      "4. Exit\n",
      "Withdrew $50.0. New balance: $50.0\n",
      "\n",
      "Options:\n",
      "1. Deposit\n",
      "2. Withdraw\n",
      "3. Check Balance\n",
      "4. Exit\n",
      "Withdrew $50.0. New balance: $0.0\n",
      "\n",
      "Options:\n",
      "1. Deposit\n",
      "2. Withdraw\n",
      "3. Check Balance\n",
      "4. Exit\n",
      "Current balance: $0.0\n",
      "\n",
      "Options:\n",
      "1. Deposit\n",
      "2. Withdraw\n",
      "3. Check Balance\n",
      "4. Exit\n",
      "Current balance: $0.0\n",
      "\n",
      "Options:\n",
      "1. Deposit\n",
      "2. Withdraw\n",
      "3. Check Balance\n",
      "4. Exit\n",
      "Current balance: $0.0\n",
      "\n",
      "Options:\n",
      "1. Deposit\n",
      "2. Withdraw\n",
      "3. Check Balance\n",
      "4. Exit\n",
      "Exiting program. Thank you!\n"
     ]
    }
   ],
   "source": [
    "class BankAccount:\n",
    "    def __init__(self, account_id, password):\n",
    "        self.account_id = account_id\n",
    "        self.password = password\n",
    "        self.balance = 0\n",
    "\n",
    "    def login(self, entered_password):\n",
    "        return entered_password == self.password\n",
    "\n",
    "    def deposit(self, amount):\n",
    "        self.balance += amount\n",
    "        return f\"Deposited ${amount}. New balance: ${self.balance}\"\n",
    "\n",
    "    def withdraw(self, amount):\n",
    "        if amount <= self.balance:\n",
    "            self.balance -= amount\n",
    "            return f\"Withdrew ${amount}. New balance: ${self.balance}\"\n",
    "        else:\n",
    "            return \"Insufficient funds.\"\n",
    "\n",
    "    def check_balance(self):\n",
    "        return f\"Current balance: ${self.balance}\"\n",
    "\n",
    "    def __str__(self):\n",
    "        return f\"Account ID: {self.account_id}\\nBalance: ${self.balance}\"\n",
    "\n",
    "# Main program\n",
    "def main():\n",
    "    # Create an account\n",
    "    account_id = input(\"Create your account ID: \")\n",
    "    password = input(\"Create your password: \")\n",
    "    account = BankAccount(account_id, password)\n",
    "    print(\"Account created successfully!\")\n",
    "\n",
    "    # Log in\n",
    "    entered_password = input(\"Enter your password to log in: \")\n",
    "    if account.login(entered_password):\n",
    "        print(\"Login successful.\")\n",
    "        print(account)\n",
    "    else:\n",
    "        print(\"Login failed. Incorrect password.\")\n",
    "        return\n",
    "\n",
    "    # Perform transactions\n",
    "    while True:\n",
    "        print(\"\\nOptions:\")\n",
    "        print(\"1. Deposit\")\n",
    "        print(\"2. Withdraw\")\n",
    "        print(\"3. Check Balance\")\n",
    "        print(\"4. Exit\")\n",
    "\n",
    "        choice = input(\"Enter your choice (1-4): \")\n",
    "\n",
    "        if choice == \"1\":\n",
    "            amount = float(input(\"Enter the deposit amount: \"))\n",
    "            print(account.deposit(amount))\n",
    "        elif choice == \"2\":\n",
    "            amount = float(input(\"Enter the withdrawal amount: \"))\n",
    "            print(account.withdraw(amount))\n",
    "        elif choice == \"3\":\n",
    "            print(account.check_balance())\n",
    "        elif choice == \"4\":\n",
    "            print(\"Exiting program. Thank you!\")\n",
    "            break\n",
    "        else:\n",
    "            print(\"Invalid choice. Please enter a number between 1 and 4.\")\n",
    "\n",
    "if __name__ == \"__main__\":\n",
    "    main()"
   ]
  },
  {
   "cell_type": "code",
   "execution_count": null,
   "metadata": {},
   "outputs": [],
   "source": []
  }
 ],
 "metadata": {
  "kernelspec": {
   "display_name": "Python 3",
   "language": "python",
   "name": "python3"
  },
  "language_info": {
   "codemirror_mode": {
    "name": "ipython",
    "version": 3
   },
   "file_extension": ".py",
   "mimetype": "text/x-python",
   "name": "python",
   "nbconvert_exporter": "python",
   "pygments_lexer": "ipython3",
   "version": "3.9.6"
  }
 },
 "nbformat": 4,
 "nbformat_minor": 2
}
