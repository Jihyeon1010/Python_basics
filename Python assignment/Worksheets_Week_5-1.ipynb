{
 "cells": [
  {
   "cell_type": "markdown",
   "metadata": {},
   "source": [
    "Q1"
   ]
  },
  {
   "cell_type": "code",
   "execution_count": 1,
   "metadata": {
    "ExecuteTime": {
     "end_time": "2023-11-16T13:08:47.496744Z",
     "start_time": "2023-11-16T13:08:47.485953Z"
    }
   },
   "outputs": [
    {
     "name": "stdout",
     "output_type": "stream",
     "text": [
      "1\n",
      "2\n",
      "3\n",
      "4\n",
      "5\n",
      "6\n",
      "7\n",
      "8\n",
      "9\n",
      "10\n"
     ]
    }
   ],
   "source": [
    "counter = 1\n",
    "while counter <= 10:\n",
    "    print(counter)\n",
    "    counter += 1"
   ]
  },
  {
   "cell_type": "markdown",
   "metadata": {},
   "source": [
    "Q2"
   ]
  },
  {
   "cell_type": "code",
   "execution_count": 4,
   "metadata": {},
   "outputs": [
    {
     "name": "stdout",
     "output_type": "stream",
     "text": [
      "Sum of odd integers between 1 and 99: 2500\n"
     ]
    }
   ],
   "source": [
    "sum_of_odds = 0\n",
    "\n",
    "for num in range(1, 100, 2):\n",
    "    sum_of_odds += num\n",
    "\n",
    "print(\"Sum of odd integers between 1 and 99:\", sum_of_odds)"
   ]
  },
  {
   "cell_type": "code",
   "execution_count": 3,
   "metadata": {},
   "outputs": [
    {
     "name": "stdout",
     "output_type": "stream",
     "text": [
      "1\t2\t3\t4\t5\n",
      "6\t7\t8\t9\t10\n",
      "11\t12\t13\t14\t15\n",
      "16\t17\t18\t19\t20\n"
     ]
    }
   ],
   "source": [
    "x = 1\n",
    "while x <= 20:\n",
    "    print(x, end='\\t' if x % 5 != 0 else '\\n')\n",
    "    x += 1"
   ]
  },
  {
   "cell_type": "code",
   "execution_count": 5,
   "metadata": {},
   "outputs": [
    {
     "name": "stdout",
     "output_type": "stream",
     "text": [
      "1\t2\t3\t4\t5\n",
      "6\t7\t8\t9\t10\n",
      "11\t12\t13\t14\t15\n",
      "16\t17\t18\t19\t20\n"
     ]
    }
   ],
   "source": [
    "for x in range(1, 21):\n",
    "    print(x, end='\\t' if x % 5 != 0 else '\\n')"
   ]
  },
  {
   "cell_type": "markdown",
   "metadata": {},
   "source": [
    "Q3"
   ]
  },
  {
   "cell_type": "code",
   "execution_count": 8,
   "metadata": {},
   "outputs": [
    {
     "name": "stdout",
     "output_type": "stream",
     "text": [
      "Invalid input. Please enter a whole number.\n",
      "Invalid input. Please enter a whole number.\n",
      "Average of entered numbers: 7.125\n"
     ]
    }
   ],
   "source": [
    "total = 0\n",
    "count = 0\n",
    "\n",
    "while True:\n",
    "    try:\n",
    "        num = int(input(\"Enter a whole number (enter 0 to finish): \"))\n",
    "    except ValueError:\n",
    "        print(\"Invalid input. Please enter a whole number.\")\n",
    "        continue\n",
    "\n",
    "    if num == 0:\n",
    "        break  \n",
    "\n",
    "    total += num\n",
    "    count += 1\n",
    "\n",
    "if count > 0:\n",
    "    average = total / count\n",
    "    print(\"Average of entered numbers:\", average)\n",
    "else:\n",
    "    print(\"No numbers were entered.\")"
   ]
  },
  {
   "cell_type": "markdown",
   "metadata": {},
   "source": [
    "Q4"
   ]
  },
  {
   "cell_type": "code",
   "execution_count": 2,
   "metadata": {
    "ExecuteTime": {
     "end_time": "2023-11-16T13:09:37.179538Z",
     "start_time": "2023-11-16T13:09:32.537892Z"
    }
   },
   "outputs": [
    {
     "name": "stdout",
     "output_type": "stream",
     "text": [
      "Entered values: [5, 3, 8, 6, 4]\n",
      "Smallest number: 3\n",
      "Largest number: 8\n",
      "Average of the values: 5.2\n"
     ]
    }
   ],
   "source": [
    "values = []\n",
    "\n",
    "for i in range(5):\n",
    "    while True:\n",
    "        try:\n",
    "            value = int(input(f\"Enter integer value {i + 1}: \"))\n",
    "            break \n",
    "        except ValueError:\n",
    "            print(\"Invalid input. Please enter an integer.\")\n",
    "\n",
    "    values.append(value)\n",
    "\n",
    "print(\"Entered values:\", values)\n",
    "\n",
    "smallest = min(values)\n",
    "largest = max(values)\n",
    "average = sum(values) / len(values)\n",
    "\n",
    "print(\"Smallest number:\", smallest)\n",
    "print(\"Largest number:\", largest)\n",
    "print(\"Average of the values:\", average)\n"
   ]
  },
  {
   "cell_type": "markdown",
   "metadata": {},
   "source": [
    "Q5"
   ]
  },
  {
   "cell_type": "code",
   "execution_count": 5,
   "outputs": [
    {
     "name": "stdout",
     "output_type": "stream",
     "text": [
      "Student's final grade: A\n"
     ]
    }
   ],
   "source": [
    "def calculate_final_grade(grade1, grade2, grade3, average):\n",
    "    final_grade = (grade1 + grade2 * 2 + grade3 * 3 + average) / 7\n",
    "\n",
    "    if final_grade >= 9:\n",
    "        return 'A'\n",
    "    elif 7.5 <= final_grade < 9:\n",
    "        return 'B'\n",
    "    elif 6 <= final_grade < 7.5:\n",
    "        return 'C'\n",
    "    elif 4 <= final_grade < 6:\n",
    "        return 'D'\n",
    "    else:\n",
    "        return 'E'\n",
    "\n",
    "def main():\n",
    "    grade1 = float(input(\"Enter grade 1: \"))\n",
    "    grade2 = float(input(\"Enter grade 2: \"))\n",
    "    grade3 = float(input(\"Enter grade 3: \"))\n",
    "    average = float(input(\"Enter the average: \"))\n",
    "\n",
    "    final_grade = calculate_final_grade(grade1, grade2, grade3, average)\n",
    "\n",
    "    print(f\"Student's final grade: {final_grade}\")\n",
    "\n",
    "if __name__ == \"__main__\":\n",
    "    main()"
   ],
   "metadata": {
    "collapsed": false,
    "ExecuteTime": {
     "end_time": "2023-11-16T13:18:31.673637Z",
     "start_time": "2023-11-16T13:18:20.260058Z"
    }
   }
  },
  {
   "cell_type": "markdown",
   "source": [
    "Q6"
   ],
   "metadata": {
    "collapsed": false
   }
  },
  {
   "cell_type": "code",
   "execution_count": 3,
   "outputs": [
    {
     "name": "stdout",
     "output_type": "stream",
     "text": [
      "Number 5 found at index 2 in the array.\n"
     ]
    }
   ],
   "source": [
    "def search_in_array(array, target):\n",
    "    for i, value in enumerate(array):\n",
    "        if value == target:\n",
    "            return i\n",
    "    return -1\n",
    "\n",
    "def main():\n",
    "    size = int(input(\"Enter the size of the array: \"))\n",
    "\n",
    "    my_array = []\n",
    "\n",
    "    for i in range(size):\n",
    "        value = int(input(f\"Enter value for index {i}: \"))\n",
    "        my_array.append(value)\n",
    "\n",
    "    search_number = int(input(\"Enter the number to search for: \"))\n",
    "\n",
    "    result = search_in_array(my_array, search_number)\n",
    "\n",
    "    if result != -1:\n",
    "        print(f\"Number {search_number} found at index {result} in the array.\")\n",
    "    else:\n",
    "        print(f\"Number {search_number} does not exist in the array.\")\n",
    "\n",
    "if __name__ == \"__main__\":\n",
    "    main()"
   ],
   "metadata": {
    "collapsed": false,
    "ExecuteTime": {
     "end_time": "2023-11-16T13:14:54.041127Z",
     "start_time": "2023-11-16T13:14:16.499398Z"
    }
   }
  },
  {
   "cell_type": "markdown",
   "source": [
    "Q7"
   ],
   "metadata": {
    "collapsed": false
   }
  },
  {
   "cell_type": "code",
   "execution_count": 4,
   "outputs": [
    {
     "name": "stdout",
     "output_type": "stream",
     "text": [
      "1 2 3 4 5 6 7 8 9 10 "
     ]
    }
   ],
   "source": [
    "def display_first_natural_numbers(n):\n",
    "    for i in range(1, n + 1):\n",
    "        print(i, end=\" \")\n",
    "\n",
    "display_first_natural_numbers(10)"
   ],
   "metadata": {
    "collapsed": false,
    "ExecuteTime": {
     "end_time": "2023-11-16T13:16:36.062839Z",
     "start_time": "2023-11-16T13:16:36.056881Z"
    }
   }
  },
  {
   "cell_type": "markdown",
   "source": [
    "Q8"
   ],
   "metadata": {
    "collapsed": false
   }
  },
  {
   "cell_type": "code",
   "execution_count": 6,
   "outputs": [
    {
     "name": "stdout",
     "output_type": "stream",
     "text": [
      "The first 10 natural numbers are:\n",
      "1 2 3 4 5 6 7 8 9 10 \n",
      "The Sum is: 55\n"
     ]
    }
   ],
   "source": [
    "def sum_of_natural_numbers(n):\n",
    "    return n * (n + 1) // 2 \n",
    "\n",
    "def main():\n",
    "    print(\"The first 10 natural numbers are:\")\n",
    "    for i in range(1, 11):\n",
    "        print(i, end=\" \")\n",
    "\n",
    "    sum_result = sum_of_natural_numbers(10)\n",
    "\n",
    "    print(\"\\nThe Sum is:\", sum_result)\n",
    "\n",
    "if __name__ == \"__main__\":\n",
    "    main()"
   ],
   "metadata": {
    "collapsed": false,
    "ExecuteTime": {
     "end_time": "2023-11-16T13:20:53.909374Z",
     "start_time": "2023-11-16T13:20:53.899981Z"
    }
   }
  },
  {
   "cell_type": "code",
   "execution_count": null,
   "outputs": [],
   "source": [],
   "metadata": {
    "collapsed": false
   }
  }
 ],
 "metadata": {
  "kernelspec": {
   "display_name": "Python 3",
   "language": "python",
   "name": "python3"
  },
  "language_info": {
   "codemirror_mode": {
    "name": "ipython",
    "version": 3
   },
   "file_extension": ".py",
   "mimetype": "text/x-python",
   "name": "python",
   "nbconvert_exporter": "python",
   "pygments_lexer": "ipython3",
   "version": "3.9.6"
  }
 },
 "nbformat": 4,
 "nbformat_minor": 2
}
