{
 "cells": [
  {
   "cell_type": "markdown",
   "metadata": {},
   "source": [
    "Q1"
   ]
  },
  {
   "cell_type": "code",
   "execution_count": 1,
   "metadata": {},
   "outputs": [
    {
     "name": "stdout",
     "output_type": "stream",
     "text": [
      "1\n",
      "2\n",
      "3\n",
      "4\n",
      "5\n",
      "6\n",
      "7\n",
      "8\n",
      "9\n",
      "10\n"
     ]
    }
   ],
   "source": [
    "counter = 1\n",
    "while counter <= 10:\n",
    "    print(counter)\n",
    "    counter += 1"
   ]
  },
  {
   "cell_type": "markdown",
   "metadata": {},
   "source": [
    "Q2"
   ]
  },
  {
   "cell_type": "code",
   "execution_count": 4,
   "metadata": {},
   "outputs": [
    {
     "name": "stdout",
     "output_type": "stream",
     "text": [
      "Sum of odd integers between 1 and 99: 2500\n"
     ]
    }
   ],
   "source": [
    "sum_of_odds = 0\n",
    "\n",
    "for num in range(1, 100, 2):\n",
    "    sum_of_odds += num\n",
    "\n",
    "print(\"Sum of odd integers between 1 and 99:\", sum_of_odds)"
   ]
  },
  {
   "cell_type": "code",
   "execution_count": 3,
   "metadata": {},
   "outputs": [
    {
     "name": "stdout",
     "output_type": "stream",
     "text": [
      "1\t2\t3\t4\t5\n",
      "6\t7\t8\t9\t10\n",
      "11\t12\t13\t14\t15\n",
      "16\t17\t18\t19\t20\n"
     ]
    }
   ],
   "source": [
    "x = 1\n",
    "while x <= 20:\n",
    "    print(x, end='\\t' if x % 5 != 0 else '\\n')\n",
    "    x += 1"
   ]
  },
  {
   "cell_type": "code",
   "execution_count": 5,
   "metadata": {},
   "outputs": [
    {
     "name": "stdout",
     "output_type": "stream",
     "text": [
      "1\t2\t3\t4\t5\n",
      "6\t7\t8\t9\t10\n",
      "11\t12\t13\t14\t15\n",
      "16\t17\t18\t19\t20\n"
     ]
    }
   ],
   "source": [
    "for x in range(1, 21):\n",
    "    print(x, end='\\t' if x % 5 != 0 else '\\n')"
   ]
  },
  {
   "cell_type": "markdown",
   "metadata": {},
   "source": [
    "Q3"
   ]
  },
  {
   "cell_type": "code",
   "execution_count": 8,
   "metadata": {},
   "outputs": [
    {
     "name": "stdout",
     "output_type": "stream",
     "text": [
      "Invalid input. Please enter a whole number.\n",
      "Invalid input. Please enter a whole number.\n",
      "Average of entered numbers: 7.125\n"
     ]
    }
   ],
   "source": [
    "total = 0\n",
    "count = 0\n",
    "\n",
    "while True:\n",
    "    try:\n",
    "        num = int(input(\"Enter a whole number (enter 0 to finish): \"))\n",
    "    except ValueError:\n",
    "        print(\"Invalid input. Please enter a whole number.\")\n",
    "        continue\n",
    "\n",
    "    if num == 0:\n",
    "        break  \n",
    "\n",
    "    total += num\n",
    "    count += 1\n",
    "\n",
    "if count > 0:\n",
    "    average = total / count\n",
    "    print(\"Average of entered numbers:\", average)\n",
    "else:\n",
    "    print(\"No numbers were entered.\")"
   ]
  },
  {
   "cell_type": "markdown",
   "metadata": {},
   "source": [
    "Q4"
   ]
  },
  {
   "cell_type": "code",
   "execution_count": 7,
   "metadata": {},
   "outputs": [
    {
     "name": "stdout",
     "output_type": "stream",
     "text": [
      "Entered values: [5, 4, 3, 2, 4]\n",
      "Smallest number: 2\n",
      "Largest number: 5\n",
      "Average of the values: 3.6\n"
     ]
    }
   ],
   "source": [
    "values = []\n",
    "\n",
    "for i in range(5):\n",
    "    while True:\n",
    "        try:\n",
    "            value = int(input(f\"Enter integer value {i + 1}: \"))\n",
    "            break \n",
    "        except ValueError:\n",
    "            print(\"Invalid input. Please enter an integer.\")\n",
    "\n",
    "    values.append(value)\n",
    "\n",
    "print(\"Entered values:\", values)\n",
    "\n",
    "smallest = min(values)\n",
    "largest = max(values)\n",
    "average = sum(values) / len(values)\n",
    "\n",
    "print(\"Smallest number:\", smallest)\n",
    "print(\"Largest number:\", largest)\n",
    "print(\"Average of the values:\", average)\n"
   ]
  },
  {
   "cell_type": "code",
   "execution_count": null,
   "metadata": {},
   "outputs": [],
   "source": []
  }
 ],
 "metadata": {
  "kernelspec": {
   "display_name": "Python 3",
   "language": "python",
   "name": "python3"
  },
  "language_info": {
   "codemirror_mode": {
    "name": "ipython",
    "version": 3
   },
   "file_extension": ".py",
   "mimetype": "text/x-python",
   "name": "python",
   "nbconvert_exporter": "python",
   "pygments_lexer": "ipython3",
   "version": "3.9.6"
  }
 },
 "nbformat": 4,
 "nbformat_minor": 2
}
