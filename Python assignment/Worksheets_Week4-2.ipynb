{
 "cells": [
  {
   "cell_type": "markdown",
   "source": [
    "Q1"
   ],
   "metadata": {
    "collapsed": false
   },
   "id": "b4399487d0d4c17c"
  },
  {
   "cell_type": "code",
   "execution_count": 1,
   "id": "initial_id",
   "metadata": {
    "collapsed": true,
    "ExecuteTime": {
     "end_time": "2023-11-19T18:02:37.273111Z",
     "start_time": "2023-11-19T18:02:34.524367Z"
    }
   },
   "outputs": [
    {
     "name": "stdout",
     "output_type": "stream",
     "text": [
      "Division result: 0.60\n",
      "Addition result: 8\n",
      "Subtraction result: -2\n",
      "Multiplication result: 15\n"
     ]
    }
   ],
   "source": [
    "try:\n",
    "    # Input two integers from the user\n",
    "    num1 = int(input(\"Enter the first integer: \"))\n",
    "    num2 = int(input(\"Enter the second integer: \"))\n",
    "\n",
    "    # Perform the four basic operations\n",
    "    addition_result = num1 + num2\n",
    "    subtraction_result = num1 - num2\n",
    "    multiplication_result = num1 * num2\n",
    "\n",
    "    # Check for division by zero\n",
    "    if num2 != 0:\n",
    "        division_result = num1 / num2\n",
    "        print(f\"Division result: {division_result:.2f}\")\n",
    "    else:\n",
    "        print(\"Cannot divide by zero.\")\n",
    "\n",
    "    # Display the results\n",
    "    print(f\"Addition result: {addition_result}\")\n",
    "    print(f\"Subtraction result: {subtraction_result}\")\n",
    "    print(f\"Multiplication result: {multiplication_result}\")\n",
    "\n",
    "except ValueError:\n",
    "    print(\"Please enter valid integers.\")"
   ]
  },
  {
   "cell_type": "markdown",
   "source": [
    "Q2"
   ],
   "metadata": {
    "collapsed": false
   },
   "id": "49d32b6e5f75a476"
  },
  {
   "cell_type": "code",
   "execution_count": null,
   "outputs": [],
   "source": [],
   "metadata": {
    "collapsed": false
   },
   "id": "ab966edc659a5882"
  },
  {
   "cell_type": "markdown",
   "source": [
    "Q4"
   ],
   "metadata": {
    "collapsed": false
   },
   "id": "34396fb3a06ba5e4"
  },
  {
   "cell_type": "code",
   "execution_count": 2,
   "outputs": [
    {
     "name": "stdout",
     "output_type": "stream",
     "text": [
      "Welcome to the ATM System!\n",
      "User registered successfully!\n",
      "Error in the information entered! Login failed.\n",
      "User registered successfully!\n",
      "Login successful!\n",
      "Options:\n",
      "1. Deposit\n",
      "2. Withdrawal\n",
      "3. Check Balance\n",
      "4. Exit\n",
      "Deposit successful! Current balance: 100.0\n",
      "Options:\n",
      "1. Deposit\n",
      "2. Withdrawal\n",
      "3. Check Balance\n",
      "4. Exit\n",
      "Invalid option. Please try again.\n",
      "Options:\n",
      "1. Deposit\n",
      "2. Withdrawal\n",
      "3. Check Balance\n",
      "4. Exit\n",
      "Exiting the ATM. Thank you!\n"
     ]
    }
   ],
   "source": [
    "class ATMSystem:\n",
    "    def __init__(self):\n",
    "        self.users = {}\n",
    "        self.current_user = None\n",
    "\n",
    "    def display_welcome_message(self):\n",
    "        print(\"Welcome to the ATM System!\")\n",
    "\n",
    "    def register_new_user(self):\n",
    "        account_number = input(\"Enter a new account number: \")\n",
    "        pin = input(\"Set your PIN: \")\n",
    "\n",
    "        self.users[account_number] = {'pin': pin, 'balance': 0}\n",
    "        print(\"User registered successfully!\")\n",
    "\n",
    "    def login(self):\n",
    "        account_number = input(\"Enter your account number (or press 0 to register a new user): \")\n",
    "\n",
    "        if account_number == '0':\n",
    "            self.register_new_user()\n",
    "            return\n",
    "\n",
    "        if account_number in self.users:\n",
    "            pin_attempt = input(\"Enter your PIN: \")\n",
    "\n",
    "            if pin_attempt == self.users[account_number]['pin']:\n",
    "                print(\"Login successful!\")\n",
    "                self.current_user = account_number\n",
    "            else:\n",
    "                print(\"Error in the information entered! Login failed.\")\n",
    "        else:\n",
    "            print(\"Error in the information entered! Account not found.\")\n",
    "\n",
    "    def display_options(self):\n",
    "        print(\"Options:\")\n",
    "        print(\"1. Deposit\")\n",
    "        print(\"2. Withdrawal\")\n",
    "        print(\"3. Check Balance\")\n",
    "        print(\"4. Exit\")\n",
    "\n",
    "    def perform_transaction(self):\n",
    "        option = input(\"Enter the option number: \")\n",
    "\n",
    "        if option == '1':\n",
    "            self.deposit()\n",
    "        elif option == '2':\n",
    "            self.withdrawal()\n",
    "        elif option == '3':\n",
    "            self.check_balance()\n",
    "        elif option == '4':\n",
    "            print(\"Exiting the ATM. Thank you!\")\n",
    "            self.current_user = None\n",
    "        else:\n",
    "            print(\"Invalid option. Please try again.\")\n",
    "\n",
    "    def deposit(self):\n",
    "        amount = float(input(\"Enter the amount to deposit: \"))\n",
    "        self.users[self.current_user]['balance'] += amount\n",
    "        print(f\"Deposit successful! Current balance: {self.users[self.current_user]['balance']}\")\n",
    "\n",
    "    def withdrawal(self):\n",
    "        amount = float(input(\"Enter the amount to withdraw: \"))\n",
    "        if amount <= self.users[self.current_user]['balance']:\n",
    "            self.users[self.current_user]['balance'] -= amount\n",
    "            print(f\"Withdrawal successful! Current balance: {self.users[self.current_user]['balance']}\")\n",
    "        else:\n",
    "            print(\"Insufficient funds!\")\n",
    "\n",
    "    def check_balance(self):\n",
    "        print(f\"Current balance: {self.users[self.current_user]['balance']}\")\n",
    "\n",
    "\n",
    "# Main program\n",
    "def main():\n",
    "    atm = ATMSystem()\n",
    "    atm.display_welcome_message()\n",
    "\n",
    "    while True:\n",
    "        if not atm.current_user:\n",
    "            atm.login()\n",
    "\n",
    "        if atm.current_user:\n",
    "            atm.display_options()\n",
    "            atm.perform_transaction()\n",
    "\n",
    "            if not atm.current_user:\n",
    "                break\n",
    "\n",
    "\n",
    "if __name__ == \"__main__\":\n",
    "    main()"
   ],
   "metadata": {
    "collapsed": false,
    "ExecuteTime": {
     "end_time": "2023-11-19T18:06:04.887587Z",
     "start_time": "2023-11-19T18:04:32.572570Z"
    }
   },
   "id": "14fa4acc853a9ef6"
  },
  {
   "cell_type": "code",
   "execution_count": null,
   "outputs": [],
   "source": [],
   "metadata": {
    "collapsed": false
   },
   "id": "8385bd16a5167ecc"
  }
 ],
 "metadata": {
  "kernelspec": {
   "display_name": "Python 3",
   "language": "python",
   "name": "python3"
  },
  "language_info": {
   "codemirror_mode": {
    "name": "ipython",
    "version": 2
   },
   "file_extension": ".py",
   "mimetype": "text/x-python",
   "name": "python",
   "nbconvert_exporter": "python",
   "pygments_lexer": "ipython2",
   "version": "2.7.6"
  }
 },
 "nbformat": 4,
 "nbformat_minor": 5
}
