{
 "cells": [
  {
   "cell_type": "markdown",
   "id": "b4399487d0d4c17c",
   "metadata": {
    "collapsed": false
   },
   "source": [
    "Q1"
   ]
  },
  {
   "cell_type": "code",
   "execution_count": 1,
   "id": "initial_id",
   "metadata": {
    "ExecuteTime": {
     "end_time": "2023-11-19T18:02:37.273111Z",
     "start_time": "2023-11-19T18:02:34.524367Z"
    },
    "collapsed": true
   },
   "outputs": [
    {
     "name": "stdout",
     "output_type": "stream",
     "text": [
      "Division result: 1.00\n",
      "Addition result: 2\n",
      "Subtraction result: 0\n",
      "Multiplication result: 1\n"
     ]
    }
   ],
   "source": [
    "#valid circumstance\n",
    "try:\n",
    "    # Input two integers from the user\n",
    "    # variable num1 equal to input and data type is int\n",
    "    num1 = int(input(\"Enter the first integer: \"))\n",
    "    # variable num2 equal to input and data type is int\n",
    "    num2 = int(input(\"Enter the second integer: \"))\n",
    "\n",
    "    # Perform the four basic operations\n",
    "    #define the variable addition_result equal to input value 1 add input value 2\n",
    "    addition_result = num1 + num2\n",
    "    #define subbtraction_result equal to input value 1 minus input value 2\n",
    "    subtraction_result = num1 - num2\n",
    "    #define multiplication_result equal to input value 1 multiply input value 2\n",
    "    multiplication_result = num1 * num2\n",
    "\n",
    "    # Check for division by zero\n",
    "    #if input value 2 is not equal to 0 \n",
    "    if num2 != 0:\n",
    "        #define the variable division_result equal to input value 1 divide by input value 2\n",
    "        division_result = num1 / num2\n",
    "        #call division_result and print the variable\n",
    "        print(f\"Division result: {division_result:.2f}\")\n",
    "    else:\n",
    "        #if divider equal to zero print the error messages \n",
    "        print(\"Cannot divide by zero.\")\n",
    "\n",
    "    # Display the results\n",
    "    #call addition_result variable and print the value\n",
    "    print(f\"Addition result: {addition_result}\")\n",
    "    print(f\"Subtraction result: {subtraction_result}\")\n",
    "    print(f\"Multiplication result: {multiplication_result}\")\n",
    "#if occur of error when input the invalid values \n",
    "except ValueError:\n",
    "    print(\"Please enter valid integers.\")"
   ]
  },
  {
   "cell_type": "markdown",
   "id": "49d32b6e5f75a476",
   "metadata": {
    "collapsed": false
   },
   "source": [
    "Q2"
   ]
  },
  {
   "cell_type": "code",
   "execution_count": 2,
   "id": "ab966edc659a5882",
   "metadata": {
    "collapsed": false
   },
   "outputs": [
    {
     "name": "stdout",
     "output_type": "stream",
     "text": [
      "The larger number is 4, and the smaller number is 2.\n"
     ]
    }
   ],
   "source": [
    "# Get input from the user\n",
    "# variable num1 equal to input and data type is int\n",
    "num1 = int(input(\"Enter the first integer: \"))\n",
    "# variable num2 equal to input and data type is int\n",
    "num2 = int(input(\"Enter the second integer: \"))\n",
    "\n",
    "# Compare the numbers\n",
    "#if input value 1 equal to input value 2 print \"the numbers num1 and num2 are equal\"\n",
    "if num1 == num2:\n",
    "    #define the result variable\n",
    "    result = f\"The numbers {num1} and {num2} are equal.\"\n",
    "#if input value 1 and 2 is not same numbers \n",
    "else:\n",
    "    #define the variable: larger = find the max value in num1 and num2\n",
    "    larger = max(num1, num2)\n",
    "    #define the variable: smaller = find the min value in num1 and num 2\n",
    "    smaller = min(num1, num2)\n",
    "    #define the result variable \n",
    "    result = f\"The larger number is {larger}, and the smaller number is {smaller}.\"\n",
    "\n",
    "# Display the result\n",
    "print(result)"
   ]
  },
  {
   "cell_type": "markdown",
   "metadata": {},
   "source": [
    "Q3"
   ]
  },
  {
   "cell_type": "code",
   "execution_count": 3,
   "metadata": {},
   "outputs": [
    {
     "name": "stdout",
     "output_type": "stream",
     "text": [
      "\n",
      "Student Name: 70\n",
      "Average Grade: 70.00\n",
      "Status: Approved\n"
     ]
    }
   ],
   "source": [
    "# Get input from the user\n",
    "#define variable: student_name and input the name of student\n",
    "student_name = input(\"Enter the student's name: \")\n",
    "#receive the first grade value \n",
    "grade1 = float(input(\"Enter the first grade: \"))\n",
    "#input the second grade\n",
    "grade2 = float(input(\"Enter the second grade: \"))\n",
    "#input the third grade\n",
    "grade3 = float(input(\"Enter the third grade: \"))\n",
    "\n",
    "# Calculate the average grade\n",
    "#define variable average_grade euqal to grade1 value + grade2 value + grade3 value divide by 3\n",
    "average_grade = (grade1 + grade2 + grade3) / 3\n",
    "\n",
    "# Determine the student's status\n",
    "#if the average value is larger than or equal to 70\n",
    "if average_grade >= 70:\n",
    "    #define the status equal to Approved\n",
    "    status = \"Approved\"\n",
    "#else if the average grade is between equal to or larger than 40 and under 70 \n",
    "elif 40 <= average_grade < 70:\n",
    "    #define the status equal to resit exam\n",
    "    status = \"Resit Exam\"\n",
    "#else the average grade is under 40\n",
    "else:\n",
    "    #define the status equal to failed\n",
    "    status = \"Failed\"\n",
    "\n",
    "# Display the respective result\n",
    "print(f\"\\nStudent Name: {student_name}\")\n",
    "print(f\"Average Grade: {average_grade:.2f}\")\n",
    "print(f\"Status: {status}\")"
   ]
  },
  {
   "cell_type": "markdown",
   "id": "34396fb3a06ba5e4",
   "metadata": {
    "collapsed": false
   },
   "source": [
    "Q4"
   ]
  },
  {
   "cell_type": "code",
   "execution_count": 2,
   "id": "14fa4acc853a9ef6",
   "metadata": {
    "ExecuteTime": {
     "end_time": "2023-11-19T18:06:04.887587Z",
     "start_time": "2023-11-19T18:04:32.572570Z"
    },
    "collapsed": false
   },
   "outputs": [
    {
     "name": "stdout",
     "output_type": "stream",
     "text": [
      "Welcome to the ATM System!\n",
      "User registered successfully!\n",
      "Error in the information entered! Login failed.\n",
      "User registered successfully!\n",
      "Login successful!\n",
      "Options:\n",
      "1. Deposit\n",
      "2. Withdrawal\n",
      "3. Check Balance\n",
      "4. Exit\n",
      "Deposit successful! Current balance: 100.0\n",
      "Options:\n",
      "1. Deposit\n",
      "2. Withdrawal\n",
      "3. Check Balance\n",
      "4. Exit\n",
      "Invalid option. Please try again.\n",
      "Options:\n",
      "1. Deposit\n",
      "2. Withdrawal\n",
      "3. Check Balance\n",
      "4. Exit\n",
      "Exiting the ATM. Thank you!\n"
     ]
    }
   ],
   "source": [
    "class ATMSystem:\n",
    "    \"\"\"\n",
    "    define the fundamental restective, \n",
    "    users is empty dictionary and current_user equal none \n",
    "    \"\"\"\n",
    "    def __init__(self):\n",
    "        self.users = {}\n",
    "        self.current_user = None\n",
    "    #define the function that disply the welcome message \n",
    "    # and use the self method. print the welcome meassge\n",
    "    def display_welcome_message(self):\n",
    "        print(\"Welcome to the ATM System!\")\n",
    "    \"\"\"\n",
    "    using self method\n",
    "    define the function that register new user \n",
    "    the respective variable recieve the input value for user\n",
    "    on the one hand recieve the account number value \n",
    "    on the other hand recieve the pin value\n",
    "    as a subsequent, define the users dictionary,\n",
    "    consequently, print the message\n",
    "    \"\"\"\n",
    "    def register_new_user(self):\n",
    "        account_number = input(\"Enter a new account number: \")\n",
    "        pin = input(\"Set your PIN: \")\n",
    "\n",
    "        self.users[account_number] = {'pin': pin, 'balance': 0}\n",
    "        print(\"User registered successfully!\")\n",
    "    \"\"\"\n",
    "    account_number variable is recieve the input \n",
    "    but the input value is 0 register new user\n",
    "    if write the valid account number \n",
    "    print the message that enter the pin\n",
    "    the write the incorrect pin or account number \n",
    "    print the error message each the pin is invalid and \n",
    "    the account number is invalid \n",
    "    \"\"\"\n",
    "    def login(self):\n",
    "        account_number = input(\"Enter your account number (or press 0 to register a new user): \")\n",
    "\n",
    "        if account_number == '0':\n",
    "            self.register_new_user()\n",
    "            return\n",
    "\n",
    "        if account_number in self.users:\n",
    "            pin_attempt = input(\"Enter your PIN: \")\n",
    "\n",
    "            if pin_attempt == self.users[account_number]['pin']:\n",
    "                print(\"Login successful!\")\n",
    "                self.current_user = account_number\n",
    "            else:\n",
    "                print(\"Error in the information entered! Login failed.\")\n",
    "        else:\n",
    "            print(\"Error in the information entered! Account not found.\")\n",
    "    \"\"\"\n",
    "    define variable display_options and the methods self\n",
    "    print the respective options\n",
    "    \"\"\"\n",
    "    def display_options(self):\n",
    "        print(\"Options:\")\n",
    "        print(\"1. Deposit\")\n",
    "        print(\"2. Withdrawal\")\n",
    "        print(\"3. Check Balance\")\n",
    "        print(\"4. Exit\")\n",
    "    \"\"\"\n",
    "    the below function relate option selection\n",
    "    option variable is to recieve the input\n",
    "    option value equal 1 is deposit, 2 is withdrawal,\n",
    "    3 is chech balance and 4 is exiting atm that \n",
    "    define the current user equal none\n",
    "    \"\"\"\n",
    "    def perform_transaction(self):\n",
    "        option = input(\"Enter the option number: \")\n",
    "\n",
    "        if option == '1':\n",
    "            self.deposit()\n",
    "        elif option == '2':\n",
    "            self.withdrawal()\n",
    "        elif option == '3':\n",
    "            self.check_balance()\n",
    "        elif option == '4':\n",
    "            print(\"Exiting the ATM. Thank you!\")\n",
    "            self.current_user = None\n",
    "        else:\n",
    "            print(\"Invalid option. Please try again.\")\n",
    "    \"\"\"\n",
    "    the dsopsit function is recieving the input value only float data type\n",
    "    and plus the amount value to balance\n",
    "    print the balance\n",
    "    \"\"\"\n",
    "    def deposit(self):\n",
    "        amount = float(input(\"Enter the amount to deposit: \"))\n",
    "        self.users[self.current_user]['balance'] += amount\n",
    "        print(f\"Deposit successful! Current balance: {self.users[self.current_user]['balance']}\")\n",
    "    \"\"\"\n",
    "    amount equal input value which data type is float\n",
    "    the amount value is smaller or equal to balance value \n",
    "    print the message and balance minus amount, however \n",
    "    the amount is larger then balance, print the error message\n",
    "    \"\"\"\n",
    "    def withdrawal(self):\n",
    "        amount = float(input(\"Enter the amount to withdraw: \"))\n",
    "        if amount <= self.users[self.current_user]['balance']:\n",
    "            self.users[self.current_user]['balance'] -= amount\n",
    "            print(f\"Withdrawal successful! Current balance: {self.users[self.current_user]['balance']}\")\n",
    "        else:\n",
    "            print(\"Insufficient funds!\")\n",
    "    #check balance function is print the balance value\n",
    "    def check_balance(self):\n",
    "        print(f\"Current balance: {self.users[self.current_user]['balance']}\")\n",
    "\n",
    "\n",
    "# Main program\n",
    "def main():\n",
    "    #atm equal ATMSystem class\n",
    "    # and call welcome message function\n",
    "    atm = ATMSystem()\n",
    "    atm.display_welcome_message()\n",
    "    \"\"\"\n",
    "    if not atm current user call the login function\n",
    "    if current user is valid displary options and perform transactin\n",
    "    however if not arm current user the loop is broken\n",
    "    \"\"\"\n",
    "    while True:\n",
    "        if not atm.current_user:\n",
    "            atm.login()\n",
    "\n",
    "        if atm.current_user:\n",
    "            atm.display_options()\n",
    "            atm.perform_transaction()\n",
    "\n",
    "            if not atm.current_user:\n",
    "                break\n",
    "# the below code is able to process the code\n",
    "if __name__ == \"__main__\":\n",
    "    main()"
   ]
  },
  {
   "cell_type": "markdown",
   "metadata": {},
   "source": [
    "Q5"
   ]
  },
  {
   "cell_type": "code",
   "execution_count": 1,
   "id": "8385bd16a5167ecc",
   "metadata": {
    "collapsed": false
   },
   "outputs": [
    {
     "name": "stdout",
     "output_type": "stream",
     "text": [
      "\n",
      "Results:\n",
      "Sum: 62\n",
      "Average: 20.67\n",
      "Product: 864\n",
      "Smallest: 4\n",
      "Largest: 54\n"
     ]
    }
   ],
   "source": [
    "#define the variable respective num1, num2 and num3\n",
    "#data type is int and value is input\n",
    "num1 = int(input(\"Enter the first integer: \"))\n",
    "num2 = int(input(\"Enter the second integer: \"))\n",
    "num3 = int(input(\"Enter the third integer: \"))\n",
    "\n",
    "# Calculate sum, average, product, smallest, and largest\n",
    "#define total equal to num1 + num2 + num3\n",
    "#define average = total divide by 3\n",
    "#define product equal to num1 * num2 * num3\n",
    "total = num1 + num2 + num3\n",
    "average = total / 3\n",
    "product = num1 * num2 * num3\n",
    "#define variable smallest equal to find min value in num1, num2 and num3\n",
    "smallest = min(num1, num2, num3)\n",
    "#define variable largest equal to find mzx value in num1, num2 and num3\n",
    "largest = max(num1, num2, num3)\n",
    "\n",
    "# Display the results\n",
    "#print respective results\n",
    "print(\"\\nResults:\")\n",
    "print(f\"Sum: {total}\")\n",
    "print(f\"Average: {average:.2f}\")\n",
    "print(f\"Product: {product}\")\n",
    "print(f\"Smallest: {smallest}\")\n",
    "print(f\"Largest: {largest}\")"
   ]
  },
  {
   "cell_type": "markdown",
   "metadata": {},
   "source": [
    "Q6"
   ]
  },
  {
   "cell_type": "code",
   "execution_count": 5,
   "metadata": {},
   "outputs": [
    {
     "name": "stdout",
     "output_type": "stream",
     "text": [
      "1 is an odd number.\n"
     ]
    }
   ],
   "source": [
    "# define the variable: number\n",
    "#data type is int and the number input via the user\n",
    "number = int(input(\"Enter an integer: \"))\n",
    "\n",
    "# Check if the number is odd or even\n",
    "#if the number divide by 2 equal to 0, the number is odd\n",
    "if number % 2 == 0:\n",
    "    print(f\"{number} is an even number.\")\n",
    "#if the number divide by 2 equal to not 0, the numer is even\n",
    "else:\n",
    "    print(f\"{number} is an odd number.\")"
   ]
  },
  {
   "cell_type": "markdown",
   "metadata": {},
   "source": [
    "Q7"
   ]
  },
  {
   "cell_type": "code",
   "execution_count": 6,
   "metadata": {},
   "outputs": [
    {
     "name": "stdout",
     "output_type": "stream",
     "text": [
      "1 is a multiple of 1.\n"
     ]
    }
   ],
   "source": [
    "# Function to check if the first number is a multiple of the second\n",
    "def is_multiple(num1, num2):\n",
    "    return num1 % num2 == 0\n",
    "\n",
    "# Input two integers from the user\n",
    "num1 = int(input(\"Enter the first integer: \"))\n",
    "num2 = int(input(\"Enter the second integer: \"))\n",
    "\n",
    "\"\"\"\n",
    "if the num divide by num2 equal to 0 is valid\n",
    "print the messeage: \"num1 is a multiple of num2\".\n",
    "However, the circumstance is not valid,\n",
    "print the message: \"num1 is not a multiple of num2\"\n",
    "\"\"\"\n",
    "if is_multiple(num1, num2):\n",
    "    print(f\"{num1} is a multiple of {num2}.\")\n",
    "else:\n",
    "    print(f\"{num1} is not a multiple of {num2}.\")"
   ]
  },
  {
   "cell_type": "markdown",
   "metadata": {},
   "source": [
    "Q8"
   ]
  },
  {
   "cell_type": "code",
   "execution_count": 7,
   "metadata": {},
   "outputs": [
    {
     "name": "stdout",
     "output_type": "stream",
     "text": [
      "Number\tSquare\tCube\n",
      "0\t0\t0\n",
      "1\t1\t1\n",
      "2\t4\t8\n",
      "3\t9\t27\n",
      "4\t16\t64\n",
      "5\t25\t125\n",
      "6\t36\t216\n",
      "7\t49\t343\n",
      "8\t64\t512\n",
      "9\t81\t729\n",
      "10\t100\t1000\n"
     ]
    }
   ],
   "source": [
    "# Function to calculate square and cube of a number\n",
    "#and calcluated value is output to use the return\n",
    "def calculate_square_and_cube(number):\n",
    "    square = number ** 2\n",
    "    cube = number ** 3\n",
    "    return square, cube\n",
    "\n",
    "# Print the table\n",
    "print(\"Number\\tSquare\\tCube\")\n",
    "\n",
    "# Iterate through numbers 0 to 10 and print the table\n",
    "for i in range(11):\n",
    "    square, cube = calculate_square_and_cube(i)\n",
    "    print(f\"{i}\\t{square}\\t{cube}\")"
   ]
  },
  {
   "cell_type": "markdown",
   "metadata": {},
   "source": [
    "Q9"
   ]
  },
  {
   "cell_type": "code",
   "execution_count": 8,
   "metadata": {},
   "outputs": [
    {
     "name": "stdout",
     "output_type": "stream",
     "text": [
      "1 and 1 are equal.\n"
     ]
    }
   ],
   "source": [
    "# Input two integers from the user\n",
    "num1 = int(input(\"Enter the first integer: \"))\n",
    "num2 = int(input(\"Enter the second integer: \"))\n",
    "\n",
    "# Check and print the result\n",
    "if num1 == num2:\n",
    "    print(f\"{num1} and {num2} are equal.\")\n",
    "else:\n",
    "    print(f\"{num1} and {num2} are not equal.\")"
   ]
  },
  {
   "cell_type": "markdown",
   "metadata": {},
   "source": [
    "Q10"
   ]
  },
  {
   "cell_type": "code",
   "execution_count": 11,
   "metadata": {},
   "outputs": [
    {
     "name": "stdout",
     "output_type": "stream",
     "text": [
      "2 is an even number.\n"
     ]
    }
   ],
   "source": [
    "\"\"\"\n",
    "define the variable: number \n",
    "data type is int, and the value is input via the user\n",
    "\"\"\"\n",
    "number = int(input(\"Enter a number: \"))\n",
    "\n",
    "# Check if the number is even or odd\n",
    "\"\"\"\n",
    "if the number equal to 0, when divide by 2,\n",
    "which is the even number, and print the message \n",
    "\"number is an even number\"; however, the number\n",
    "is not equal to 0, the number is odd number.\n",
    "consequently, print the message \"number is an odd number\"\n",
    "\"\"\"\n",
    "if number % 2 == 0:\n",
    "    print(f\"{number} is an even number.\")\n",
    "else:\n",
    "    print(f\"{number} is an odd number.\")"
   ]
  },
  {
   "cell_type": "markdown",
   "metadata": {},
   "source": [
    "Q11"
   ]
  },
  {
   "cell_type": "code",
   "execution_count": 14,
   "metadata": {},
   "outputs": [
    {
     "name": "stdout",
     "output_type": "stream",
     "text": [
      "9.0 is a positive number.\n"
     ]
    }
   ],
   "source": [
    "#define the variable: number \n",
    "#data type is float and input \n",
    "number = float(input(\"Enter a number: \"))\n",
    "\n",
    "# Check if the number is positive, negative, or zero\n",
    "#if input number is larger than 0, the number is positive\n",
    "if number > 0:\n",
    "    #print input number + is a positive number\n",
    "    print(f\"{number} is a positive number.\")\n",
    "#if input number us smaller than 0, the number is negative\n",
    "elif number < 0:\n",
    "    #print input numner + is a negative number\n",
    "    print(f\"{number} is a negative number.\")\n",
    "#if input number is not either negative or positive, the value is 0\n",
    "else:\n",
    "    #print the number is zero\n",
    "    print(\"The number is zero.\")"
   ]
  },
  {
   "cell_type": "markdown",
   "metadata": {},
   "source": [
    "Q12"
   ]
  },
  {
   "cell_type": "code",
   "execution_count": 17,
   "metadata": {},
   "outputs": [
    {
     "name": "stdout",
     "output_type": "stream",
     "text": [
      "2020 is a leap year.\n"
     ]
    }
   ],
   "source": [
    "def is_leap_year(year):\n",
    "    # Leap years are divisible by 4\n",
    "    if year % 4 == 0:\n",
    "        # If divisible by 100, it must also be divisible by 400\n",
    "        if year % 100 == 0:\n",
    "            if year % 400 == 0:\n",
    "                return True\n",
    "            else:\n",
    "                return False\n",
    "        else:\n",
    "            return True\n",
    "    else:\n",
    "        return False\n",
    "\n",
    "# Example usage:\n",
    "year_to_check = int(input(\"Enter a year: \"))\n",
    "#print respective result \n",
    "if is_leap_year(year_to_check):\n",
    "    print(f\"{year_to_check} is a leap year.\")\n",
    "else:\n",
    "    print(f\"{year_to_check} is not a leap year.\")"
   ]
  },
  {
   "cell_type": "markdown",
   "metadata": {},
   "source": [
    "Q13"
   ]
  },
  {
   "cell_type": "code",
   "execution_count": 19,
   "metadata": {},
   "outputs": [
    {
     "name": "stdout",
     "output_type": "stream",
     "text": [
      "The candidate is not eligible to cast their vote.\n"
     ]
    }
   ],
   "source": [
    "# Input candidate's age from the user\n",
    "age = int(input(\"Enter the candidate's age: \"))\n",
    "\n",
    "# Check eligibility to cast vote\n",
    "if age >= 18:\n",
    "    print(\"The candidate is eligible to cast their vote.\")\n",
    "else:\n",
    "    print(\"The candidate is not eligible to cast their vote.\")"
   ]
  },
  {
   "cell_type": "markdown",
   "metadata": {},
   "source": [
    "Q14"
   ]
  },
  {
   "cell_type": "code",
   "execution_count": 21,
   "metadata": {},
   "outputs": [
    {
     "name": "stdout",
     "output_type": "stream",
     "text": [
      "The value of n is: 1\n"
     ]
    }
   ],
   "source": [
    "# Input the value of an integer m from the user\n",
    "m = int(input(\"Enter the value of m: \"))\n",
    "\n",
    "# Determine the value of n based on the conditions\n",
    "if m > 0:\n",
    "    n = 1\n",
    "elif m == 0:\n",
    "    n = 0\n",
    "else:\n",
    "    n = -1\n",
    "\n",
    "# Display the value of n\n",
    "print(f\"The value of n is: {n}\")"
   ]
  },
  {
   "cell_type": "markdown",
   "metadata": {},
   "source": [
    "Q15"
   ]
  },
  {
   "cell_type": "code",
   "execution_count": 26,
   "metadata": {},
   "outputs": [
    {
     "name": "stdout",
     "output_type": "stream",
     "text": [
      "Based on your height, you are categorized as: Short\n"
     ]
    }
   ],
   "source": [
    "# Input height in centimeters from the user\n",
    "height_cm = float(input(\"Enter your height in centimeters: \"))\n",
    "\n",
    "# Categorize the person based on height\n",
    "if height_cm < 160:\n",
    "    category = \"Short\"\n",
    "elif 160 <= height_cm <= 180:\n",
    "    category = \"Average\"\n",
    "else:\n",
    "    category = \"Tall\"\n",
    "\n",
    "# Display the category\n",
    "print(f\"Based on your height, you are categorized as: {category}\")"
   ]
  },
  {
   "cell_type": "markdown",
   "metadata": {},
   "source": [
    "Q16"
   ]
  },
  {
   "cell_type": "code",
   "execution_count": 27,
   "metadata": {},
   "outputs": [
    {
     "name": "stdout",
     "output_type": "stream",
     "text": [
      "The largest of the three numbers is: 3.0\n"
     ]
    }
   ],
   "source": [
    "# Input three numbers from the user\n",
    "num1 = float(input(\"Enter the first number: \"))\n",
    "num2 = float(input(\"Enter the second number: \"))\n",
    "num3 = float(input(\"Enter the third number: \"))\n",
    "\n",
    "# Find the largest number\n",
    "largest = max(num1, num2, num3)\n",
    "\n",
    "# Display the result\n",
    "print(f\"The largest of the three numbers is: {largest}\")"
   ]
  },
  {
   "cell_type": "markdown",
   "metadata": {},
   "source": [
    "Q17"
   ]
  },
  {
   "cell_type": "code",
   "execution_count": 28,
   "metadata": {},
   "outputs": [
    {
     "name": "stdout",
     "output_type": "stream",
     "text": [
      "The candidate is not eligible for admission to the professional course.\n"
     ]
    }
   ],
   "source": [
    "# Input marks obtained in each subject from the user\n",
    "maths_marks = int(input(\"Input the marks obtained in Mathematics: \"))\n",
    "physics_marks = int(input(\"Input the marks obtained in Physics: \"))\n",
    "chemistry_marks = int(input(\"Input the marks obtained in Chemistry: \"))\n",
    "\n",
    "# Calculate the total marks in all three subjects and in Maths and Physics\n",
    "total_all_subjects = maths_marks + physics_marks + chemistry_marks\n",
    "total_maths_physics = maths_marks + physics_marks\n",
    "\n",
    "# Check eligibility based on the given criteria\n",
    "\"\"\"\n",
    "the valid circumstance:\n",
    "the each score math over or equal 65 and physics over or equal 55 and\n",
    "chemistry over or eqaul 50 and total all subject value is over or equal 190\n",
    "or toral math physics value is over or equal 140\n",
    "in valid circumstance print the message the is eligible\n",
    "while the circumstance is invalid print the message is not eligible\n",
    "\"\"\"\n",
    "if (maths_marks >= 65 and physics_marks >= 55 and chemistry_marks >= 50) and \\\n",
    "   (total_all_subjects >= 190 or total_maths_physics >= 140):\n",
    "    print(\"The candidate is eligible for admission to the professional course.\")\n",
    "else:\n",
    "    print(\"The candidate is not eligible for admission to the professional course.\")"
   ]
  },
  {
   "cell_type": "markdown",
   "metadata": {},
   "source": [
    "Q18"
   ]
  },
  {
   "cell_type": "code",
   "execution_count": null,
   "metadata": {},
   "outputs": [],
   "source": [
    "\"\"\"\n",
    "calculate the quadratic function is\n",
    "discriminat is b square minus 4 multiply a multiply c\n",
    "if the discriminant value is larger than equal to 0\n",
    "produce two real root each\n",
    "minus b plus square root discriminant divide by 2a\n",
    "minus b minus square root discriminant divide by 2a\n",
    "however the discriinant is negative number \n",
    "firstly calculate the real part that is -b divide by 2a\n",
    "and find the complex part is square root discriminant divide by 2a\n",
    "the respective complex root is real part - complex part\n",
    "and real part + complex part\n",
    "\"\"\"\n",
    "import cmath  # Import the complex math module for handling complex roots\n",
    "\n",
    "# Input coefficients from the user\n",
    "a = float(input(\"Enter the coefficient a: \"))\n",
    "b = float(input(\"Enter the coefficient b: \"))\n",
    "c = float(input(\"Enter the coefficient c: \"))\n",
    "\n",
    "# Calculate the discriminant\n",
    "discriminant = b**2 - 4*a*c\n",
    "\n",
    "# Check if the roots are real or complex\n",
    "if discriminant >= 0:\n",
    "    # Calculate real roots\n",
    "    root1 = (-b + cmath.sqrt(discriminant)) / (2*a)\n",
    "    root2 = (-b - cmath.sqrt(discriminant)) / (2*a)\n",
    "    print(f\"Root 1: {root1}\")\n",
    "    print(f\"Root 2: {root2}\")\n",
    "else:\n",
    "    # Calculate complex roots\n",
    "    real_part = -b / (2*a)\n",
    "    imaginary_part = cmath.sqrt(abs(discriminant)) / (2*a)\n",
    "    root1 = complex(real_part, imaginary_part)\n",
    "    root2 = complex(real_part, -imaginary_part)\n",
    "    print(f\"Root 1: {root1}\")\n",
    "    print(f\"Root 2: {root2}\")"
   ]
  },
  {
   "cell_type": "markdown",
   "metadata": {},
   "source": [
    "Q19"
   ]
  },
  {
   "cell_type": "code",
   "execution_count": null,
   "metadata": {},
   "outputs": [],
   "source": []
  },
  {
   "cell_type": "markdown",
   "metadata": {},
   "source": [
    "Q20"
   ]
  },
  {
   "cell_type": "code",
   "execution_count": 6,
   "metadata": {},
   "outputs": [
    {
     "name": "stdout",
     "output_type": "stream",
     "text": [
      "It's Very Hot\n"
     ]
    }
   ],
   "source": [
    "#define variable temperature that data type is float, and receive the input temperature value\n",
    "temperature = float(input(\"Enter the temperature in centigrade: \"))\n",
    "\n",
    "# Check and display a suitable message based on the temperature state\n",
    "#if temperature value is smaller than 0, print the message \"Freezing weather\"\n",
    "if temperature < 0:\n",
    "    print(\"Freezing weather\")\n",
    "#else if temperature value is between equal to or larger than 0 and smaller than 10, \n",
    "# print the message \"Very cold weather\"\n",
    "elif 0 <= temperature < 10:\n",
    "    print(\"Very Cold weather\")\n",
    "elif 10 <= temperature < 20:\n",
    "    print(\"Cold weather\")\n",
    "elif 20 <= temperature < 30:\n",
    "    print(\"Normal in Temp\")\n",
    "elif 30 <= temperature < 40:\n",
    "    print(\"It's Hot\")\n",
    "else:\n",
    "    print(\"It's Very Hot\")"
   ]
  },
  {
   "cell_type": "markdown",
   "metadata": {},
   "source": [
    "Q21"
   ]
  },
  {
   "cell_type": "code",
   "execution_count": 31,
   "metadata": {},
   "outputs": [
    {
     "name": "stdout",
     "output_type": "stream",
     "text": [
      "The triangle is a Scalene triangle.\n"
     ]
    }
   ],
   "source": [
    "# Input the lengths of the sides of the triangle\n",
    "side1 = float(input(\"Enter the length of the first side: \"))\n",
    "side2 = float(input(\"Enter the length of the second side: \"))\n",
    "side3 = float(input(\"Enter the length of the third side: \"))\n",
    "\"\"\"\n",
    "if the all side value is equal, which is equilateral\n",
    "and two different side value is equal that is isosceles\n",
    "however all side values is not equal that is scalence\n",
    "\"\"\"\n",
    "# Check the type of triangle\n",
    "if side1 == side2 == side3:\n",
    "    triangle_type = \"Equilateral\"\n",
    "elif side1 == side2 or side1 == side3 or side2 == side3:\n",
    "    triangle_type = \"Isosceles\"\n",
    "else:\n",
    "    triangle_type = \"Scalene\"\n",
    "\n",
    "# Display the result\n",
    "print(f\"The triangle is a {triangle_type} triangle.\")"
   ]
  },
  {
   "cell_type": "markdown",
   "metadata": {},
   "source": [
    "Q22"
   ]
  },
  {
   "cell_type": "code",
   "execution_count": 2,
   "metadata": {},
   "outputs": [
    {
     "name": "stdout",
     "output_type": "stream",
     "text": [
      "A triangle cannot be formed with these angle values.\n"
     ]
    }
   ],
   "source": [
    "\"\"\"\n",
    "define angle1, angle2 and angle3, respectively\n",
    "respective variable is input and data type is float\n",
    "the way of finding the valid triangle is two measures.\n",
    "On the one hand the value of angle1 + angle2 + angle3 equal to 180,\n",
    "which is valid triangle as a consequence, print the message. \n",
    "On the other hand the respective input value is \n",
    "larger than 0 in spite of that if the opposing circumstance occur,\n",
    "print the error messgae.\n",
    "\"\"\"\n",
    "angle1 = float(input(\"Enter the measure of the first angle in degrees: \"))\n",
    "angle2 = float(input(\"Enter the measure of the second angle in degrees: \"))\n",
    "angle3 = float(input(\"Enter the measure of the third angle in degrees: \"))\n",
    "\n",
    "# Check if a triangle can be formed\n",
    "if angle1 + angle2 + angle3 == 180 and angle1 > 0 and angle2 > 0 and angle3 > 0:\n",
    "    print(\"A triangle can be formed with these angle values.\")\n",
    "else:\n",
    "    print(\"A triangle cannot be formed with these angle values.\")"
   ]
  },
  {
   "cell_type": "markdown",
   "metadata": {},
   "source": [
    "Q23"
   ]
  },
  {
   "cell_type": "code",
   "execution_count": 7,
   "metadata": {},
   "outputs": [
    {
     "name": "stdout",
     "output_type": "stream",
     "text": [
      "The entered character is a special character.\n"
     ]
    }
   ],
   "source": [
    "\"\"\"\n",
    "The variable character is defined that eqaul to input.\n",
    "if the input character is alphabet, print the message is an alphabet\n",
    "the input character is a digit, print the message is a digit\n",
    "else the input value is neither alphabet nor digit, print the message \n",
    "the character is a special character\n",
    "\"\"\"\n",
    "# Input a character from the user\n",
    "character = input(\"Enter a character: \")\n",
    "\n",
    "# Check the type of character\n",
    "if character.isalpha():\n",
    "    print(\"The entered character is an alphabet.\")\n",
    "elif character.isdigit():\n",
    "    print(\"The entered character is a digit.\")\n",
    "else:\n",
    "    print(\"The entered character is a special character.\")"
   ]
  },
  {
   "cell_type": "markdown",
   "metadata": {},
   "source": [
    "Q24"
   ]
  },
  {
   "cell_type": "code",
   "execution_count": null,
   "metadata": {},
   "outputs": [],
   "source": [
    "def check_alphabet(char):\n",
    "    # Convert the character to lowercase for case-insensitivity\n",
    "    char = char.lower()\n",
    "\n",
    "    \"\"\"\n",
    "    if the char inclued a, e, i, o and u\n",
    "    reture the char is a vowel.\n",
    "    while char inclued other character.\n",
    "    reture the char is a consonant \n",
    "    \"\"\"\n",
    "    if char in ['a', 'e', 'i', 'o', 'u']:\n",
    "        return f\"{char} is a vowel.\"\n",
    "    else:\n",
    "        return f\"{char} is a consonant.\"\n",
    "\n",
    "# Get user input\n",
    "alphabet_input = input(\"Enter an alphabet: \")\n",
    "\n",
    "# Check and print the result\n",
    "result = check_alphabet(alphabet_input)\n",
    "print(result)"
   ]
  },
  {
   "cell_type": "markdown",
   "metadata": {},
   "source": [
    "Q25"
   ]
  },
  {
   "cell_type": "code",
   "execution_count": null,
   "metadata": {},
   "outputs": [],
   "source": [
    "def calculate_profit_loss(cost_price, selling_price):\n",
    "    # Calculate profit or loss\n",
    "    profit_loss = selling_price - cost_price\n",
    "    \"\"\"\n",
    "    if the value of profit_loss is over 0, make the output is profit\n",
    "    Despite that the profit_loss is smaller than 0, make the output is loss\n",
    "    else the profit_loss value is equal to 0\n",
    "    the output is no profit and no loss\n",
    "    \"\"\"\n",
    "    if profit_loss > 0:\n",
    "        return f\"Profit: ${profit_loss:.2f}\"\n",
    "    elif profit_loss < 0:\n",
    "        return f\"Loss: ${abs(profit_loss):.2f}\"\n",
    "    else:\n",
    "        return \"No profit, no loss.\"\n",
    "\n",
    "# Get user input for cost price and selling price\n",
    "cost_price = float(input(\"Enter the cost price: $\"))\n",
    "selling_price = float(input(\"Enter the selling price: $\"))\n",
    "\n",
    "# Calculate and print the result\n",
    "result = calculate_profit_loss(cost_price, selling_price)\n",
    "print(result)"
   ]
  },
  {
   "cell_type": "markdown",
   "metadata": {},
   "source": [
    "Q26"
   ]
  },
  {
   "cell_type": "code",
   "execution_count": 4,
   "metadata": {},
   "outputs": [
    {
     "name": "stdout",
     "output_type": "stream",
     "text": [
      "\n",
      "Electricity Bill\n",
      "Customer ID: 200\n",
      "Customer Name: 0\n",
      "Units Consumed: 0.0\n",
      "Total Amount to Pay: £100.00\n"
     ]
    }
   ],
   "source": [
    "def calculate_electricity_bill(customer_id, customer_name, units_consumed):\n",
    "    # Constants\n",
    "    unit_rate = 0.8  # Rate per unit\n",
    "    surcharge_rate = 0.15  # Surcharge rate if bill exceeds £400\n",
    "    minimum_bill = 100  # Minimum bill amount\n",
    "\n",
    "    # Calculate total bill amount\n",
    "    total_amount = units_consumed * unit_rate\n",
    "\n",
    "    # Apply surcharge if bill exceeds £400\n",
    "    if total_amount > 400:\n",
    "        surcharge = total_amount * surcharge_rate\n",
    "        total_amount += surcharge\n",
    "\n",
    "    # Ensure the minimum bill is £100\n",
    "    total_amount = max(total_amount, minimum_bill)\n",
    "\n",
    "    # Display the bill details\n",
    "    print(\"\\nElectricity Bill\")\n",
    "    print(\"Customer ID:\", customer_id)\n",
    "    print(\"Customer Name:\", customer_name)\n",
    "    print(\"Units Consumed:\", units_consumed)\n",
    "    print(\"Total Amount to Pay: £{:.2f}\".format(total_amount))\n",
    "\n",
    "# Get user input\n",
    "customer_id = input(\"Enter Customer ID: \")\n",
    "customer_name = input(\"Enter Customer Name: \")\n",
    "units_consumed = float(input(\"Enter Units Consumed: \"))\n",
    "\n",
    "# Calculate and print the electricity bill\n",
    "calculate_electricity_bill(customer_id, customer_name, units_consumed)"
   ]
  },
  {
   "cell_type": "markdown",
   "metadata": {},
   "source": [
    "Q27"
   ]
  },
  {
   "cell_type": "code",
   "execution_count": null,
   "metadata": {},
   "outputs": [],
   "source": [
    "def display_grade_description(grade):\n",
    "    #define the grade table respectively\n",
    "    grade_table = {\n",
    "        'E': 'Excellent',\n",
    "        'V': 'Very Good',\n",
    "        'G': 'Good',\n",
    "        'A': 'Average',\n",
    "        'F': 'Fail'\n",
    "    }\n",
    "\n",
    "    # Convert grade to uppercase for case-insensitivity\n",
    "    grade = grade.upper()\n",
    "\n",
    "    # Check if the grade is in the table\n",
    "    if grade in grade_table:\n",
    "        print(f\"The equivalent description for grade {grade} is {grade_table[grade]}.\")\n",
    "    else:\n",
    "        print(\"Invalid grade. Please enter a valid grade (E, V, G, A, F).\")\n",
    "\n",
    "# Get user input\n",
    "user_grade = input(\"Enter a grade (E, V, G, A, F): \")\n",
    "\n",
    "# Display the equivalent description\n",
    "display_grade_description(user_grade)"
   ]
  },
  {
   "cell_type": "markdown",
   "metadata": {},
   "source": [
    "Q28"
   ]
  },
  {
   "cell_type": "code",
   "execution_count": 3,
   "metadata": {},
   "outputs": [
    {
     "name": "stdout",
     "output_type": "stream",
     "text": [
      "The day is Sunday.\n"
     ]
    }
   ],
   "source": [
    "def display_day_name(day_number):\n",
    "    #define the list of days\n",
    "    days = [\"Monday\", \"Tuesday\", \"Wednesday\", \"Thursday\", \"Friday\", \"Saturday\", \"Sunday\"]\n",
    "    \"\"\"\n",
    "    The valid circumstance is day_number, which is between equal or larger than 1,\n",
    "    and equal or smaller than 7. print the message.\n",
    "    However the input value is smaller than 1 or over 7.\n",
    "    When such circumstance, the error is occured, and \n",
    "    print the error message. \n",
    "    \"\"\"\n",
    "    if 1 <= day_number <= 7:\n",
    "        print(f\"The day is {days[day_number - 1]}.\")\n",
    "    else:\n",
    "        print(\"Invalid input. Please enter a number between 1 and 7.\")\n",
    "\n",
    "# Get user input\n",
    "day_number = int(input(\"Enter a number from 1 to 7: \"))\n",
    "\n",
    "# Display the day's name\n",
    "display_day_name(day_number)"
   ]
  },
  {
   "cell_type": "markdown",
   "metadata": {},
   "source": [
    "Q29"
   ]
  },
  {
   "cell_type": "code",
   "execution_count": 1,
   "metadata": {},
   "outputs": [
    {
     "name": "stdout",
     "output_type": "stream",
     "text": [
      "The digit is one.\n"
     ]
    }
   ],
   "source": [
    "def display_digit_name(digit):\n",
    "    #define the list of digit_name\n",
    "    digit_names = [\"zero\", \"one\", \"two\", \"three\", \"four\", \"five\", \"six\", \"seven\", \"eight\", \"nine\"]\n",
    "    #if the input value is between equal or larger than 0 and equal or smaller than 9\n",
    "    #the value include aforementioned circumstance which is valid. \n",
    "    #rpint the message\n",
    "    if 0 <= digit <= 9:\n",
    "        print(f\"The digit is {digit_names[digit]}.\")\n",
    "    #if whoever write invaild value\n",
    "    else:\n",
    "        print(\"Invalid input. Please enter a single digit (0 to 9).\")\n",
    "\n",
    "# Get user input\n",
    "digit = int(input(\"Enter a single digit (0 to 9): \"))\n",
    "\n",
    "# Display the digit's name\n",
    "display_digit_name(digit)"
   ]
  },
  {
   "cell_type": "markdown",
   "metadata": {},
   "source": [
    "Q30"
   ]
  },
  {
   "cell_type": "code",
   "execution_count": 1,
   "metadata": {},
   "outputs": [
    {
     "name": "stdout",
     "output_type": "stream",
     "text": [
      "December - 31 days\n"
     ]
    }
   ],
   "source": [
    "#get input from the user\n",
    "month_number = int(input(\"Enter a number from 1 to 12 representing a month: \"))\n",
    "\n",
    "#check if the input is valid\n",
    "if 1 <= month_number <= 12:\n",
    "    #define a list of month names and corresponding days\n",
    "    month_names = [\n",
    "        \"January\", \"February\", \"March\", \"April\",\n",
    "        \"May\", \"June\", \"July\", \"August\",\n",
    "        \"September\", \"October\", \"November\", \"December\"\n",
    "    ]\n",
    "    #define the list of days_in_month list\n",
    "    days_in_month = [31, 28, 31, 30, 31, 30, 31, 31, 30, 31, 30, 31]\n",
    "\n",
    "    # Get the month name and number of days\n",
    "    month_name = month_names[month_number - 1]\n",
    "    num_days = days_in_month[month_number - 1]\n",
    "\n",
    "    # Display the result\n",
    "    print(f\"{month_name} - {num_days} days\")\n",
    "#if the input data is invalid \n",
    "else:\n",
    "    print(\"Invalid input. Please enter a number from 1 to 12.\")"
   ]
  }
 ],
 "metadata": {
  "kernelspec": {
   "display_name": "Python 3",
   "language": "python",
   "name": "python3"
  },
  "language_info": {
   "codemirror_mode": {
    "name": "ipython",
    "version": 3
   },
   "file_extension": ".py",
   "mimetype": "text/x-python",
   "name": "python",
   "nbconvert_exporter": "python",
   "pygments_lexer": "ipython3",
   "version": "3.9.6"
  }
 },
 "nbformat": 4,
 "nbformat_minor": 5
}
