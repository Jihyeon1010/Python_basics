{
 "cells": [
  {
   "cell_type": "markdown",
   "metadata": {},
   "source": [
    "Q1"
   ]
  },
  {
   "cell_type": "code",
   "execution_count": 1,
   "metadata": {
    "ExecuteTime": {
     "end_time": "2023-11-16T13:08:47.496744Z",
     "start_time": "2023-11-16T13:08:47.485953Z"
    }
   },
   "outputs": [
    {
     "name": "stdout",
     "output_type": "stream",
     "text": [
      "1\n",
      "2\n",
      "3\n",
      "4\n",
      "5\n",
      "6\n",
      "7\n",
      "8\n",
      "9\n",
      "10\n"
     ]
    }
   ],
   "source": [
    "#define counter equal 1\n",
    "counter = 1\n",
    "#iterate when counter value is smaller or equal to 10\n",
    "while counter <= 10:\n",
    "    #print counter value\n",
    "    print(counter)\n",
    "    #after print add 1 on counter value\n",
    "    counter += 1"
   ]
  },
  {
   "cell_type": "markdown",
   "metadata": {},
   "source": [
    "Q2"
   ]
  },
  {
   "cell_type": "code",
   "execution_count": 4,
   "metadata": {},
   "outputs": [
    {
     "name": "stdout",
     "output_type": "stream",
     "text": [
      "Sum of odd integers between 1 and 99: 2500\n"
     ]
    }
   ],
   "source": [
    "#define variable su_of_odds equal to 0\n",
    "sum_of_odds = 0\n",
    "\n",
    "for num in range(1, 100, 2):\n",
    "    sum_of_odds += num\n",
    "\n",
    "print(\"Sum of odd integers between 1 and 99:\", sum_of_odds)"
   ]
  },
  {
   "cell_type": "code",
   "execution_count": 3,
   "metadata": {},
   "outputs": [
    {
     "name": "stdout",
     "output_type": "stream",
     "text": [
      "1\t2\t3\t4\t5\n",
      "6\t7\t8\t9\t10\n",
      "11\t12\t13\t14\t15\n",
      "16\t17\t18\t19\t20\n"
     ]
    }
   ],
   "source": [
    "#define x equal 1\n",
    "x = 1\n",
    "#loop when x smaller or equal\n",
    "while x <= 20:\n",
    "    print(x, end='\\t' if x % 5 != 0 else '\\n')\n",
    "    x += 1"
   ]
  },
  {
   "cell_type": "code",
   "execution_count": 5,
   "metadata": {},
   "outputs": [
    {
     "name": "stdout",
     "output_type": "stream",
     "text": [
      "1\t2\t3\t4\t5\n",
      "6\t7\t8\t9\t10\n",
      "11\t12\t13\t14\t15\n",
      "16\t17\t18\t19\t20\n"
     ]
    }
   ],
   "source": [
    "#define rang of x usinf for command\n",
    "for x in range(1, 21):\n",
    "    #print x \n",
    "    print(x, end='\\t' if x % 5 != 0 else '\\n')"
   ]
  },
  {
   "cell_type": "markdown",
   "metadata": {},
   "source": [
    "Q3"
   ]
  },
  {
   "cell_type": "code",
   "execution_count": 8,
   "metadata": {},
   "outputs": [
    {
     "name": "stdout",
     "output_type": "stream",
     "text": [
      "Invalid input. Please enter a whole number.\n",
      "Invalid input. Please enter a whole number.\n",
      "Average of entered numbers: 7.125\n"
     ]
    }
   ],
   "source": [
    "#define total and count value equal 0\n",
    "total = 0\n",
    "count = 0\n",
    "\n",
    "while True:\n",
    "    try:\n",
    "        num = int(input(\"Enter a whole number (enter 0 to finish): \"))\n",
    "    except ValueError:\n",
    "        print(\"Invalid input. Please enter a whole number.\")\n",
    "        continue\n",
    "\n",
    "    if num == 0:\n",
    "        break  \n",
    "\n",
    "    total += num\n",
    "    count += 1\n",
    "\n",
    "if count > 0:\n",
    "    average = total / count\n",
    "    print(\"Average of entered numbers:\", average)\n",
    "else:\n",
    "    print(\"No numbers were entered.\")"
   ]
  },
  {
   "cell_type": "markdown",
   "metadata": {},
   "source": [
    "Q4"
   ]
  },
  {
   "cell_type": "code",
   "execution_count": 2,
   "metadata": {
    "ExecuteTime": {
     "end_time": "2023-11-16T13:09:37.179538Z",
     "start_time": "2023-11-16T13:09:32.537892Z"
    }
   },
   "outputs": [
    {
     "name": "stdout",
     "output_type": "stream",
     "text": [
      "Entered values: [5, 3, 8, 6, 4]\n",
      "Smallest number: 3\n",
      "Largest number: 8\n",
      "Average of the values: 5.2\n"
     ]
    }
   ],
   "source": [
    "values = []\n",
    "\n",
    "for i in range(5):\n",
    "    while True:\n",
    "        try:\n",
    "            value = int(input(f\"Enter integer value {i + 1}: \"))\n",
    "            break \n",
    "        except ValueError:\n",
    "            print(\"Invalid input. Please enter an integer.\")\n",
    "\n",
    "    values.append(value)\n",
    "\n",
    "print(\"Entered values:\", values)\n",
    "\n",
    "smallest = min(values)\n",
    "largest = max(values)\n",
    "average = sum(values) / len(values)\n",
    "\n",
    "print(\"Smallest number:\", smallest)\n",
    "print(\"Largest number:\", largest)\n",
    "print(\"Average of the values:\", average)\n"
   ]
  },
  {
   "cell_type": "markdown",
   "metadata": {},
   "source": [
    "Q5"
   ]
  },
  {
   "cell_type": "code",
   "execution_count": 5,
   "metadata": {
    "ExecuteTime": {
     "end_time": "2023-11-16T13:18:31.673637Z",
     "start_time": "2023-11-16T13:18:20.260058Z"
    },
    "collapsed": false
   },
   "outputs": [
    {
     "name": "stdout",
     "output_type": "stream",
     "text": [
      "Student's final grade: A\n"
     ]
    }
   ],
   "source": [
    "def calculate_final_grade(grade1, grade2, grade3, average):\n",
    "    final_grade = (grade1 + grade2 * 2 + grade3 * 3 + average) / 7\n",
    "\n",
    "    if final_grade >= 9:\n",
    "        return 'A'\n",
    "    elif 7.5 <= final_grade < 9:\n",
    "        return 'B'\n",
    "    elif 6 <= final_grade < 7.5:\n",
    "        return 'C'\n",
    "    elif 4 <= final_grade < 6:\n",
    "        return 'D'\n",
    "    else:\n",
    "        return 'E'\n",
    "\n",
    "def main():\n",
    "    grade1 = float(input(\"Enter grade 1: \"))\n",
    "    grade2 = float(input(\"Enter grade 2: \"))\n",
    "    grade3 = float(input(\"Enter grade 3: \"))\n",
    "    average = float(input(\"Enter the average: \"))\n",
    "\n",
    "    final_grade = calculate_final_grade(grade1, grade2, grade3, average)\n",
    "\n",
    "    print(f\"Student's final grade: {final_grade}\")\n",
    "\n",
    "if __name__ == \"__main__\":\n",
    "    main()"
   ]
  },
  {
   "cell_type": "markdown",
   "metadata": {
    "collapsed": false
   },
   "source": [
    "Q6"
   ]
  },
  {
   "cell_type": "code",
   "execution_count": 3,
   "metadata": {
    "ExecuteTime": {
     "end_time": "2023-11-16T13:14:54.041127Z",
     "start_time": "2023-11-16T13:14:16.499398Z"
    },
    "collapsed": false
   },
   "outputs": [
    {
     "name": "stdout",
     "output_type": "stream",
     "text": [
      "Number 5 found at index 2 in the array.\n"
     ]
    }
   ],
   "source": [
    "def search_in_array(array, target):\n",
    "    for i, value in enumerate(array):\n",
    "        if value == target:\n",
    "            return i\n",
    "    return -1\n",
    "\n",
    "def main():\n",
    "    size = int(input(\"Enter the size of the array: \"))\n",
    "\n",
    "    my_array = []\n",
    "\n",
    "    for i in range(size):\n",
    "        value = int(input(f\"Enter value for index {i}: \"))\n",
    "        my_array.append(value)\n",
    "\n",
    "    search_number = int(input(\"Enter the number to search for: \"))\n",
    "\n",
    "    result = search_in_array(my_array, search_number)\n",
    "\n",
    "    if result != -1:\n",
    "        print(f\"Number {search_number} found at index {result} in the array.\")\n",
    "    else:\n",
    "        print(f\"Number {search_number} does not exist in the array.\")\n",
    "\n",
    "if __name__ == \"__main__\":\n",
    "    main()"
   ]
  },
  {
   "cell_type": "markdown",
   "metadata": {
    "collapsed": false
   },
   "source": [
    "Q7"
   ]
  },
  {
   "cell_type": "code",
   "execution_count": 4,
   "metadata": {
    "ExecuteTime": {
     "end_time": "2023-11-16T13:16:36.062839Z",
     "start_time": "2023-11-16T13:16:36.056881Z"
    },
    "collapsed": false
   },
   "outputs": [
    {
     "name": "stdout",
     "output_type": "stream",
     "text": [
      "1 2 3 4 5 6 7 8 9 10 "
     ]
    }
   ],
   "source": [
    "def display_first_natural_numbers(n):\n",
    "    for i in range(1, n + 1):\n",
    "        print(i, end=\" \")\n",
    "\n",
    "display_first_natural_numbers(10)"
   ]
  },
  {
   "cell_type": "markdown",
   "metadata": {
    "collapsed": false
   },
   "source": [
    "Q8"
   ]
  },
  {
   "cell_type": "code",
   "execution_count": 6,
   "metadata": {
    "ExecuteTime": {
     "end_time": "2023-11-16T13:20:53.909374Z",
     "start_time": "2023-11-16T13:20:53.899981Z"
    },
    "collapsed": false
   },
   "outputs": [
    {
     "name": "stdout",
     "output_type": "stream",
     "text": [
      "The first 10 natural numbers are:\n",
      "1 2 3 4 5 6 7 8 9 10 \n",
      "The Sum is: 55\n"
     ]
    }
   ],
   "source": [
    "def sum_of_natural_numbers(n):\n",
    "    return n * (n + 1) // 2 \n",
    "\n",
    "def main():\n",
    "    print(\"The first 10 natural numbers are:\")\n",
    "    for i in range(1, 11):\n",
    "        print(i, end=\" \")\n",
    "\n",
    "    sum_result = sum_of_natural_numbers(10)\n",
    "\n",
    "    print(\"\\nThe Sum is:\", sum_result)\n",
    "\n",
    "if __name__ == \"__main__\":\n",
    "    main()"
   ]
  },
  {
   "cell_type": "markdown",
   "metadata": {
    "collapsed": false
   },
   "source": [
    "Q9"
   ]
  },
  {
   "cell_type": "code",
   "execution_count": 3,
   "metadata": {
    "ExecuteTime": {
     "end_time": "2023-11-19T17:55:10.453126Z",
     "start_time": "2023-11-19T17:55:08.324762Z"
    },
    "collapsed": false
   },
   "outputs": [
    {
     "name": "stdout",
     "output_type": "stream",
     "text": [
      "The natural numbers are: 1 2 3 4 5 6 7.\n",
      "The Sum of natural Numbers up to 7 terms: 28.\n"
     ]
    }
   ],
   "source": [
    "def display_natural_numbers_and_sum(n):\n",
    "    natural_numbers = list(range(1, n + 1))  # Generating natural numbers from 1 to n\n",
    "    sum_of_natural_numbers = sum(natural_numbers)  # Calculating the sum\n",
    "\n",
    "    print(f'The natural numbers are: {\" \".join(map(str, natural_numbers))}.')\n",
    "    print(f'The Sum of natural Numbers up to {n} terms: {sum_of_natural_numbers}.')\n",
    "\n",
    "# Sample usage\n",
    "try:\n",
    "    n_terms = int(input(\"Enter the value of n: \"))\n",
    "    display_natural_numbers_and_sum(n_terms)\n",
    "except ValueError:\n",
    "    print(\"Please enter a valid integer.\")"
   ]
  },
  {
   "cell_type": "markdown",
   "metadata": {
    "collapsed": false
   },
   "source": [
    "Q10"
   ]
  },
  {
   "cell_type": "code",
   "execution_count": 2,
   "metadata": {
    "ExecuteTime": {
     "end_time": "2023-11-19T17:53:07.463013Z",
     "start_time": "2023-11-19T17:52:58.774598Z"
    },
    "collapsed": false
   },
   "outputs": [
    {
     "name": "stdout",
     "output_type": "stream",
     "text": [
      "The sum of the numbers is: 36.0\n",
      "The average of the numbers is: 7.2\n"
     ]
    }
   ],
   "source": [
    "def calculate_sum_and_average():\n",
    "    try:\n",
    "        # Read 5 numbers from the keyboard\n",
    "        numbers = [float(input(f\"Enter number {i + 1}: \")) for i in range(5)]\n",
    "\n",
    "        # Calculate sum and average\n",
    "        sum_of_numbers = sum(numbers)\n",
    "        average = sum_of_numbers / len(numbers)\n",
    "\n",
    "        # Display the results\n",
    "        print(f\"The sum of the numbers is: {sum_of_numbers}\")\n",
    "        print(f\"The average of the numbers is: {average}\")\n",
    "\n",
    "    except ValueError:\n",
    "        print(\"Please enter valid numbers.\")\n",
    "\n",
    "# Call the function to execute the program\n",
    "calculate_sum_and_average()"
   ]
  },
  {
   "cell_type": "markdown",
   "metadata": {
    "collapsed": false
   },
   "source": [
    "Q11"
   ]
  },
  {
   "cell_type": "code",
   "execution_count": 5,
   "metadata": {
    "ExecuteTime": {
     "end_time": "2023-11-19T17:58:24.671145Z",
     "start_time": "2023-11-19T17:58:23.027862Z"
    },
    "collapsed": false
   },
   "outputs": [
    {
     "name": "stdout",
     "output_type": "stream",
     "text": [
      "Number is: 1 and cube of 1 is: 1\n",
      "Number is: 2 and cube of 2 is: 8\n",
      "Number is: 3 and cube of 3 is: 27\n",
      "Number is: 4 and cube of 4 is: 64\n",
      "Number is: 5 and cube of 5 is: 125\n"
     ]
    }
   ],
   "source": [
    "def display_cubes_up_to_n(n):\n",
    "    for i in range(1, n + 1):\n",
    "        cube = i ** 3\n",
    "        print(f'Number is: {i} and cube of {i} is: {cube}')\n",
    "\n",
    "# Sample usage\n",
    "try:\n",
    "    n_value = int(input(\"Input number of terms: \"))\n",
    "    display_cubes_up_to_n(n_value)\n",
    "except ValueError:\n",
    "    print(\"Please enter a valid integer.\")"
   ]
  },
  {
   "cell_type": "markdown",
   "metadata": {
    "collapsed": false
   },
   "source": [
    "Q12"
   ]
  },
  {
   "cell_type": "code",
   "execution_count": 6,
   "metadata": {
    "ExecuteTime": {
     "end_time": "2023-11-19T17:59:56.111338Z",
     "start_time": "2023-11-19T17:59:48.009944Z"
    },
    "collapsed": false
   },
   "outputs": [
    {
     "name": "stdout",
     "output_type": "stream",
     "text": [
      "The odd numbers are: 1 3 5 7 9 11 13 15 17 19.\n",
      "The Sum of odd Natural Numbers up to 10 terms: 100.\n"
     ]
    }
   ],
   "source": [
    "def display_odd_numbers_and_sum(n):\n",
    "    odd_numbers = [2 * i + 1 for i in range(n)]  # Generating odd natural numbers\n",
    "    sum_of_odd_numbers = sum(odd_numbers)  # Calculating the sum\n",
    "\n",
    "    print(f'The odd numbers are: {\" \".join(map(str, odd_numbers))}.')\n",
    "    print(f'The Sum of odd Natural Numbers up to {n} terms: {sum_of_odd_numbers}.')\n",
    "\n",
    "# Sample usage\n",
    "try:\n",
    "    n_terms = int(input(\"Input number of terms: \"))\n",
    "    display_odd_numbers_and_sum(n_terms)\n",
    "except ValueError:\n",
    "    print(\"Please enter a valid integer.\")"
   ]
  },
  {
   "cell_type": "markdown",
   "metadata": {
    "collapsed": false
   },
   "source": [
    "Q13"
   ]
  },
  {
   "cell_type": "code",
   "execution_count": 7,
   "metadata": {
    "ExecuteTime": {
     "end_time": "2023-11-19T18:01:02.254457Z",
     "start_time": "2023-11-19T18:00:55.527087Z"
    },
    "collapsed": false
   },
   "outputs": [
    {
     "name": "stdout",
     "output_type": "stream",
     "text": [
      "1\n",
      "22\n",
      "333\n",
      "4444\n",
      "55555\n"
     ]
    }
   ],
   "source": [
    "def print_number_pattern(rows):\n",
    "    for i in range(1, rows + 1):\n",
    "        print(str(i) * i)\n",
    "\n",
    "# Sample usage\n",
    "try:\n",
    "    n_rows = int(input(\"Enter the number of rows: \"))\n",
    "    print_number_pattern(n_rows)\n",
    "except ValueError:\n",
    "    print(\"Please enter a valid integer.\")"
   ]
  },
  {
   "cell_type": "markdown",
   "metadata": {
    "collapsed": false
   },
   "source": [
    "Q14"
   ]
  },
  {
   "cell_type": "code",
   "execution_count": 11,
   "metadata": {
    "ExecuteTime": {
     "end_time": "2023-11-19T18:11:30.645923Z",
     "start_time": "2023-11-19T18:11:22.069515Z"
    },
    "collapsed": false
   },
   "outputs": [
    {
     "name": "stdout",
     "output_type": "stream",
     "text": [
      "The Factorial of 5 is: 120\n"
     ]
    }
   ],
   "source": [
    "def calculate_factorial(n):\n",
    "    if n < 0:\n",
    "        return \"Factorial is not defined for negative numbers.\"\n",
    "    elif n == 0 or n == 1:\n",
    "        return 1\n",
    "    else:\n",
    "        factorial = 1\n",
    "        for i in range(2, n + 1):\n",
    "            factorial *= i\n",
    "        return factorial\n",
    "\n",
    "# Sample usage\n",
    "try:\n",
    "    num = int(input(\"Input the number: \"))\n",
    "    result = calculate_factorial(num)\n",
    "    print(f\"The Factorial of {num} is: {result}\")\n",
    "except ValueError:\n",
    "    print(\"Please enter a valid integer.\")"
   ]
  },
  {
   "cell_type": "markdown",
   "metadata": {
    "collapsed": false
   },
   "source": [
    "Q15"
   ]
  },
  {
   "cell_type": "code",
   "execution_count": 10,
   "metadata": {
    "ExecuteTime": {
     "end_time": "2023-11-19T18:10:55.484524Z",
     "start_time": "2023-11-19T18:10:47.241541Z"
    },
    "collapsed": false
   },
   "outputs": [
    {
     "name": "stdout",
     "output_type": "stream",
     "text": [
      "The even numbers are: 2 4 6 8 10.\n",
      "The Sum of even Natural Numbers up to 5 terms: 30.\n"
     ]
    }
   ],
   "source": [
    "def display_even_numbers_and_sum(n):\n",
    "    even_numbers = [2 * i for i in range(1, n + 1)]  # Generating even natural numbers\n",
    "    sum_of_even_numbers = sum(even_numbers)  # Calculating the sum\n",
    "\n",
    "    print(f'The even numbers are: {\" \".join(map(str, even_numbers))}.')\n",
    "    print(f'The Sum of even Natural Numbers up to {n} terms: {sum_of_even_numbers}.')\n",
    "\n",
    "# Sample usage\n",
    "try:\n",
    "    n_terms = int(input(\"Enter the number of terms: \"))\n",
    "    display_even_numbers_and_sum(n_terms)\n",
    "except ValueError:\n",
    "    print(\"Please enter a valid integer.\")"
   ]
  },
  {
   "cell_type": "markdown",
   "metadata": {
    "collapsed": false
   },
   "source": [
    "Q16"
   ]
  },
  {
   "cell_type": "code",
   "execution_count": 1,
   "metadata": {
    "ExecuteTime": {
     "end_time": "2023-11-20T13:09:52.019850Z",
     "start_time": "2023-11-20T13:07:10.197035Z"
    },
    "collapsed": false
   },
   "outputs": [
    {
     "name": "stdout",
     "output_type": "stream",
     "text": [
      "Welcome to the ATM System!\n",
      "User registered successfully!\n",
      "Login successful!\n",
      "Options:\n",
      "1. Deposit\n",
      "2. Withdrawal\n",
      "3. Check Balance\n",
      "4. Exit\n",
      "Exiting the ATM. Thank you!\n"
     ]
    }
   ],
   "source": [
    "class ATMSystem:\n",
    "    def __init__(self):\n",
    "        self.users = {}\n",
    "        self.current_user = None\n",
    "\n",
    "    def display_welcome_message(self):\n",
    "        print(\"Welcome to the ATM System!\")\n",
    "\n",
    "    def register_new_user(self):\n",
    "        account_number = input(\"Enter a new account number: \")\n",
    "        pin = input(\"Set your PIN: \")\n",
    "\n",
    "        self.users[account_number] = {'pin': pin, 'balance': 0}\n",
    "        print(\"User registered successfully!\")\n",
    "\n",
    "    def login(self):\n",
    "        account_number = input(\"Enter your account number (or press 0 to register a new user): \")\n",
    "\n",
    "        if account_number == '0':\n",
    "            self.register_new_user()\n",
    "            return\n",
    "\n",
    "        if account_number in self.users:\n",
    "            pin_attempt = input(\"Enter your PIN: \")\n",
    "\n",
    "            if pin_attempt == self.users[account_number]['pin']:\n",
    "                print(\"Login successful!\")\n",
    "                self.current_user = account_number\n",
    "            else:\n",
    "                print(\"Error in the information entered! Login failed.\")\n",
    "        else:\n",
    "            print(\"Error in the information entered! Account not found.\")\n",
    "\n",
    "    def display_options(self):\n",
    "        print(\"Options:\")\n",
    "        print(\"1. Deposit\")\n",
    "        print(\"2. Withdrawal\")\n",
    "        print(\"3. Check Balance\")\n",
    "        print(\"4. Exit\")\n",
    "\n",
    "    def perform_transaction(self):\n",
    "        option = input(\"Enter the option number: \")\n",
    "\n",
    "        if option == '1':\n",
    "            self.deposit()\n",
    "        elif option == '2':\n",
    "            self.withdrawal()\n",
    "        elif option == '3':\n",
    "            self.check_balance()\n",
    "        elif option == '4':\n",
    "            print(\"Exiting the ATM. Thank you!\")\n",
    "            self.current_user = None\n",
    "        else:\n",
    "            print(\"Invalid option. Please try again.\")\n",
    "\n",
    "    def deposit(self):\n",
    "        amount = float(input(\"Enter the amount to deposit: \"))\n",
    "        self.users[self.current_user]['balance'] += amount\n",
    "        print(f\"Deposit successful! Current balance: {self.users[self.current_user]['balance']}\")\n",
    "\n",
    "    def withdrawal(self):\n",
    "        amount = float(input(\"Enter the amount to withdraw: \"))\n",
    "        if amount <= self.users[self.current_user]['balance']:\n",
    "            self.users[self.current_user]['balance'] -= amount\n",
    "            print(f\"Withdrawal successful! Current balance: {self.users[self.current_user]['balance']}\")\n",
    "        else:\n",
    "            print(\"Insufficient funds!\")\n",
    "\n",
    "    def check_balance(self):\n",
    "        print(f\"Current balance: {self.users[self.current_user]['balance']}\")\n",
    "\n",
    "\n",
    "# Main program\n",
    "def main():\n",
    "    atm = ATMSystem()\n",
    "    atm.display_welcome_message()\n",
    "\n",
    "    while True:\n",
    "        if not atm.current_user:\n",
    "            atm.login()\n",
    "\n",
    "        if atm.current_user:\n",
    "            atm.display_options()\n",
    "            atm.perform_transaction()\n",
    "\n",
    "            if not atm.current_user:\n",
    "                break\n",
    "\n",
    "\n",
    "if __name__ == \"__main__\":\n",
    "    main()"
   ]
  }
 ],
 "metadata": {
  "kernelspec": {
   "display_name": "Python 3",
   "language": "python",
   "name": "python3"
  },
  "language_info": {
   "codemirror_mode": {
    "name": "ipython",
    "version": 3
   },
   "file_extension": ".py",
   "mimetype": "text/x-python",
   "name": "python",
   "nbconvert_exporter": "python",
   "pygments_lexer": "ipython3",
   "version": "3.9.6"
  }
 },
 "nbformat": 4,
 "nbformat_minor": 2
}
