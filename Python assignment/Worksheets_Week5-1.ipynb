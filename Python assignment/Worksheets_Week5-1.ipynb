{
 "cells": [
  {
   "cell_type": "markdown",
   "metadata": {},
   "source": [
    "Q1"
   ]
  },
  {
   "cell_type": "code",
   "execution_count": 1,
   "metadata": {
    "ExecuteTime": {
     "end_time": "2023-11-16T13:08:47.496744Z",
     "start_time": "2023-11-16T13:08:47.485953Z"
    }
   },
   "outputs": [
    {
     "name": "stdout",
     "output_type": "stream",
     "text": [
      "1\n",
      "2\n",
      "3\n",
      "4\n",
      "5\n",
      "6\n",
      "7\n",
      "8\n",
      "9\n",
      "10\n"
     ]
    }
   ],
   "source": [
    "#define counter equal 1\n",
    "counter = 1\n",
    "#iterate when counter value is smaller or equal to 10\n",
    "while counter <= 10:\n",
    "    #print counter value\n",
    "    print(counter)\n",
    "    #after print add 1 on counter value\n",
    "    counter += 1"
   ]
  },
  {
   "cell_type": "code",
   "execution_count": 1,
   "metadata": {},
   "outputs": [
    {
     "name": "stdout",
     "output_type": "stream",
     "text": [
      "1\n",
      "2\n",
      "3\n",
      "4\n",
      "5\n",
      "6\n",
      "7\n",
      "8\n",
      "9\n",
      "10\n"
     ]
    }
   ],
   "source": [
    "#define the counter range include frome 1 ro 11\n",
    "for counter in range(1, 11):\n",
    "    print(counter)"
   ]
  },
  {
   "cell_type": "markdown",
   "metadata": {},
   "source": [
    "Q2"
   ]
  },
  {
   "cell_type": "code",
   "execution_count": 1,
   "metadata": {},
   "outputs": [
    {
     "name": "stdout",
     "output_type": "stream",
     "text": [
      "Sum of odd integers between 1 and 99: 2500\n"
     ]
    }
   ],
   "source": [
    "#define variable su_of_odds equal to 0\n",
    "sum_of_odds = 0\n",
    "# Iterate through odd numbers from 1 to 99\n",
    "for num in range(1, 100, 2):\n",
    "    sum_of_odds += num\n",
    "\n",
    "print(\"Sum of odd integers between 1 and 99:\", sum_of_odds)"
   ]
  },
  {
   "cell_type": "code",
   "execution_count": 2,
   "metadata": {},
   "outputs": [
    {
     "name": "stdout",
     "output_type": "stream",
     "text": [
      "1\t2\t3\t4\t5\n",
      "6\t7\t8\t9\t10\n",
      "11\t12\t13\t14\t15\n",
      "16\t17\t18\t19\t20\n"
     ]
    }
   ],
   "source": [
    "#define x equal 1\n",
    "x = 1\n",
    "#loop when x smaller or equal\n",
    "while x <= 20:\n",
    "    '''\n",
    "    print x \n",
    "    if the x is able to divide by 5 equal tab and \n",
    "    print next value \n",
    "    else is new line\n",
    "    '''\n",
    "    print(x, end='\\t' if x % 5 != 0 else '\\n')\n",
    "    x += 1"
   ]
  },
  {
   "cell_type": "code",
   "execution_count": 5,
   "metadata": {},
   "outputs": [
    {
     "name": "stdout",
     "output_type": "stream",
     "text": [
      "1\t2\t3\t4\t5\n",
      "6\t7\t8\t9\t10\n",
      "11\t12\t13\t14\t15\n",
      "16\t17\t18\t19\t20\n"
     ]
    }
   ],
   "source": [
    "#define rang of x using for command frome 1, to 21\n",
    "for x in range(1, 21):\n",
    "    #print x \n",
    "    #if the x is able to divide by 5 equal tab and \n",
    "    # print next value \n",
    "    # else is new line\n",
    "    print(x, end='\\t' if x % 5 != 0 else '\\n')"
   ]
  },
  {
   "cell_type": "markdown",
   "metadata": {},
   "source": [
    "Q3"
   ]
  },
  {
   "cell_type": "code",
   "execution_count": 3,
   "metadata": {},
   "outputs": [
    {
     "name": "stdout",
     "output_type": "stream",
     "text": [
      "Average of entered numbers: 5.857142857142857\n"
     ]
    }
   ],
   "source": [
    "#define total and count value equal 0\n",
    "total = 0\n",
    "count = 0\n",
    "#iterate while the circumstance is valid \n",
    "while True:\n",
    "    '''\n",
    "    if the circumstance is valid, \n",
    "    the variable num are defined, which equal to input and data type is int\n",
    "    as well as print the message.\n",
    "    However, if the input value is invalid, value error is occured\n",
    "    and print the invalid input error message\n",
    "    '''\n",
    "    try:\n",
    "        num = int(input(\"Enter a whole number (enter 0 to finish): \"))\n",
    "    except ValueError:\n",
    "        print(\"Invalid input. Please enter a whole number.\")\n",
    "        continue\n",
    "    #if num value equal to 0, the loop is broken\n",
    "    if num == 0:\n",
    "        break  \n",
    "    '''\n",
    "    define the variable total that equal to plus num value\n",
    "    while the count is defined as well, which eqaul to plus 1\n",
    "    '''\n",
    "    total += num\n",
    "    count += 1\n",
    "'''\n",
    "if the count value is larger than 0, define the average\n",
    "which equal to total value divide by count value;\n",
    "consequently, print the average value.\n",
    "Nonetheless, the count value is smaller than 0,\n",
    "print the message: \"no numbers were entered\"\n",
    "'''\n",
    "if count > 0:\n",
    "    average = total / count\n",
    "    print(\"Average of entered numbers:\", average)\n",
    "else:\n",
    "    print(\"No numbers were entered.\")"
   ]
  },
  {
   "cell_type": "markdown",
   "metadata": {},
   "source": [
    "Q4"
   ]
  },
  {
   "cell_type": "code",
   "execution_count": 4,
   "metadata": {
    "ExecuteTime": {
     "end_time": "2023-11-16T13:09:37.179538Z",
     "start_time": "2023-11-16T13:09:32.537892Z"
    }
   },
   "outputs": [
    {
     "name": "stdout",
     "output_type": "stream",
     "text": [
      "Entered values: [3, 4, 5, 6, 7]\n",
      "Smallest number: 3\n",
      "Largest number: 7\n",
      "Average of the values: 5.0\n"
     ]
    }
   ],
   "source": [
    "#defin the value variable equal to empty list\n",
    "values = []\n",
    "\n",
    "for i in range(5):\n",
    "    while True:\n",
    "        try:\n",
    "            value = int(input(f\"Enter integer value {i + 1}: \"))\n",
    "            break \n",
    "        except ValueError:\n",
    "            print(\"Invalid input. Please enter an integer.\")\n",
    "\n",
    "    values.append(value)\n",
    "#print entered values and call the values variable \n",
    "print(\"Entered values:\", values)\n",
    "'''\n",
    "define the variable respective, smallest, largest and average.\n",
    "the smallest\n",
    "'''\n",
    "smallest = min(values)\n",
    "largest = max(values)\n",
    "average = sum(values) / len(values)\n",
    "'''\n",
    "'''\n",
    "print(\"Smallest number:\", smallest)\n",
    "print(\"Largest number:\", largest)\n",
    "print(\"Average of the values:\", average)\n"
   ]
  },
  {
   "cell_type": "markdown",
   "metadata": {},
   "source": [
    "Q5"
   ]
  },
  {
   "cell_type": "code",
   "execution_count": 2,
   "metadata": {
    "ExecuteTime": {
     "end_time": "2023-11-16T13:18:31.673637Z",
     "start_time": "2023-11-16T13:18:20.260058Z"
    },
    "collapsed": false
   },
   "outputs": [
    {
     "name": "stdout",
     "output_type": "stream",
     "text": [
      "Student's final grade: E\n"
     ]
    }
   ],
   "source": [
    "#define the function calculate final grade\n",
    "def calculate_final_grade(grade1, grade2, grade3, average):\n",
    "    #final grade is grade 1 plus grade 2 multiply 2 plus grade 3 multiply 3 plus average divide by 7 \n",
    "    final_grade = (grade1 + grade2 * 2 + grade3 * 3 + average) / 7\n",
    "    '''\n",
    "    define the garde frome A to E using the if\n",
    "    over or equal to 9 the output is A\n",
    "    if between under 9 and over or equal to 7.5\n",
    "    which output is B\n",
    "    if the grade is between over or equal to 6 and under 7.5\n",
    "    the grade is C\n",
    "    if the grade from under or equal to 4 and under 6\n",
    "    the grade is D\n",
    "    the grade is under 4 which is E\n",
    "    '''\n",
    "    if final_grade >= 9:\n",
    "        return 'A'\n",
    "    elif 7.5 <= final_grade < 9:\n",
    "        return 'B'\n",
    "    elif 6 <= final_grade < 7.5:\n",
    "        return 'C'\n",
    "    elif 4 <= final_grade < 6:\n",
    "        return 'D'\n",
    "    else:\n",
    "        return 'E'\n",
    "\n",
    "#define the function main\n",
    "def main():\n",
    "    '''\n",
    "    input the grade 1, 2, and the value of average\n",
    "    and caluelate the final grade equal calculate final grade function\n",
    "    print the calculated value\n",
    "    '''\n",
    "    grade1 = float(input(\"Enter grade 1: \"))\n",
    "    grade2 = float(input(\"Enter grade 2: \"))\n",
    "    grade3 = float(input(\"Enter grade 3: \"))\n",
    "    average = float(input(\"Enter the average: \"))\n",
    "\n",
    "    final_grade = calculate_final_grade(grade1, grade2, grade3, average)\n",
    "\n",
    "    print(f\"Student's final grade: {final_grade}\")\n",
    "#the below code is able to run the code\n",
    "if __name__ == \"__main__\":\n",
    "    main()"
   ]
  },
  {
   "cell_type": "markdown",
   "metadata": {
    "collapsed": false
   },
   "source": [
    "Q6"
   ]
  },
  {
   "cell_type": "code",
   "execution_count": 3,
   "metadata": {
    "ExecuteTime": {
     "end_time": "2023-11-16T13:14:54.041127Z",
     "start_time": "2023-11-16T13:14:16.499398Z"
    },
    "collapsed": false
   },
   "outputs": [
    {
     "name": "stdout",
     "output_type": "stream",
     "text": [
      "Number 5 found at index 2 in the array.\n"
     ]
    }
   ],
   "source": [
    "def search_in_array(array, target):\n",
    "    #iterate through each element in the array along with its index\n",
    "    for i, value in enumerate(array):\n",
    "        #check if the current element matches the target\n",
    "        if value == target:\n",
    "            #return the index if the target is found\n",
    "            return i\n",
    "    #return -1 if the target is not found in the array\n",
    "    return -1\n",
    "\n",
    "def main():\n",
    "    #take user input for the size of the array\n",
    "    size = int(input(\"Enter the size of the array: \"))\n",
    "    #define the empty array\n",
    "    my_array = []\n",
    "    #populate the array with user input values\n",
    "    for i in range(size):\n",
    "        value = int(input(f\"Enter value for index {i}: \"))\n",
    "        my_array.append(value)\n",
    "    #user input\n",
    "    search_number = int(input(\"Enter the number to search for: \"))\n",
    "    #call the search_in_array function to find the index of the target number\n",
    "    result = search_in_array(my_array, search_number)\n",
    "    #display the result based on whether the target number was found or not\n",
    "    if result != -1:\n",
    "        print(f\"Number {search_number} found at index {result} in the array.\")\n",
    "    else:\n",
    "        print(f\"Number {search_number} does not exist in the array.\")\n",
    "#run the main function when the script is executed\n",
    "if __name__ == \"__main__\":\n",
    "    main()"
   ]
  },
  {
   "cell_type": "markdown",
   "metadata": {
    "collapsed": false
   },
   "source": [
    "Q7"
   ]
  },
  {
   "cell_type": "code",
   "execution_count": 6,
   "metadata": {
    "ExecuteTime": {
     "end_time": "2023-11-16T13:16:36.062839Z",
     "start_time": "2023-11-16T13:16:36.056881Z"
    },
    "collapsed": false
   },
   "outputs": [
    {
     "name": "stdout",
     "output_type": "stream",
     "text": [
      "1 2 3 4 5 6 7 8 9 10 "
     ]
    }
   ],
   "source": [
    "def display_first_natural_numbers(n):\n",
    "    #iterate through the range from 1 to n (inclusive)\n",
    "    for i in range(1, n + 1):\n",
    "        # Print the current natural number followed by a space\n",
    "        print(i, end=\" \")\n",
    "\n",
    "#call the function to display the first 10 natural numbers\n",
    "display_first_natural_numbers(10)"
   ]
  },
  {
   "cell_type": "markdown",
   "metadata": {
    "collapsed": false
   },
   "source": [
    "Q8"
   ]
  },
  {
   "cell_type": "code",
   "execution_count": 6,
   "metadata": {
    "ExecuteTime": {
     "end_time": "2023-11-16T13:20:53.909374Z",
     "start_time": "2023-11-16T13:20:53.899981Z"
    },
    "collapsed": false
   },
   "outputs": [
    {
     "name": "stdout",
     "output_type": "stream",
     "text": [
      "The first 10 natural numbers are:\n",
      "1 2 3 4 5 6 7 8 9 10 \n",
      "The Sum is: 55\n"
     ]
    }
   ],
   "source": [
    "def sum_of_natural_numbers(n):\n",
    "#formula for the sum of the first n natural numbers: n * (n + 1) // 2\n",
    "    return n * (n + 1) // 2 \n",
    "\n",
    "def main():\n",
    "    #print the first 10 natural numbers\n",
    "    print(\"The first 10 natural numbers are:\")\n",
    "    for i in range(1, 11):\n",
    "        print(i, end=\" \")\n",
    "    #calculate the sum of the first 10 natural numbers using the sum_of_natural_numbers function\n",
    "    sum_result = sum_of_natural_numbers(10)\n",
    "    #display the calculated sum\n",
    "    print(\"\\nThe Sum is:\", sum_result)\n",
    "#run the main function when the script is executed\n",
    "if __name__ == \"__main__\":\n",
    "    main()"
   ]
  },
  {
   "cell_type": "markdown",
   "metadata": {
    "collapsed": false
   },
   "source": [
    "Q9"
   ]
  },
  {
   "cell_type": "code",
   "execution_count": 3,
   "metadata": {
    "ExecuteTime": {
     "end_time": "2023-11-19T17:55:10.453126Z",
     "start_time": "2023-11-19T17:55:08.324762Z"
    },
    "collapsed": false
   },
   "outputs": [
    {
     "name": "stdout",
     "output_type": "stream",
     "text": [
      "The natural numbers are: 1 2 3 4 5 6 7.\n",
      "The Sum of natural Numbers up to 7 terms: 28.\n"
     ]
    }
   ],
   "source": [
    "def display_natural_numbers_and_sum(n):\n",
    "    natural_numbers = list(range(1, n + 1))  #generating natural numbers from 1 to n\n",
    "    sum_of_natural_numbers = sum(natural_numbers)  #calculating the sum\n",
    "    #print the respective result\n",
    "    print(f'The natural numbers are: {\" \".join(map(str, natural_numbers))}.')\n",
    "    print(f'The Sum of natural Numbers up to {n} terms: {sum_of_natural_numbers}.')\n",
    "\n",
    "#valid circumstance\n",
    "try:\n",
    "    #user input\n",
    "    n_terms = int(input(\"Enter the value of n: \"))\n",
    "    display_natural_numbers_and_sum(n_terms)\n",
    "#error circumstance print the error message\n",
    "except ValueError:\n",
    "    print(\"Please enter a valid integer.\")"
   ]
  },
  {
   "cell_type": "markdown",
   "metadata": {
    "collapsed": false
   },
   "source": [
    "Q10"
   ]
  },
  {
   "cell_type": "code",
   "execution_count": 2,
   "metadata": {
    "ExecuteTime": {
     "end_time": "2023-11-19T17:53:07.463013Z",
     "start_time": "2023-11-19T17:52:58.774598Z"
    },
    "collapsed": false
   },
   "outputs": [
    {
     "name": "stdout",
     "output_type": "stream",
     "text": [
      "The sum of the numbers is: 36.0\n",
      "The average of the numbers is: 7.2\n"
     ]
    }
   ],
   "source": [
    "def calculate_sum_and_average():\n",
    "    #valid circumstaace\n",
    "    try:\n",
    "        #input 5 number\n",
    "        numbers = [float(input(f\"Enter number {i + 1}: \")) for i in range(5)]\n",
    "\n",
    "        #calculate sum and average\n",
    "        sum_of_numbers = sum(numbers)\n",
    "        average = sum_of_numbers / len(numbers)\n",
    "\n",
    "        #display the results\n",
    "        print(f\"The sum of the numbers is: {sum_of_numbers}\")\n",
    "        print(f\"The average of the numbers is: {average}\")\n",
    "    #invalid circumstance, print error message\n",
    "    except ValueError:\n",
    "        print(\"Please enter valid numbers.\")\n",
    "\n",
    "#call the function to execute the program\n",
    "calculate_sum_and_average()"
   ]
  },
  {
   "cell_type": "markdown",
   "metadata": {
    "collapsed": false
   },
   "source": [
    "Q11"
   ]
  },
  {
   "cell_type": "code",
   "execution_count": 5,
   "metadata": {
    "ExecuteTime": {
     "end_time": "2023-11-19T17:58:24.671145Z",
     "start_time": "2023-11-19T17:58:23.027862Z"
    },
    "collapsed": false
   },
   "outputs": [
    {
     "name": "stdout",
     "output_type": "stream",
     "text": [
      "Number is: 1 and cube of 1 is: 1\n",
      "Number is: 2 and cube of 2 is: 8\n",
      "Number is: 3 and cube of 3 is: 27\n",
      "Number is: 4 and cube of 4 is: 64\n",
      "Number is: 5 and cube of 5 is: 125\n"
     ]
    }
   ],
   "source": [
    "def display_cubes_up_to_n(n):\n",
    "    #iterate through numbers from 1 to n\n",
    "    for i in range(1, n + 1):\n",
    "        #calculate the cube of the current number\n",
    "        #display the number and its cube\n",
    "        cube = i ** 3\n",
    "        print(f'Number is: {i} and cube of {i} is: {cube}')\n",
    "\n",
    "#valid circumstance\n",
    "try:\n",
    "    #user input for the number of terms\n",
    "    n_value = int(input(\"Input number of terms: \"))\n",
    "    #call the function to display cubes up to n\n",
    "    display_cubes_up_to_n(n_value)\n",
    "#invalid circumstance print error message\n",
    "except ValueError:\n",
    "    print(\"Please enter a valid integer.\")"
   ]
  },
  {
   "cell_type": "markdown",
   "metadata": {
    "collapsed": false
   },
   "source": [
    "Q12"
   ]
  },
  {
   "cell_type": "code",
   "execution_count": 6,
   "metadata": {
    "ExecuteTime": {
     "end_time": "2023-11-19T17:59:56.111338Z",
     "start_time": "2023-11-19T17:59:48.009944Z"
    },
    "collapsed": false
   },
   "outputs": [
    {
     "name": "stdout",
     "output_type": "stream",
     "text": [
      "The odd numbers are: 1 3 5 7 9 11 13 15 17 19.\n",
      "The Sum of odd Natural Numbers up to 10 terms: 100.\n"
     ]
    }
   ],
   "source": [
    "def display_odd_numbers_and_sum(n):\n",
    "    odd_numbers = [2 * i + 1 for i in range(n)]  #generating odd natural numbers\n",
    "    sum_of_odd_numbers = sum(odd_numbers)  #calculating the sum\n",
    "    #display result\n",
    "    print(f'The odd numbers are: {\" \".join(map(str, odd_numbers))}.')\n",
    "    print(f'The Sum of odd Natural Numbers up to {n} terms: {sum_of_odd_numbers}.')\n",
    "\n",
    "#valid circumstance\n",
    "try:\n",
    "    #user input\n",
    "    n_terms = int(input(\"Input number of terms: \"))\n",
    "    display_odd_numbers_and_sum(n_terms)\n",
    "#invalid circumstance print error message\n",
    "except ValueError:\n",
    "    print(\"Please enter a valid integer.\")"
   ]
  },
  {
   "cell_type": "markdown",
   "metadata": {
    "collapsed": false
   },
   "source": [
    "Q13"
   ]
  },
  {
   "cell_type": "code",
   "execution_count": 7,
   "metadata": {
    "ExecuteTime": {
     "end_time": "2023-11-19T18:01:02.254457Z",
     "start_time": "2023-11-19T18:00:55.527087Z"
    },
    "collapsed": false
   },
   "outputs": [
    {
     "name": "stdout",
     "output_type": "stream",
     "text": [
      "1\n"
     ]
    }
   ],
   "source": [
    "def print_number_pattern(rows):\n",
    "    #loop for i include range\n",
    "    for i in range(1, rows + 1):\n",
    "        print(str(i) * i)\n",
    "\n",
    "#valid circumstance\n",
    "try:\n",
    "    #user input\n",
    "    n_rows = int(input(\"Enter the number of rows: \"))\n",
    "    print_number_pattern(n_rows)\n",
    "#invalid circumstance print error message\n",
    "except ValueError:\n",
    "    print(\"Please enter a valid integer.\")"
   ]
  },
  {
   "cell_type": "markdown",
   "metadata": {
    "collapsed": false
   },
   "source": [
    "Q14"
   ]
  },
  {
   "cell_type": "code",
   "execution_count": 11,
   "metadata": {
    "ExecuteTime": {
     "end_time": "2023-11-19T18:11:30.645923Z",
     "start_time": "2023-11-19T18:11:22.069515Z"
    },
    "collapsed": false
   },
   "outputs": [
    {
     "name": "stdout",
     "output_type": "stream",
     "text": [
      "The Factorial of 5 is: 120\n"
     ]
    }
   ],
   "source": [
    "def calculate_factorial(n):\n",
    "    #if the input is a negative number\n",
    "    if n < 0:\n",
    "        return \"Factorial is not defined for negative numbers.\"\n",
    "    #if n equal to 0 or 1\n",
    "    elif n == 0 or n == 1:\n",
    "        return 1\n",
    "    #calculate factorial using a loop for n greater than 1\n",
    "    else:\n",
    "        factorial = 1\n",
    "        for i in range(2, n + 1):\n",
    "            factorial *= i\n",
    "        return factorial\n",
    "\n",
    "#valid circumstance\n",
    "try:\n",
    "    #user input\n",
    "    num = int(input(\"Input the number: \"))\n",
    "    #call function\n",
    "    result = calculate_factorial(num)\n",
    "    #print result\n",
    "    print(f\"The Factorial of {num} is: {result}\")\n",
    "#invalid circumstance, print error message\n",
    "except ValueError:\n",
    "    print(\"Please enter a valid integer.\")"
   ]
  },
  {
   "cell_type": "markdown",
   "metadata": {
    "collapsed": false
   },
   "source": [
    "Q15"
   ]
  },
  {
   "cell_type": "code",
   "execution_count": 10,
   "metadata": {
    "ExecuteTime": {
     "end_time": "2023-11-19T18:10:55.484524Z",
     "start_time": "2023-11-19T18:10:47.241541Z"
    },
    "collapsed": false
   },
   "outputs": [
    {
     "name": "stdout",
     "output_type": "stream",
     "text": [
      "The even numbers are: 2 4 6 8 10.\n",
      "The Sum of even Natural Numbers up to 5 terms: 30.\n"
     ]
    }
   ],
   "source": [
    "def display_even_numbers_and_sum(n):\n",
    "    #generating a list of even natural numbers up to n\n",
    "    even_numbers = [2 * i for i in range(1, n + 1)]\n",
    "    \n",
    "    #calculating the sum of even numbers\n",
    "    sum_of_even_numbers = sum(even_numbers)\n",
    "    \n",
    "    #display the even numbers and their sum\n",
    "    print(f'The even numbers are: {\" \".join(map(str, even_numbers))}.')\n",
    "    print(f'The Sum of even Natural Numbers up to {n} terms: {sum_of_even_numbers}.')\n",
    "\n",
    "#valid circumstance\n",
    "try:\n",
    "    #user input\n",
    "    n_terms = int(input(\"Enter the number of terms: \"))\n",
    "    \n",
    "    #call the function to display even numbers and their sum\n",
    "    display_even_numbers_and_sum(n_terms)\n",
    "#invalid circumstance\n",
    "except ValueError:\n",
    "    print(\"Please enter a valid integer.\")"
   ]
  },
  {
   "cell_type": "markdown",
   "metadata": {
    "collapsed": false
   },
   "source": [
    "Q16"
   ]
  },
  {
   "cell_type": "code",
   "execution_count": 1,
   "metadata": {
    "ExecuteTime": {
     "end_time": "2023-11-20T13:09:52.019850Z",
     "start_time": "2023-11-20T13:07:10.197035Z"
    },
    "collapsed": false
   },
   "outputs": [
    {
     "name": "stdout",
     "output_type": "stream",
     "text": [
      "Welcome to the ATM System!\n",
      "User registered successfully!\n",
      "Login successful!\n",
      "Options:\n",
      "1. Deposit\n",
      "2. Withdrawal\n",
      "3. Check Balance\n",
      "4. Exit\n",
      "Exiting the ATM. Thank you!\n"
     ]
    }
   ],
   "source": [
    "class ATMSystem:\n",
    "    def __init__(self):\n",
    "        #initialize the ATM system with an empty dictionary for users and no current user\n",
    "        self.users = {}\n",
    "        self.users = {}\n",
    "        self.current_user = None\n",
    "    #display a welcome message when the ATM system is started\n",
    "    def display_welcome_message(self):\n",
    "        print(\"Welcome to the ATM System!\")\n",
    "    #register a new user by taking account number and PIN as input\n",
    "    def register_new_user(self):\n",
    "        account_number = input(\"Enter a new account number: \")\n",
    "        pin = input(\"Set your PIN: \")\n",
    "        #add the new user to the users dictionary with default balance of 0\n",
    "        self.users[account_number] = {'pin': pin, 'balance': 0}\n",
    "        print(\"User registered successfully!\")\n",
    "\n",
    "    def login(self):\n",
    "        #allow a user to login using their account number and PIN\n",
    "        account_number = input(\"Enter your account number (or press 0 to register a new user): \")\n",
    "        #if the user presses 0, register a new user\n",
    "        if account_number == '0':\n",
    "            self.register_new_user()\n",
    "            return\n",
    "\n",
    "        if account_number in self.users:\n",
    "            pin_attempt = input(\"Enter your PIN: \")\n",
    "\n",
    "            if pin_attempt == self.users[account_number]['pin']:\n",
    "                print(\"Login successful!\")\n",
    "                self.current_user = account_number\n",
    "            else:\n",
    "                print(\"Error in the information entered! Login failed.\")\n",
    "        else:\n",
    "            print(\"Error in the information entered! Account not found.\")\n",
    "\n",
    "    def display_options(self):\n",
    "        #display transaction options to the current user\n",
    "        print(\"Options:\")\n",
    "        print(\"1. Deposit\")\n",
    "        print(\"2. Withdrawal\")\n",
    "        print(\"3. Check Balance\")\n",
    "        print(\"4. Exit\")\n",
    "\n",
    "    def perform_transaction(self):\n",
    "        #perform a transaction based on the user's chosen option\n",
    "        option = input(\"Enter the option number: \")\n",
    "\n",
    "        if option == '1':\n",
    "            self.deposit()\n",
    "        elif option == '2':\n",
    "            self.withdrawal()\n",
    "        elif option == '3':\n",
    "            self.check_balance()\n",
    "        elif option == '4':\n",
    "            print(\"Exiting the ATM. Thank you!\")\n",
    "            self.current_user = None\n",
    "        else:\n",
    "            print(\"Invalid option. Please try again.\")\n",
    "\n",
    "    def deposit(self):\n",
    "        #allow the user to deposit money into their account\n",
    "        amount = float(input(\"Enter the amount to deposit: \"))\n",
    "        self.users[self.current_user]['balance'] += amount\n",
    "        print(f\"Deposit successful! Current balance: {self.users[self.current_user]['balance']}\")\n",
    "\n",
    "    def withdrawal(self):\n",
    "        #allow the user to withdraw money from their account, checking for sufficient funds\n",
    "        amount = float(input(\"Enter the amount to withdraw: \"))\n",
    "        if amount <= self.users[self.current_user]['balance']:\n",
    "            self.users[self.current_user]['balance'] -= amount\n",
    "            print(f\"Withdrawal successful! Current balance: {self.users[self.current_user]['balance']}\")\n",
    "        #if balance - amount is negative number\n",
    "        else:\n",
    "            print(\"Insufficient funds!\")\n",
    "    #display the current balance of the user's account\n",
    "    def check_balance(self):\n",
    "        print(f\"Current balance: {self.users[self.current_user]['balance']}\")\n",
    "\n",
    "#main program\n",
    "def main():\n",
    "    #create an instance of the ATM system\n",
    "    atm = ATMSystem()\n",
    "    #display the welcome message\n",
    "    atm.display_welcome_message()\n",
    "\n",
    "    while True:\n",
    "        #if there is no current user, prompt for login\n",
    "        if not atm.current_user:\n",
    "            atm.login()\n",
    "        #if there is a current user, \n",
    "        # display options and perform transactions\n",
    "        if atm.current_user:\n",
    "            atm.display_options()\n",
    "            atm.perform_transaction()\n",
    "            #if the current user logs out, exit the loop\n",
    "            if not atm.current_user:\n",
    "                break\n",
    "#run the main program if this script is executed\n",
    "if __name__ == \"__main__\":\n",
    "    main()"
   ]
  }
 ],
 "metadata": {
  "kernelspec": {
   "display_name": "Python 3",
   "language": "python",
   "name": "python3"
  },
  "language_info": {
   "codemirror_mode": {
    "name": "ipython",
    "version": 3
   },
   "file_extension": ".py",
   "mimetype": "text/x-python",
   "name": "python",
   "nbconvert_exporter": "python",
   "pygments_lexer": "ipython3",
   "version": "3.9.6"
  }
 },
 "nbformat": 4,
 "nbformat_minor": 2
}
