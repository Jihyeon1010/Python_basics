{
 "cells": [
  {
   "cell_type": "markdown",
   "id": "b50e3b37446a0578",
   "metadata": {
    "collapsed": false
   },
   "source": [
    "Q1"
   ]
  },
  {
   "cell_type": "code",
   "execution_count": 1,
   "id": "1565a36c5d827852",
   "metadata": {
    "ExecuteTime": {
     "end_time": "2023-11-16T13:37:09.626517Z",
     "start_time": "2023-11-16T13:37:05.258432Z"
    },
    "collapsed": false
   },
   "outputs": [
    {
     "name": "stdout",
     "output_type": "stream",
     "text": [
      "You entered: 3.0, 3.0, 3.0\n",
      "The maximum of the three numbers is: 3.0\n"
     ]
    }
   ],
   "source": [
    "#defin the function \n",
    "def find_max_of_three():\n",
    "    try:\n",
    "        # Get user input for three numbers\n",
    "        #define variable, data type of variale and receive the input value\n",
    "        num1 = float(input(\"Enter the first number: \"))\n",
    "        num2 = float(input(\"Enter the second number: \"))\n",
    "        num3 = float(input(\"Enter the third number: \"))\n",
    "\n",
    "        # Find and return the maximum of the three numbers\n",
    "        max_number = max(num1, num2, num3)\n",
    "\n",
    "        # Print the entered numbers and the maximum\n",
    "        print(f\"You entered: {num1}, {num2}, {num3}\")\n",
    "        return max_number\n",
    "    #if input the invalid value, print the error message\n",
    "    except ValueError:\n",
    "        print(\"Invalid input. Please enter numeric values.\")\n",
    "\n",
    "#call the function and print the result\n",
    "max_number = find_max_of_three()\n",
    "#if the max number is not exist\n",
    "if max_number is not None:\n",
    "    print(f\"The maximum of the three numbers is: {max_number}\")"
   ]
  },
  {
   "cell_type": "markdown",
   "id": "699fd3b54ecc9f7d",
   "metadata": {
    "collapsed": false
   },
   "source": [
    "Q2"
   ]
  },
  {
   "cell_type": "code",
   "execution_count": 3,
   "id": "fa42ba2b76fd44ca",
   "metadata": {
    "ExecuteTime": {
     "end_time": "2023-11-16T13:38:51.322354Z",
     "start_time": "2023-11-16T13:38:51.317504Z"
    },
    "collapsed": false
   },
   "outputs": [
    {
     "name": "stdout",
     "output_type": "stream",
     "text": [
      "The sum of the numbers in the list is: 20.0\n"
     ]
    }
   ],
   "source": [
    "def sum_of_numbers(numbers):\n",
    "    try:\n",
    "        #convert each element in the list to float and sum them up\n",
    "        total_sum = sum(float(num) for num in numbers)\n",
    "        return total_sum\n",
    "    #invalid circumstance print the error message\n",
    "    except ValueError:\n",
    "        print(\"Invalid input. Please ensure all elements in the list are numeric.\")\n",
    "\n",
    "#example usage:\n",
    "numbers_list = [8, 2, 3, 0, 7]\n",
    "#call the function\n",
    "result = sum_of_numbers(numbers_list)\n",
    "#if the result is not exist\n",
    "if result is not None:\n",
    "    print(f\"The sum of the numbers in the list is: {result}\")"
   ]
  },
  {
   "cell_type": "markdown",
   "id": "e083d3c279c8f145",
   "metadata": {
    "collapsed": false
   },
   "source": [
    "Q3"
   ]
  },
  {
   "cell_type": "code",
   "execution_count": 7,
   "id": "5d30bc6c88637b89",
   "metadata": {
    "ExecuteTime": {
     "end_time": "2023-11-16T13:40:04.712496Z",
     "start_time": "2023-11-16T13:40:04.707564Z"
    },
    "collapsed": false
   },
   "outputs": [
    {
     "name": "stdout",
     "output_type": "stream",
     "text": [
      "The product of the numbers in the list is: -336.0\n"
     ]
    }
   ],
   "source": [
    "def multiply_numbers(numbers):\n",
    "    try:\n",
    "        #initialize the product to 1 and multiply each element in the list\n",
    "        product = 1\n",
    "        for num in numbers:\n",
    "            product *= float(num)\n",
    "        return product\n",
    "    #invalid circumstance, print error message\n",
    "    except ValueError:\n",
    "        print(\"Invalid input. Please ensure all elements in the list are numeric.\")\n",
    "\n",
    "#example usage:\n",
    "#define a sample list of numbers\n",
    "sample_list = [8, 2, 3, -1, 7]\n",
    "\n",
    "#call the function to multiply the numbers in the list\n",
    "result = multiply_numbers(sample_list)\n",
    "\n",
    "#check if the result is not None (i.e., no invalid input occurred)\n",
    "if result is not None:\n",
    "    print(f\"The product of the numbers in the list is: {result}\")"
   ]
  },
  {
   "cell_type": "markdown",
   "metadata": {},
   "source": [
    "Q4"
   ]
  },
  {
   "cell_type": "code",
   "execution_count": 1,
   "id": "d7f2b5a063a4215f",
   "metadata": {
    "collapsed": false
   },
   "outputs": [
    {
     "name": "stdout",
     "output_type": "stream",
     "text": [
      "Original String: 1234abcd\n",
      "Reversed String: dcba4321\n"
     ]
    }
   ],
   "source": [
    "def reverse_string(input_string):\n",
    "    #convert the string to a list of characters\n",
    "    char_list = list(input_string)\n",
    "\n",
    "    #use the reverse() method on the list\n",
    "    char_list.reverse()\n",
    "\n",
    "    #join the reversed list back into a string\n",
    "    reversed_string = ''.join(char_list)\n",
    "    #return the result value\n",
    "    return reversed_string\n",
    "\n",
    "#example usage:\n",
    "sample_string = \"1234abcd\"\n",
    "result = reverse_string(sample_string)\n",
    "#print respective result\n",
    "print(f\"Original String: {sample_string}\")\n",
    "print(f\"Reversed String: {result}\")"
   ]
  },
  {
   "cell_type": "markdown",
   "metadata": {},
   "source": [
    "Q5"
   ]
  },
  {
   "cell_type": "code",
   "execution_count": 2,
   "metadata": {},
   "outputs": [
    {
     "name": "stdout",
     "output_type": "stream",
     "text": [
      "The factorial of 5 is: 120\n"
     ]
    }
   ],
   "source": [
    "def calculate_factorial(number):\n",
    "    #check for invalid input (negative number)\n",
    "    if number < 0:\n",
    "        return \"Factorial is undefined for negative numbers.\"\n",
    "    # factorial of 0 and 1 is 1\n",
    "    elif number == 0 or number == 1:\n",
    "        return 1\n",
    "    else:\n",
    "        #calculate factorial using a loop\n",
    "        result = 1\n",
    "        for i in range(2, number + 1):\n",
    "            result *= i\n",
    "        return result\n",
    "\n",
    "#take user input for the number\n",
    "user_input = input(\"Enter a non-negative integer: \")\n",
    "\n",
    "# Validate and calculate factorial\n",
    "try:\n",
    "    \"\"\"\n",
    "    define the user_number = user input and data type is integer\n",
    "    factorial_result call the function calculate factorial\n",
    "    print the result\n",
    "    \"\"\"\n",
    "    user_number = int(user_input)\n",
    "    factorial_result = calculate_factorial(user_number)\n",
    "    print(f\"The factorial of {user_number} is: {factorial_result}\")\n",
    "#invalid circumstance, input number is negative integer\n",
    "#print the error message\n",
    "except ValueError:\n",
    "    print(\"Invalid input. Please enter a valid non-negative integer.\")"
   ]
  },
  {
   "cell_type": "markdown",
   "metadata": {},
   "source": [
    "Q6"
   ]
  },
  {
   "cell_type": "code",
   "execution_count": 3,
   "metadata": {},
   "outputs": [
    {
     "name": "stdout",
     "output_type": "stream",
     "text": [
      "5.0 falls within the range [1.0, 10.0].\n"
     ]
    }
   ],
   "source": [
    "#define the function and call the vairiable user_number, lower_limit and upper_limit,respectively.\n",
    "def is_in_range(number, lower_limit, upper_limit):\n",
    "    #the is_in_range is defined that lower_limit <= number <= upper limit\n",
    "    return lower_limit <= number <= upper_limit\n",
    "\n",
    "# valid circumstance, which is input the valid value \n",
    "try:\n",
    "    #input the number respective user_number and lower and upper limit, and data type is float\n",
    "    user_number = float(input(\"Enter a number: \"))\n",
    "    lower_limit = float(input(\"Enter the lower limit of the range: \"))\n",
    "    upper_limit = float(input(\"Enter the upper limit of the range: \"))\n",
    "    #define varialbe result = is_in_range\n",
    "    result = is_in_range(user_number, lower_limit, upper_limit)\n",
    "    \"\"\"\n",
    "    if circumstance is valid, print the message that the user number falls within the range\n",
    "    if circumstance is invalid print the message that the user number does not fall within the range\n",
    "    \"\"\"\n",
    "    if result:\n",
    "        print(f\"{user_number} falls within the range [{lower_limit}, {upper_limit}].\")\n",
    "    else:\n",
    "        print(f\"{user_number} does not fall within the range [{lower_limit}, {upper_limit}].\")\n",
    "#if input value is invalid, print the error message \n",
    "except ValueError:\n",
    "    print(\"Invalid input. Please enter valid numbers.\")"
   ]
  },
  {
   "cell_type": "markdown",
   "metadata": {},
   "source": [
    "Q7"
   ]
  },
  {
   "cell_type": "code",
   "execution_count": 10,
   "metadata": {},
   "outputs": [
    {
     "name": "stdout",
     "output_type": "stream",
     "text": [
      "No. of Upper case characters: 3\n",
      "No. of Lower case Characters: 12\n"
     ]
    }
   ],
   "source": [
    "def count_upper_lower_characters(input_string):\n",
    "    \"\"\"\n",
    "    define the upper and lower count each equal 0\n",
    "    \"\"\"\n",
    "    upper_count = 0\n",
    "    lower_count = 0\n",
    "\n",
    "    #iterate respective character in the input string\n",
    "    for char in input_string:\n",
    "        #if the character is an uppercase letter\n",
    "        if char.isupper():\n",
    "            upper_count += 1\n",
    "        #if the character is a lowercase letter\n",
    "        elif char.islower():\n",
    "            lower_count += 1\n",
    "\n",
    "    #return the counts of upper and lower case characters\n",
    "    return upper_count, lower_count\n",
    "\n",
    "#example usage:\n",
    "#define a sample string\n",
    "sample_string = 'The quick Brow Fox'\n",
    "\n",
    "#call the function to count upper and lower case characters\n",
    "upper_count, lower_count = count_upper_lower_characters(sample_string)\n",
    "\n",
    "#display the respective results\n",
    "print(f\"No. of Upper case characters: {upper_count}\")\n",
    "print(f\"No. of Lower case Characters: {lower_count}\")"
   ]
  },
  {
   "cell_type": "markdown",
   "metadata": {},
   "source": [
    "Q8"
   ]
  },
  {
   "cell_type": "code",
   "execution_count": 8,
   "metadata": {},
   "outputs": [
    {
     "name": "stdout",
     "output_type": "stream",
     "text": [
      "Sample List: [1, 2, 3, 3, 3, 3, 4, 5]\n",
      "Unique List: [1, 2, 3, 4, 5]\n"
     ]
    }
   ],
   "source": [
    "def unique_elements(input_list):\n",
    "    # convert the list to a set to remove duplicates, then convert it back to a list\n",
    "    return list(set(input_list))\n",
    "\n",
    "#example usage:\n",
    "sample_list = [1, 2, 3, 3, 3, 3, 4, 5]\n",
    "#call the function to get unique elements from the list\n",
    "unique_list = unique_elements(sample_list)\n",
    "#print the result\n",
    "print(\"Sample List:\", sample_list)\n",
    "print(\"Unique List:\", unique_list)"
   ]
  },
  {
   "cell_type": "markdown",
   "metadata": {},
   "source": [
    "Q9"
   ]
  },
  {
   "cell_type": "code",
   "execution_count": 9,
   "metadata": {},
   "outputs": [
    {
     "name": "stdout",
     "output_type": "stream",
     "text": [
      "Even Numbers: [2, 4, 6, 8]\n"
     ]
    }
   ],
   "source": [
    "def print_even_numbers(input_list):\n",
    "    #define the even number, which is eqaul to 0 when number divide by 2\n",
    "    # print the result \n",
    "    even_numbers = [num for num in input_list if num % 2 == 0]\n",
    "    print(\"Even Numbers:\", even_numbers)\n",
    "\n",
    "#define the list \n",
    "sample_list = [1, 2, 3, 4, 5, 6, 7, 8, 9]\n",
    "print_even_numbers(sample_list)"
   ]
  },
  {
   "cell_type": "markdown",
   "metadata": {},
   "source": [
    "Q10"
   ]
  },
  {
   "cell_type": "code",
   "execution_count": 6,
   "metadata": {},
   "outputs": [
    {
     "name": "stdout",
     "output_type": "stream",
     "text": [
      "Is \"madam\" a palindrome? True\n",
      "Is \"nurses run\" a palindrome? True\n",
      "Is \"hello\" a palindrome? False\n"
     ]
    }
   ],
   "source": [
    "def is_palindrome(input_string):\n",
    "    #clean the input string by removing non-alphanumeric characters and converting to lowercase\n",
    "    cleaned_string = ''.join(char.lower() for char in input_string if char.isalnum())\n",
    "    #check if the cleaned string is equal to its reverse, indicating a palindrome\n",
    "    return cleaned_string == cleaned_string[::-1]\n",
    "\n",
    "#example usage:\n",
    "sample_string1 = \"madam\"\n",
    "sample_string2 = \"nurses run\"\n",
    "sample_string3 = \"hello\"\n",
    "#display respective result\n",
    "print(f'Is \"{sample_string1}\" a palindrome? {is_palindrome(sample_string1)}')\n",
    "print(f'Is \"{sample_string2}\" a palindrome? {is_palindrome(sample_string2)}')\n",
    "print(f'Is \"{sample_string3}\" a palindrome? {is_palindrome(sample_string3)}')"
   ]
  },
  {
   "cell_type": "markdown",
   "metadata": {},
   "source": [
    "Q11"
   ]
  },
  {
   "cell_type": "code",
   "execution_count": 4,
   "metadata": {},
   "outputs": [
    {
     "name": "stdout",
     "output_type": "stream",
     "text": [
      "Square List: [1, 4, 9, 16, 25, 36, 49, 64, 81, 100, 121, 144, 169, 196, 225, 256, 289, 324, 361, 400, 441]\n"
     ]
    }
   ],
   "source": [
    "def create_square_list():\n",
    "    \"\"\"\n",
    "    Creates and prints a list where the values are the squares of numbers from 1 to 21 (both included).\n",
    "    Parameters: None\n",
    "    Returns: None\n",
    "    i square iterate from 1 to under 22\n",
    "    \"\"\"\n",
    "    square_list = [i**2 for i in range(1, 22)]\n",
    "    print(\"Square List:\", square_list)\n",
    "\n",
    "# example usage:\n",
    "create_square_list()"
   ]
  }
 ],
 "metadata": {
  "kernelspec": {
   "display_name": "Python 3",
   "language": "python",
   "name": "python3"
  },
  "language_info": {
   "codemirror_mode": {
    "name": "ipython",
    "version": 3
   },
   "file_extension": ".py",
   "mimetype": "text/x-python",
   "name": "python",
   "nbconvert_exporter": "python",
   "pygments_lexer": "ipython3",
   "version": "3.9.6"
  }
 },
 "nbformat": 4,
 "nbformat_minor": 5
}
