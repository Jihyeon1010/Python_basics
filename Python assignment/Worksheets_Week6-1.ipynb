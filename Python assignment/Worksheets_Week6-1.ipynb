{
 "cells": [
  {
   "cell_type": "markdown",
   "source": [
    "Q1"
   ],
   "metadata": {
    "collapsed": false
   },
   "id": "b50e3b37446a0578"
  },
  {
   "cell_type": "code",
   "execution_count": 4,
   "outputs": [
    {
     "name": "stdout",
     "output_type": "stream",
     "text": [
      "You entered: 4.0, 76.0, 4.0\n",
      "The maximum of the three numbers is: 76.0\n"
     ]
    }
   ],
   "source": [
    "def find_max_of_three():\n",
    "    try:\n",
    "        # Get user input for three numbers\n",
    "        num1 = float(input(\"Enter the first number: \"))\n",
    "        num2 = float(input(\"Enter the second number: \"))\n",
    "        num3 = float(input(\"Enter the third number: \"))\n",
    "\n",
    "        # Find and return the maximum of the three numbers\n",
    "        max_number = max(num1, num2, num3)\n",
    "\n",
    "        # Print the entered numbers and the maximum\n",
    "        print(f\"You entered: {num1}, {num2}, {num3}\")\n",
    "        return max_number\n",
    "    except ValueError:\n",
    "        print(\"Invalid input. Please enter numeric values.\")\n",
    "\n",
    "# Call the function and print the result\n",
    "max_number = find_max_of_three()\n",
    "\n",
    "if max_number is not None:\n",
    "    print(f\"The maximum of the three numbers is: {max_number}\")"
   ],
   "metadata": {
    "collapsed": false,
    "ExecuteTime": {
     "end_time": "2023-11-16T13:37:09.626517Z",
     "start_time": "2023-11-16T13:37:05.258432Z"
    }
   },
   "id": "1565a36c5d827852"
  },
  {
   "cell_type": "markdown",
   "source": [
    "Q2"
   ],
   "metadata": {
    "collapsed": false
   },
   "id": "699fd3b54ecc9f7d"
  },
  {
   "cell_type": "code",
   "execution_count": 5,
   "outputs": [
    {
     "name": "stdout",
     "output_type": "stream",
     "text": [
      "The sum of the numbers in the list is: 20.0\n"
     ]
    }
   ],
   "source": [
    "def sum_of_numbers(numbers):\n",
    "    try:\n",
    "        # Convert each element in the list to float and sum them up\n",
    "        total_sum = sum(float(num) for num in numbers)\n",
    "        return total_sum\n",
    "    except ValueError:\n",
    "        print(\"Invalid input. Please ensure all elements in the list are numeric.\")\n",
    "\n",
    "# Example usage:\n",
    "numbers_list = [8, 2, 3, 0, 7]\n",
    "\n",
    "result = sum_of_numbers(numbers_list)\n",
    "\n",
    "if result is not None:\n",
    "    print(f\"The sum of the numbers in the list is: {result}\")"
   ],
   "metadata": {
    "collapsed": false,
    "ExecuteTime": {
     "end_time": "2023-11-16T13:38:51.322354Z",
     "start_time": "2023-11-16T13:38:51.317504Z"
    }
   },
   "id": "fa42ba2b76fd44ca"
  },
  {
   "cell_type": "markdown",
   "source": [
    "Q3"
   ],
   "metadata": {
    "collapsed": false
   },
   "id": "e083d3c279c8f145"
  },
  {
   "cell_type": "code",
   "execution_count": 6,
   "outputs": [
    {
     "name": "stdout",
     "output_type": "stream",
     "text": [
      "The product of the numbers in the list is: -336.0\n"
     ]
    }
   ],
   "source": [
    "def multiply_numbers(numbers):\n",
    "    try:\n",
    "        # Initialize the product to 1 and multiply each element in the list\n",
    "        product = 1\n",
    "        for num in numbers:\n",
    "            product *= float(num)\n",
    "        return product\n",
    "    except ValueError:\n",
    "        print(\"Invalid input. Please ensure all elements in the list are numeric.\")\n",
    "\n",
    "# Example usage:\n",
    "sample_list = [8, 2, 3, -1, 7]\n",
    "\n",
    "result = multiply_numbers(sample_list)\n",
    "\n",
    "if result is not None:\n",
    "    print(f\"The product of the numbers in the list is: {result}\")"
   ],
   "metadata": {
    "collapsed": false,
    "ExecuteTime": {
     "end_time": "2023-11-16T13:40:04.712496Z",
     "start_time": "2023-11-16T13:40:04.707564Z"
    }
   },
   "id": "5d30bc6c88637b89"
  },
  {
   "cell_type": "code",
   "execution_count": null,
   "outputs": [],
   "source": [],
   "metadata": {
    "collapsed": false
   },
   "id": "d7f2b5a063a4215f"
  }
 ],
 "metadata": {
  "kernelspec": {
   "display_name": "Python 3",
   "language": "python",
   "name": "python3"
  },
  "language_info": {
   "codemirror_mode": {
    "name": "ipython",
    "version": 2
   },
   "file_extension": ".py",
   "mimetype": "text/x-python",
   "name": "python",
   "nbconvert_exporter": "python",
   "pygments_lexer": "ipython2",
   "version": "2.7.6"
  }
 },
 "nbformat": 4,
 "nbformat_minor": 5
}
